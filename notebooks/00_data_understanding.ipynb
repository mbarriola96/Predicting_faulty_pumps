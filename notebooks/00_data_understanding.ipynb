{
 "cells": [
  {
   "cell_type": "markdown",
   "metadata": {},
   "source": [
    "# 1. Overview"
   ]
  },
  {
   "cell_type": "markdown",
   "metadata": {},
   "source": [
    "This competition, \"Pump it Up: Data Mining the Water Table,\" hosted on DrivenData, challenges participants to predict the functional status of water pumps across Tanzania using a provided dataset. The contest spans from 2024 and aims to enhance access to clean, potable water by identifying malfunctioning water pumps. Participants are supplied with extensive data on various characteristics of the water points, from construction year to water quality. The primary goal is to classify each water point into one of three categories: functional, functional needs repair, and non-functional. This analysis could guide strategic decisions for improving water access and infrastructure investments in developing regions."
   ]
  },
  {
   "cell_type": "markdown",
   "metadata": {},
   "source": [
    "# 2. Business Understanding"
   ]
  },
  {
   "cell_type": "markdown",
   "metadata": {},
   "source": [
    "The core objective of the \"Pump it Up: Data Mining the Water Table\" competition is to enable the identification of water pumps in Tanzania that are functional, require repairs, or are non-functional. The insights derived from this analysis will directly influence decisions regarding maintenance, investments, and resource allocation in the water infrastructure sector. Stakeholders, including government agencies and NGOs, will use these findings to prioritize and streamline efforts towards ensuring reliable water access. By effectively categorizing water points, the project aims to enhance operational efficiencies and reduce downtime due to pump failures. The ultimate goal is to support sustainable water management practices that can significantly impact public health and economic development in Tanzania.\n",
    "\n",
    "Primary stakeholders for this project are the Tanzanian government and international development organizations focused on improving water access in the region."
   ]
  },
  {
   "cell_type": "markdown",
   "metadata": {},
   "source": [
    "# 3. Data Understanding"
   ]
  },
  {
   "cell_type": "markdown",
   "metadata": {},
   "source": [
    "## 3.1 Data Description"
   ]
  },
  {
   "cell_type": "markdown",
   "metadata": {},
   "source": [
    "Drawing from a comprehensive dataset provided by the \"Pump it Up: Data Mining the Water Table\" competition on DrivenData, our analysis is centered around extensive information regarding water points across Tanzania. This dataset includes:\n",
    "\n",
    "- Geographic data such as location coordinates, altitude, and administrative divisions (region, district, and ward).\n",
    "- Water point specifics such as the type, construction year, funding organization, and managing entity.\n",
    "- Operational data including the water source, extraction type, water quality, and current functional status of each water pump.\n",
    "\n",
    "Our investigation targets three key objectives: identifying patterns of pump functionality, understanding factors leading to pump failures or repairs, and assessing the impacts of management practices on pump operability. By analyzing these elements, we aim to derive actionable insights that can guide infrastructural improvements and strategic investments in water resource management. The outcome of this analysis will inform decision-making processes for stakeholders involved in Tanzanian water supply, optimizing interventions for enhanced water accessibility and reliability. This focused approach empowers our stakeholders to efficiently address the most critical needs, leveraging data-driven strategies to improve public health and community resilience."
   ]
  },
  {
   "cell_type": "markdown",
   "metadata": {},
   "source": [
    "## 3.2 Import Necessary Libraries"
   ]
  },
  {
   "cell_type": "code",
   "execution_count": 1,
   "metadata": {},
   "outputs": [],
   "source": [
    "import pandas as pd\n",
    "import numpy as np\n",
    "import matplotlib.pyplot as plt\n",
    "%matplotlib inline\n",
    "import seaborn as sns\n",
    "import re  # Import regular expressions library\n"
   ]
  },
  {
   "cell_type": "markdown",
   "metadata": {},
   "source": [
    "## 3.3 Define global variables"
   ]
  },
  {
   "cell_type": "code",
   "execution_count": 2,
   "metadata": {},
   "outputs": [],
   "source": [
    "INPUT_PATH_Submission_Format = \"../Data/SubmissionFormat.csv\"\n",
    "INPUT_PATH_Test_set_values = \"../Data/Test_set_values.csv\"\n",
    "INPUT_PATH_Training_set_labels = \"../Data/Training_set_labels.csv\"\n",
    "INPUT_PATH_Training_set_values = \"../Data/Training_set_values.csv\""
   ]
  },
  {
   "cell_type": "markdown",
   "metadata": {},
   "source": [
    "## 3.4 Functions"
   ]
  },
  {
   "cell_type": "code",
   "execution_count": 3,
   "metadata": {},
   "outputs": [],
   "source": [
    "def categorize_funder(funder):\n",
    "    \"\"\"\n",
    "    Categorizes a funder name into specific groups based on keywords.\n",
    "    \n",
    "    Args:\n",
    "    funder (str): A string representing the name of the funder to categorize.\n",
    "    \n",
    "    Returns:\n",
    "    str: A category name representing the type of organization the funder belongs to.\n",
    "    \n",
    "    This function takes a funder name, converts it to lowercase, removes leading/trailing spaces, \n",
    "    and categorizes it into predefined groups like 'Government', 'Religious Organizations', 'NGO',\n",
    "    'International Aid', 'Private Companies', or 'Individual/Other' based on keywords found within the name.\n",
    "    \"\"\"\n",
    "    funder = funder.lower().strip()  # convert to lowercase and strip whitespaces to standardize\n",
    "    if any(x in funder for x in ['government','ministry','gov','minis']): \n",
    "        return 'Government'\n",
    "    elif any(x in funder for x in ['church', 'muslim','mus', 'islamic','islam','catholic', 'rc']):\n",
    "        return 'Religious Organizations'\n",
    "    elif any(x in funder for x in ['ngo', 'foundation', 'fund', 'trust', 'society','socie']):\n",
    "        return 'NGO'\n",
    "    elif any(x in funder for x in ['international','internatio', 'un', 'world bank']):\n",
    "        return 'International Aid'\n",
    "    elif any(x in funder for x in ['ltd', 'company','compa', 'group', 'enterprise']):\n",
    "        return 'Private Companies'\n",
    "    else:\n",
    "        return 'Individual/Other'\n"
   ]
  },
  {
   "cell_type": "code",
   "execution_count": 4,
   "metadata": {},
   "outputs": [],
   "source": [
    "def categorize_installer(installer):\n",
    "    \"\"\"\n",
    "    Categorizes an installer name into specific groups based on keywords.\n",
    "\n",
    "    Args:\n",
    "    installer (str): A string representing the name of the installer to categorize.\n",
    "\n",
    "    Returns:\n",
    "    str: A category name representing the type of entity the installer belongs to.\n",
    "\n",
    "    This function processes an installer name by converting it to lowercase and removing\n",
    "    any leading/trailing whitespace. It categorizes the name into predefined groups such as \n",
    "    'DWE', 'Government', 'Community', 'NGO', 'Private Company', 'Institutional', or 'Other' \n",
    "    based on specific keywords present in the installer's name. This helps in standardizing \n",
    "    installer data for better analysis and insight extraction.\n",
    "    \"\"\"\n",
    "    installer = installer.lower().strip()  # convert to lowercase and strip whitespaces to standardize\n",
    "    if 'dw' in installer:\n",
    "        return 'DWE'\n",
    "    elif any(x in installer for x in ['government', 'govt', 'gove']):\n",
    "        return 'Government'\n",
    "    elif any(x in installer for x in ['resource']):\n",
    "        return 'Other'\n",
    "    elif any(x in installer for x in ['community', 'villagers', 'village','commu']):\n",
    "        return 'Community'\n",
    "    elif any(x in installer for x in ['ngo', 'unicef', 'foundat']):\n",
    "        return 'NGO'\n",
    "    elif 'company' in installer or 'contractor' in installer:\n",
    "        return 'Private Company'\n",
    "    elif any(x in installer for x in ['school','schoo','church', 'rc']):\n",
    "        return 'Institutional'\n",
    "    else:\n",
    "        return 'Other'"
   ]
  },
  {
   "cell_type": "code",
   "execution_count": 5,
   "metadata": {},
   "outputs": [],
   "source": [
    "def group_scheme_management(value):\n",
    "    \"\"\"\n",
    "    Categorizes scheme management types into broader, more generalized groups.\n",
    "\n",
    "    Args:\n",
    "    value (str): A string representing the scheme management type to categorize.\n",
    "\n",
    "    Returns:\n",
    "    str: A generalized category name representing the type of scheme management.\n",
    "\n",
    "    This function takes a specific scheme management type and categorizes it into \n",
    "    more generalized groups such as 'Government', 'Community', 'Private Sector', \n",
    "    'Water Board', or 'Other'. This categorization aids in simplifying the analysis \n",
    "    and understanding of the data by reducing the number of distinct categories, \n",
    "    making trends and patterns more discernible.\n",
    "    \"\"\"\n",
    "    if value in ['VWC', 'Water authority', 'Parastatal']:\n",
    "        return 'Government'\n",
    "    elif value in ['WUG', 'WUA']:\n",
    "        return 'Community'\n",
    "    elif value in ['Company', 'Private operator']:\n",
    "        return 'Private Sector'\n",
    "    elif value == 'Water Board':\n",
    "        return 'Water Board'  # Retain this as a separate category if distinct characteristics are important\n",
    "    else:\n",
    "        return 'Other'\n"
   ]
  },
  {
   "cell_type": "code",
   "execution_count": 6,
   "metadata": {},
   "outputs": [],
   "source": [
    "def clean_text(text):\n",
    "    \"\"\"\n",
    "    Cleans a text string by converting to lowercase, removing non-alphanumeric characters (excluding numbers),\n",
    "    and replacing multiple spaces with a single space. If the input is solely numeric, it returns the input as is.\n",
    "\n",
    "    Args:\n",
    "    text (str or NaN): The text to be cleaned; can be a string, numeric, or NaN for missing values.\n",
    "\n",
    "    Returns:\n",
    "    str or NaN: The cleaned text, with all characters in lowercase, non-alphanumeric characters removed (excluding numbers),\n",
    "                and multiple spaces collapsed to a single space, or the original text if input was numeric or NaN if input was NaN.\n",
    "\n",
    "    This function standardizes a text string by making it lowercase, stripping out any characters that are not letters or spaces,\n",
    "    and then replacing sequences of spaces with a single space, facilitating uniform data processing and analysis. If the input\n",
    "    is numeric, it is assumed to be standardized already and is returned without modification.\n",
    "    \"\"\"\n",
    "    if pd.isna(text):\n",
    "        return text\n",
    "    if isinstance(text, (int, float)):  # Check if the input is numeric\n",
    "        return text\n",
    "    text = text.lower()  # Convert to lowercase\n",
    "    text = ''.join(char for char in text if char.isalpha() or char.isspace())  # Remove special characters and numbers\n",
    "    text = re.sub(r'\\s+', ' ', text)  # Replace multiple spaces with a single space\n",
    "    return text"
   ]
  },
  {
   "cell_type": "code",
   "execution_count": 7,
   "metadata": {},
   "outputs": [],
   "source": [
    "def analyze_numeric_stats_and_plots(df, columns):\n",
    "    \"\"\"\n",
    "    Calculates and prints descriptive statistics, and generates boxplots and histograms for specified numeric columns in a DataFrame.\n",
    "\n",
    "    Args:\n",
    "    df (pd.DataFrame): The DataFrame containing the data.\n",
    "    columns (list): List of numeric column names to analyze.\n",
    "\n",
    "    The function computes the mean, median, standard deviation, coefficient of variation, skewness,\n",
    "    kurtosis, and quartiles for the specified columns. It also generates a boxplot and histogram for each column.\n",
    "    \"\"\"\n",
    "    for column in columns:\n",
    "        if column in df.columns and pd.api.types.is_numeric_dtype(df[column]):\n",
    "            print(f\"Stats for {column}:\")\n",
    "            \n",
    "            # Calculate statistics\n",
    "            max_value = df[column].max()\n",
    "            min_value = df[column].min()\n",
    "            mean = df[column].mean()\n",
    "            median = df[column].median()\n",
    "            std_dev = df[column].std()\n",
    "            coeff_variation = std_dev / mean if mean != 0 else np.nan\n",
    "            skewness = df[column].skew()\n",
    "            kurtosis = df[column].kurtosis()\n",
    "            quartiles = df[column].quantile([0.25, 0.5, 0.75])\n",
    "            \n",
    "            print(f\"Max: {max_value}\")\n",
    "            print(f\"Min: {min_value}\")\n",
    "            print(f\"Mean: {mean}\")\n",
    "            print(f\"Median: {median}\")\n",
    "            print(f\"Standard Deviation: {std_dev}\")\n",
    "            print(f\"Coefficient of Variation: {coeff_variation}\")\n",
    "            print(f\"Skewness: {skewness}\")\n",
    "            print(f\"Kurtosis: {kurtosis}\")\n",
    "            print(f\"25th percentile (Q1): {quartiles[0.25]}\")\n",
    "            print(f\"50th percentile (Median): {quartiles[0.5]}\")\n",
    "            print(f\"75th percentile (Q3): {quartiles[0.75]}\")\n",
    "            \n",
    "            # Plotting\n",
    "            plt.figure(figsize=(12, 6))\n",
    "            \n",
    "            # Boxplot\n",
    "            plt.subplot(1, 2, 1)  # 1 row, 2 columns, 1st subplot\n",
    "            sns.boxplot(y=df[column])\n",
    "            plt.title(f'Boxplot of {column}')\n",
    "            \n",
    "            # Histogram\n",
    "            plt.subplot(1, 2, 2)  # 1 row, 2 columns, 2nd subplot\n",
    "            sns.histplot(df[column], kde=False, bins=100)\n",
    "            plt.title(f'Histogram of {column}')\n",
    "            \n",
    "            plt.show()"
   ]
  },
  {
   "cell_type": "code",
   "execution_count": 8,
   "metadata": {},
   "outputs": [],
   "source": [
    "def plot_categorical_proportions(df):\n",
    "    \"\"\"\n",
    "    Plots bar charts for each categorical variable in a DataFrame, showing the proportion of each category,\n",
    "    ordered by proportion in descending order. Each bar is labeled with its percentage value.\n",
    "\n",
    "    Args:\n",
    "    df (pd.DataFrame): The DataFrame to analyze.\n",
    "\n",
    "    This function identifies categorical variables, calculates the proportion of each category, sorts them,\n",
    "    and plots a bar chart for each categorical variable. Labels on the bars display the percentage proportion of each category.\n",
    "    \"\"\"\n",
    "    # Identifying categorical columns in the DataFrame\n",
    "    categorical_columns = df.select_dtypes(include=['object', 'category']).columns\n",
    "    \n",
    "    for col in categorical_columns:\n",
    "        # Calculating proportions\n",
    "        value_counts = df[col].value_counts(normalize=True).sort_values(ascending=False)\n",
    "        percentages = value_counts * 100  # Convert proportions to percentages\n",
    "        \n",
    "        # Plotting\n",
    "        plt.figure(figsize=(10, 6))\n",
    "        ax = percentages.plot(kind='bar')\n",
    "        ax.set_title(f'Proportion of Categories in {col}')\n",
    "        ax.set_ylabel('Percentage')\n",
    "        \n",
    "        # Adding percentage labels on the bars\n",
    "        for p in ax.patches:\n",
    "            ax.annotate(f'{p.get_height():.2f}%', (p.get_x() + p.get_width() / 2., p.get_height()),\n",
    "                        ha='center', va='center', xytext=(0, 10), textcoords='offset points')\n",
    "\n",
    "        plt.show()\n"
   ]
  },
  {
   "cell_type": "code",
   "execution_count": 9,
   "metadata": {},
   "outputs": [],
   "source": [
    "def plot_categorical_proportions(df, columns):\n",
    "    \"\"\"\n",
    "    Plots the proportions of categories in specified categorical columns of a DataFrame as bar charts.\n",
    "    \n",
    "    Args:\n",
    "        df (pd.DataFrame): The DataFrame containing the data.\n",
    "        columns (list of str): List of categorical column names to plot.\n",
    "    \"\"\"\n",
    "    for col in columns:\n",
    "        # Calculating proportions\n",
    "        value_counts = df[col].value_counts(normalize=True).sort_values(ascending=False)\n",
    "        percentages = value_counts * 100  # Convert proportions to percentages\n",
    "\n",
    "        # Plotting\n",
    "        plt.figure(figsize=(10, 6))\n",
    "        ax = percentages.plot(kind='bar')\n",
    "        ax.set_title(f'Proportion of Categories in {col}')\n",
    "        ax.set_ylabel('Percentage')\n",
    "\n",
    "        # Adding percentage labels on the bars\n",
    "        for p in ax.patches:\n",
    "            ax.annotate(f'{p.get_height():.2f}%', (p.get_x() + p.get_width() / 2., p.get_height()),\n",
    "                        ha='center', va='center', xytext=(0, 10), textcoords='offset points')\n",
    "\n",
    "        plt.show()\n"
   ]
  },
  {
   "cell_type": "code",
   "execution_count": 10,
   "metadata": {},
   "outputs": [],
   "source": [
    "def plot_grouped_charts(df, status_col, cols):\n",
    "    \"\"\"\n",
    "    Creates combined plots for each column in the DataFrame based on their data type, grouped by a specified status column.\n",
    "    For numeric columns, histograms for all statuses are combined in one plot, and boxplots for all statuses are combined in another.\n",
    "    For categorical columns, grouped bar charts are created.\n",
    "    \n",
    "    Args:\n",
    "        df (pd.DataFrame): The DataFrame containing the data.\n",
    "        status_col (str): The name of the column to group data by.\n",
    "        cols (list of str): List of column names to plot, both categorical and numerical.\n",
    "    \"\"\"\n",
    "    unique_statuses = df[status_col]. unique()\n",
    "    colors = plt.get_cmap('tab10')  # Fetches a colormap with distinct colors\n",
    "\n",
    "    for col in cols:\n",
    "        if df[col].dtype in ['int64', 'float64']:  # Numeric Columns\n",
    "            plt.figure(figsize=(12, 6))\n",
    "            \n",
    "            # Histogram for all statuses\n",
    "            for i, status in enumerate(unique_statuses):\n",
    "                sns.histplot(df[df[status_col] == status][col], kde=True, element='step', \n",
    "                             stat='density', label=str(status), color=colors(i))\n",
    "            \n",
    "            plt.title(f'Combined Histogram of {col} by {status_col}')\n",
    "            plt.legend(title=status_col)\n",
    "            plt.show()\n",
    "            \n",
    "            # Boxplot for all statuses\n",
    "            plt.figure(figsize=(12, 6))\n",
    "            sns.boxplot(x=status_col, y=col, data=df, palette='tab10')\n",
    "            plt.title(f'Combined Boxplot of {col} by {status_col}')\n",
    "            plt.show()\n",
    "        \n",
    "        elif df[col].dtype == 'object':  # Categorical Columns\n",
    "            plt.figure(figsize=(10, 6))\n",
    "            sns.countplot(data=df, x=status_col, hue=col)\n",
    "            plt.title(f'Grouped Bar Chart of {status_col} by {col}')\n",
    "            plt.ylabel('Count')\n",
    "            plt.xlabel(status_col)\n",
    "            plt.legend(title=col, loc='upper right')\n",
    "            plt.xticks(rotation=45)\n",
    "            plt.show()\n",
    "\n",
    "\n"
   ]
  },
  {
   "cell_type": "code",
   "execution_count": 11,
   "metadata": {},
   "outputs": [],
   "source": [
    "def generate_proportion_contingency_tables(df, status_col, categorical_cols):\n",
    "    \"\"\"\n",
    "    Generates two-way contingency tables of proportions for the specified status column against a list of provided categorical columns in the DataFrame.\n",
    "    \n",
    "    Args:\n",
    "        df (pd.DataFrame): The DataFrame containing the data.\n",
    "        status_col (str): The column name to use as one axis of the contingency tables, typically representing different statuses.\n",
    "        categorical_cols (list of str): List of categorical column names to include in the contingency tables.\n",
    "    \n",
    "    Returns:\n",
    "        dict: A dictionary of pandas DataFrame objects where each key is the column name and the value is the corresponding contingency table as proportions.\n",
    "    \"\"\"\n",
    "    tables = {}\n",
    "    for col in categorical_cols:\n",
    "        if col != status_col:  # Ensure the status column is not included in the analysis\n",
    "            # Compute the contingency table with proportions normalized over all rows\n",
    "            contingency_table = pd.crosstab(df[status_col], df[col], normalize='index')\n",
    "            contingency_table_df = pd.DataFrame(contingency_table)\n",
    "            contingency_table_df = contingency_table_df.round(4) * 100  # Convert proportions to percentages and round off\n",
    "            tables[col] = contingency_table_df\n",
    "    \n",
    "    return tables\n"
   ]
  },
  {
   "cell_type": "markdown",
   "metadata": {},
   "source": [
    "## 3.5 Code"
   ]
  },
  {
   "cell_type": "markdown",
   "metadata": {},
   "source": [
    "### 3.5.1 Exploratory Analysis"
   ]
  },
  {
   "cell_type": "markdown",
   "metadata": {},
   "source": [
    "#### 3.5.1.1 Looking at the train and labels dataset"
   ]
  },
  {
   "cell_type": "code",
   "execution_count": 12,
   "metadata": {},
   "outputs": [
    {
     "data": {
      "text/html": [
       "<div>\n",
       "<style scoped>\n",
       "    .dataframe tbody tr th:only-of-type {\n",
       "        vertical-align: middle;\n",
       "    }\n",
       "\n",
       "    .dataframe tbody tr th {\n",
       "        vertical-align: top;\n",
       "    }\n",
       "\n",
       "    .dataframe thead th {\n",
       "        text-align: right;\n",
       "    }\n",
       "</style>\n",
       "<table border=\"1\" class=\"dataframe\">\n",
       "  <thead>\n",
       "    <tr style=\"text-align: right;\">\n",
       "      <th></th>\n",
       "      <th>id</th>\n",
       "      <th>amount_tsh</th>\n",
       "      <th>date_recorded</th>\n",
       "      <th>funder</th>\n",
       "      <th>gps_height</th>\n",
       "      <th>installer</th>\n",
       "      <th>longitude</th>\n",
       "      <th>latitude</th>\n",
       "      <th>wpt_name</th>\n",
       "      <th>num_private</th>\n",
       "      <th>...</th>\n",
       "      <th>payment_type</th>\n",
       "      <th>water_quality</th>\n",
       "      <th>quality_group</th>\n",
       "      <th>quantity</th>\n",
       "      <th>quantity_group</th>\n",
       "      <th>source</th>\n",
       "      <th>source_type</th>\n",
       "      <th>source_class</th>\n",
       "      <th>waterpoint_type</th>\n",
       "      <th>waterpoint_type_group</th>\n",
       "    </tr>\n",
       "  </thead>\n",
       "  <tbody>\n",
       "    <tr>\n",
       "      <th>0</th>\n",
       "      <td>69572</td>\n",
       "      <td>6000.0</td>\n",
       "      <td>2011-03-14</td>\n",
       "      <td>Roman</td>\n",
       "      <td>1390</td>\n",
       "      <td>Roman</td>\n",
       "      <td>34.938093</td>\n",
       "      <td>-9.856322</td>\n",
       "      <td>none</td>\n",
       "      <td>0</td>\n",
       "      <td>...</td>\n",
       "      <td>annually</td>\n",
       "      <td>soft</td>\n",
       "      <td>good</td>\n",
       "      <td>enough</td>\n",
       "      <td>enough</td>\n",
       "      <td>spring</td>\n",
       "      <td>spring</td>\n",
       "      <td>groundwater</td>\n",
       "      <td>communal standpipe</td>\n",
       "      <td>communal standpipe</td>\n",
       "    </tr>\n",
       "    <tr>\n",
       "      <th>1</th>\n",
       "      <td>8776</td>\n",
       "      <td>0.0</td>\n",
       "      <td>2013-03-06</td>\n",
       "      <td>Grumeti</td>\n",
       "      <td>1399</td>\n",
       "      <td>GRUMETI</td>\n",
       "      <td>34.698766</td>\n",
       "      <td>-2.147466</td>\n",
       "      <td>Zahanati</td>\n",
       "      <td>0</td>\n",
       "      <td>...</td>\n",
       "      <td>never pay</td>\n",
       "      <td>soft</td>\n",
       "      <td>good</td>\n",
       "      <td>insufficient</td>\n",
       "      <td>insufficient</td>\n",
       "      <td>rainwater harvesting</td>\n",
       "      <td>rainwater harvesting</td>\n",
       "      <td>surface</td>\n",
       "      <td>communal standpipe</td>\n",
       "      <td>communal standpipe</td>\n",
       "    </tr>\n",
       "    <tr>\n",
       "      <th>2</th>\n",
       "      <td>34310</td>\n",
       "      <td>25.0</td>\n",
       "      <td>2013-02-25</td>\n",
       "      <td>Lottery Club</td>\n",
       "      <td>686</td>\n",
       "      <td>World vision</td>\n",
       "      <td>37.460664</td>\n",
       "      <td>-3.821329</td>\n",
       "      <td>Kwa Mahundi</td>\n",
       "      <td>0</td>\n",
       "      <td>...</td>\n",
       "      <td>per bucket</td>\n",
       "      <td>soft</td>\n",
       "      <td>good</td>\n",
       "      <td>enough</td>\n",
       "      <td>enough</td>\n",
       "      <td>dam</td>\n",
       "      <td>dam</td>\n",
       "      <td>surface</td>\n",
       "      <td>communal standpipe multiple</td>\n",
       "      <td>communal standpipe</td>\n",
       "    </tr>\n",
       "    <tr>\n",
       "      <th>3</th>\n",
       "      <td>67743</td>\n",
       "      <td>0.0</td>\n",
       "      <td>2013-01-28</td>\n",
       "      <td>Unicef</td>\n",
       "      <td>263</td>\n",
       "      <td>UNICEF</td>\n",
       "      <td>38.486161</td>\n",
       "      <td>-11.155298</td>\n",
       "      <td>Zahanati Ya Nanyumbu</td>\n",
       "      <td>0</td>\n",
       "      <td>...</td>\n",
       "      <td>never pay</td>\n",
       "      <td>soft</td>\n",
       "      <td>good</td>\n",
       "      <td>dry</td>\n",
       "      <td>dry</td>\n",
       "      <td>machine dbh</td>\n",
       "      <td>borehole</td>\n",
       "      <td>groundwater</td>\n",
       "      <td>communal standpipe multiple</td>\n",
       "      <td>communal standpipe</td>\n",
       "    </tr>\n",
       "    <tr>\n",
       "      <th>4</th>\n",
       "      <td>19728</td>\n",
       "      <td>0.0</td>\n",
       "      <td>2011-07-13</td>\n",
       "      <td>Action In A</td>\n",
       "      <td>0</td>\n",
       "      <td>Artisan</td>\n",
       "      <td>31.130847</td>\n",
       "      <td>-1.825359</td>\n",
       "      <td>Shuleni</td>\n",
       "      <td>0</td>\n",
       "      <td>...</td>\n",
       "      <td>never pay</td>\n",
       "      <td>soft</td>\n",
       "      <td>good</td>\n",
       "      <td>seasonal</td>\n",
       "      <td>seasonal</td>\n",
       "      <td>rainwater harvesting</td>\n",
       "      <td>rainwater harvesting</td>\n",
       "      <td>surface</td>\n",
       "      <td>communal standpipe</td>\n",
       "      <td>communal standpipe</td>\n",
       "    </tr>\n",
       "  </tbody>\n",
       "</table>\n",
       "<p>5 rows × 40 columns</p>\n",
       "</div>"
      ],
      "text/plain": [
       "      id  amount_tsh date_recorded        funder  gps_height     installer  \\\n",
       "0  69572      6000.0    2011-03-14         Roman        1390         Roman   \n",
       "1   8776         0.0    2013-03-06       Grumeti        1399       GRUMETI   \n",
       "2  34310        25.0    2013-02-25  Lottery Club         686  World vision   \n",
       "3  67743         0.0    2013-01-28        Unicef         263        UNICEF   \n",
       "4  19728         0.0    2011-07-13   Action In A           0       Artisan   \n",
       "\n",
       "   longitude   latitude              wpt_name  num_private  ... payment_type  \\\n",
       "0  34.938093  -9.856322                  none            0  ...     annually   \n",
       "1  34.698766  -2.147466              Zahanati            0  ...    never pay   \n",
       "2  37.460664  -3.821329           Kwa Mahundi            0  ...   per bucket   \n",
       "3  38.486161 -11.155298  Zahanati Ya Nanyumbu            0  ...    never pay   \n",
       "4  31.130847  -1.825359               Shuleni            0  ...    never pay   \n",
       "\n",
       "  water_quality quality_group      quantity  quantity_group  \\\n",
       "0          soft          good        enough          enough   \n",
       "1          soft          good  insufficient    insufficient   \n",
       "2          soft          good        enough          enough   \n",
       "3          soft          good           dry             dry   \n",
       "4          soft          good      seasonal        seasonal   \n",
       "\n",
       "                 source           source_type  source_class  \\\n",
       "0                spring                spring   groundwater   \n",
       "1  rainwater harvesting  rainwater harvesting       surface   \n",
       "2                   dam                   dam       surface   \n",
       "3           machine dbh              borehole   groundwater   \n",
       "4  rainwater harvesting  rainwater harvesting       surface   \n",
       "\n",
       "               waterpoint_type waterpoint_type_group  \n",
       "0           communal standpipe    communal standpipe  \n",
       "1           communal standpipe    communal standpipe  \n",
       "2  communal standpipe multiple    communal standpipe  \n",
       "3  communal standpipe multiple    communal standpipe  \n",
       "4           communal standpipe    communal standpipe  \n",
       "\n",
       "[5 rows x 40 columns]"
      ]
     },
     "execution_count": 12,
     "metadata": {},
     "output_type": "execute_result"
    }
   ],
   "source": [
    "df_train = pd.read_csv(INPUT_PATH_Training_set_values)\n",
    "df_train.head()"
   ]
  },
  {
   "cell_type": "code",
   "execution_count": 13,
   "metadata": {},
   "outputs": [
    {
     "data": {
      "text/plain": [
       "(59400, 40)"
      ]
     },
     "execution_count": 13,
     "metadata": {},
     "output_type": "execute_result"
    }
   ],
   "source": [
    "df_train.shape"
   ]
  },
  {
   "cell_type": "code",
   "execution_count": 14,
   "metadata": {},
   "outputs": [
    {
     "data": {
      "text/html": [
       "<div>\n",
       "<style scoped>\n",
       "    .dataframe tbody tr th:only-of-type {\n",
       "        vertical-align: middle;\n",
       "    }\n",
       "\n",
       "    .dataframe tbody tr th {\n",
       "        vertical-align: top;\n",
       "    }\n",
       "\n",
       "    .dataframe thead th {\n",
       "        text-align: right;\n",
       "    }\n",
       "</style>\n",
       "<table border=\"1\" class=\"dataframe\">\n",
       "  <thead>\n",
       "    <tr style=\"text-align: right;\">\n",
       "      <th></th>\n",
       "      <th>id</th>\n",
       "      <th>status_group</th>\n",
       "    </tr>\n",
       "  </thead>\n",
       "  <tbody>\n",
       "    <tr>\n",
       "      <th>0</th>\n",
       "      <td>69572</td>\n",
       "      <td>functional</td>\n",
       "    </tr>\n",
       "    <tr>\n",
       "      <th>1</th>\n",
       "      <td>8776</td>\n",
       "      <td>functional</td>\n",
       "    </tr>\n",
       "    <tr>\n",
       "      <th>2</th>\n",
       "      <td>34310</td>\n",
       "      <td>functional</td>\n",
       "    </tr>\n",
       "    <tr>\n",
       "      <th>3</th>\n",
       "      <td>67743</td>\n",
       "      <td>non functional</td>\n",
       "    </tr>\n",
       "    <tr>\n",
       "      <th>4</th>\n",
       "      <td>19728</td>\n",
       "      <td>functional</td>\n",
       "    </tr>\n",
       "  </tbody>\n",
       "</table>\n",
       "</div>"
      ],
      "text/plain": [
       "      id    status_group\n",
       "0  69572      functional\n",
       "1   8776      functional\n",
       "2  34310      functional\n",
       "3  67743  non functional\n",
       "4  19728      functional"
      ]
     },
     "execution_count": 14,
     "metadata": {},
     "output_type": "execute_result"
    }
   ],
   "source": [
    "df_labels = pd.read_csv(INPUT_PATH_Training_set_labels)\n",
    "df_labels.head()"
   ]
  },
  {
   "cell_type": "code",
   "execution_count": 15,
   "metadata": {},
   "outputs": [
    {
     "data": {
      "text/plain": [
       "(59400, 2)"
      ]
     },
     "execution_count": 15,
     "metadata": {},
     "output_type": "execute_result"
    }
   ],
   "source": [
    "df_labels.shape"
   ]
  },
  {
   "cell_type": "markdown",
   "metadata": {},
   "source": [
    "#### 3.5.1.2 Merge both datasets"
   ]
  },
  {
   "cell_type": "code",
   "execution_count": 16,
   "metadata": {},
   "outputs": [
    {
     "data": {
      "text/html": [
       "<div>\n",
       "<style scoped>\n",
       "    .dataframe tbody tr th:only-of-type {\n",
       "        vertical-align: middle;\n",
       "    }\n",
       "\n",
       "    .dataframe tbody tr th {\n",
       "        vertical-align: top;\n",
       "    }\n",
       "\n",
       "    .dataframe thead th {\n",
       "        text-align: right;\n",
       "    }\n",
       "</style>\n",
       "<table border=\"1\" class=\"dataframe\">\n",
       "  <thead>\n",
       "    <tr style=\"text-align: right;\">\n",
       "      <th></th>\n",
       "      <th>id</th>\n",
       "      <th>amount_tsh</th>\n",
       "      <th>date_recorded</th>\n",
       "      <th>funder</th>\n",
       "      <th>gps_height</th>\n",
       "      <th>installer</th>\n",
       "      <th>longitude</th>\n",
       "      <th>latitude</th>\n",
       "      <th>wpt_name</th>\n",
       "      <th>num_private</th>\n",
       "      <th>...</th>\n",
       "      <th>water_quality</th>\n",
       "      <th>quality_group</th>\n",
       "      <th>quantity</th>\n",
       "      <th>quantity_group</th>\n",
       "      <th>source</th>\n",
       "      <th>source_type</th>\n",
       "      <th>source_class</th>\n",
       "      <th>waterpoint_type</th>\n",
       "      <th>waterpoint_type_group</th>\n",
       "      <th>status_group</th>\n",
       "    </tr>\n",
       "  </thead>\n",
       "  <tbody>\n",
       "    <tr>\n",
       "      <th>0</th>\n",
       "      <td>69572</td>\n",
       "      <td>6000.0</td>\n",
       "      <td>2011-03-14</td>\n",
       "      <td>Roman</td>\n",
       "      <td>1390</td>\n",
       "      <td>Roman</td>\n",
       "      <td>34.938093</td>\n",
       "      <td>-9.856322</td>\n",
       "      <td>none</td>\n",
       "      <td>0</td>\n",
       "      <td>...</td>\n",
       "      <td>soft</td>\n",
       "      <td>good</td>\n",
       "      <td>enough</td>\n",
       "      <td>enough</td>\n",
       "      <td>spring</td>\n",
       "      <td>spring</td>\n",
       "      <td>groundwater</td>\n",
       "      <td>communal standpipe</td>\n",
       "      <td>communal standpipe</td>\n",
       "      <td>functional</td>\n",
       "    </tr>\n",
       "    <tr>\n",
       "      <th>1</th>\n",
       "      <td>8776</td>\n",
       "      <td>0.0</td>\n",
       "      <td>2013-03-06</td>\n",
       "      <td>Grumeti</td>\n",
       "      <td>1399</td>\n",
       "      <td>GRUMETI</td>\n",
       "      <td>34.698766</td>\n",
       "      <td>-2.147466</td>\n",
       "      <td>Zahanati</td>\n",
       "      <td>0</td>\n",
       "      <td>...</td>\n",
       "      <td>soft</td>\n",
       "      <td>good</td>\n",
       "      <td>insufficient</td>\n",
       "      <td>insufficient</td>\n",
       "      <td>rainwater harvesting</td>\n",
       "      <td>rainwater harvesting</td>\n",
       "      <td>surface</td>\n",
       "      <td>communal standpipe</td>\n",
       "      <td>communal standpipe</td>\n",
       "      <td>functional</td>\n",
       "    </tr>\n",
       "    <tr>\n",
       "      <th>2</th>\n",
       "      <td>34310</td>\n",
       "      <td>25.0</td>\n",
       "      <td>2013-02-25</td>\n",
       "      <td>Lottery Club</td>\n",
       "      <td>686</td>\n",
       "      <td>World vision</td>\n",
       "      <td>37.460664</td>\n",
       "      <td>-3.821329</td>\n",
       "      <td>Kwa Mahundi</td>\n",
       "      <td>0</td>\n",
       "      <td>...</td>\n",
       "      <td>soft</td>\n",
       "      <td>good</td>\n",
       "      <td>enough</td>\n",
       "      <td>enough</td>\n",
       "      <td>dam</td>\n",
       "      <td>dam</td>\n",
       "      <td>surface</td>\n",
       "      <td>communal standpipe multiple</td>\n",
       "      <td>communal standpipe</td>\n",
       "      <td>functional</td>\n",
       "    </tr>\n",
       "    <tr>\n",
       "      <th>3</th>\n",
       "      <td>67743</td>\n",
       "      <td>0.0</td>\n",
       "      <td>2013-01-28</td>\n",
       "      <td>Unicef</td>\n",
       "      <td>263</td>\n",
       "      <td>UNICEF</td>\n",
       "      <td>38.486161</td>\n",
       "      <td>-11.155298</td>\n",
       "      <td>Zahanati Ya Nanyumbu</td>\n",
       "      <td>0</td>\n",
       "      <td>...</td>\n",
       "      <td>soft</td>\n",
       "      <td>good</td>\n",
       "      <td>dry</td>\n",
       "      <td>dry</td>\n",
       "      <td>machine dbh</td>\n",
       "      <td>borehole</td>\n",
       "      <td>groundwater</td>\n",
       "      <td>communal standpipe multiple</td>\n",
       "      <td>communal standpipe</td>\n",
       "      <td>non functional</td>\n",
       "    </tr>\n",
       "    <tr>\n",
       "      <th>4</th>\n",
       "      <td>19728</td>\n",
       "      <td>0.0</td>\n",
       "      <td>2011-07-13</td>\n",
       "      <td>Action In A</td>\n",
       "      <td>0</td>\n",
       "      <td>Artisan</td>\n",
       "      <td>31.130847</td>\n",
       "      <td>-1.825359</td>\n",
       "      <td>Shuleni</td>\n",
       "      <td>0</td>\n",
       "      <td>...</td>\n",
       "      <td>soft</td>\n",
       "      <td>good</td>\n",
       "      <td>seasonal</td>\n",
       "      <td>seasonal</td>\n",
       "      <td>rainwater harvesting</td>\n",
       "      <td>rainwater harvesting</td>\n",
       "      <td>surface</td>\n",
       "      <td>communal standpipe</td>\n",
       "      <td>communal standpipe</td>\n",
       "      <td>functional</td>\n",
       "    </tr>\n",
       "  </tbody>\n",
       "</table>\n",
       "<p>5 rows × 41 columns</p>\n",
       "</div>"
      ],
      "text/plain": [
       "      id  amount_tsh date_recorded        funder  gps_height     installer  \\\n",
       "0  69572      6000.0    2011-03-14         Roman        1390         Roman   \n",
       "1   8776         0.0    2013-03-06       Grumeti        1399       GRUMETI   \n",
       "2  34310        25.0    2013-02-25  Lottery Club         686  World vision   \n",
       "3  67743         0.0    2013-01-28        Unicef         263        UNICEF   \n",
       "4  19728         0.0    2011-07-13   Action In A           0       Artisan   \n",
       "\n",
       "   longitude   latitude              wpt_name  num_private  ... water_quality  \\\n",
       "0  34.938093  -9.856322                  none            0  ...          soft   \n",
       "1  34.698766  -2.147466              Zahanati            0  ...          soft   \n",
       "2  37.460664  -3.821329           Kwa Mahundi            0  ...          soft   \n",
       "3  38.486161 -11.155298  Zahanati Ya Nanyumbu            0  ...          soft   \n",
       "4  31.130847  -1.825359               Shuleni            0  ...          soft   \n",
       "\n",
       "  quality_group      quantity  quantity_group                source  \\\n",
       "0          good        enough          enough                spring   \n",
       "1          good  insufficient    insufficient  rainwater harvesting   \n",
       "2          good        enough          enough                   dam   \n",
       "3          good           dry             dry           machine dbh   \n",
       "4          good      seasonal        seasonal  rainwater harvesting   \n",
       "\n",
       "            source_type source_class              waterpoint_type  \\\n",
       "0                spring  groundwater           communal standpipe   \n",
       "1  rainwater harvesting      surface           communal standpipe   \n",
       "2                   dam      surface  communal standpipe multiple   \n",
       "3              borehole  groundwater  communal standpipe multiple   \n",
       "4  rainwater harvesting      surface           communal standpipe   \n",
       "\n",
       "  waterpoint_type_group    status_group  \n",
       "0    communal standpipe      functional  \n",
       "1    communal standpipe      functional  \n",
       "2    communal standpipe      functional  \n",
       "3    communal standpipe  non functional  \n",
       "4    communal standpipe      functional  \n",
       "\n",
       "[5 rows x 41 columns]"
      ]
     },
     "execution_count": 16,
     "metadata": {},
     "output_type": "execute_result"
    }
   ],
   "source": [
    "df_train_merge = pd.merge(df_train, df_labels)\n",
    "df_train_merge.head()"
   ]
  },
  {
   "cell_type": "code",
   "execution_count": 17,
   "metadata": {},
   "outputs": [
    {
     "data": {
      "text/plain": [
       "(59400, 41)"
      ]
     },
     "execution_count": 17,
     "metadata": {},
     "output_type": "execute_result"
    }
   ],
   "source": [
    "df_train_merge.shape"
   ]
  },
  {
   "cell_type": "markdown",
   "metadata": {},
   "source": [
    "As we can see above the merge has been done correctly because the number of rows is intact and the training set values has just one more column containing the training set labels"
   ]
  },
  {
   "cell_type": "markdown",
   "metadata": {},
   "source": [
    "#### 3.5.1.3 - Data Types"
   ]
  },
  {
   "cell_type": "code",
   "execution_count": 18,
   "metadata": {
    "scrolled": false
   },
   "outputs": [
    {
     "data": {
      "text/plain": [
       "id                         int64\n",
       "amount_tsh               float64\n",
       "date_recorded             object\n",
       "funder                    object\n",
       "gps_height                 int64\n",
       "installer                 object\n",
       "longitude                float64\n",
       "latitude                 float64\n",
       "wpt_name                  object\n",
       "num_private                int64\n",
       "basin                     object\n",
       "subvillage                object\n",
       "region                    object\n",
       "region_code                int64\n",
       "district_code              int64\n",
       "lga                       object\n",
       "ward                      object\n",
       "population                 int64\n",
       "public_meeting            object\n",
       "recorded_by               object\n",
       "scheme_management         object\n",
       "scheme_name               object\n",
       "permit                    object\n",
       "construction_year          int64\n",
       "extraction_type           object\n",
       "extraction_type_group     object\n",
       "extraction_type_class     object\n",
       "management                object\n",
       "management_group          object\n",
       "payment                   object\n",
       "payment_type              object\n",
       "water_quality             object\n",
       "quality_group             object\n",
       "quantity                  object\n",
       "quantity_group            object\n",
       "source                    object\n",
       "source_type               object\n",
       "source_class              object\n",
       "waterpoint_type           object\n",
       "waterpoint_type_group     object\n",
       "status_group              object\n",
       "dtype: object"
      ]
     },
     "execution_count": 18,
     "metadata": {},
     "output_type": "execute_result"
    }
   ],
   "source": [
    "# Let's start by having a look at the type of each column\n",
    "df_train_merge.dtypes"
   ]
  },
  {
   "cell_type": "markdown",
   "metadata": {},
   "source": [
    "#### 3.5.1.4 - Null Values"
   ]
  },
  {
   "cell_type": "code",
   "execution_count": 19,
   "metadata": {},
   "outputs": [
    {
     "data": {
      "text/plain": [
       "id                        0.000000\n",
       "amount_tsh                0.000000\n",
       "date_recorded             0.000000\n",
       "funder                    6.119529\n",
       "gps_height                0.000000\n",
       "installer                 6.153199\n",
       "longitude                 0.000000\n",
       "latitude                  0.000000\n",
       "wpt_name                  0.000000\n",
       "num_private               0.000000\n",
       "basin                     0.000000\n",
       "subvillage                0.624579\n",
       "region                    0.000000\n",
       "region_code               0.000000\n",
       "district_code             0.000000\n",
       "lga                       0.000000\n",
       "ward                      0.000000\n",
       "population                0.000000\n",
       "public_meeting            5.612795\n",
       "recorded_by               0.000000\n",
       "scheme_management         6.526936\n",
       "scheme_name              47.417508\n",
       "permit                    5.144781\n",
       "construction_year         0.000000\n",
       "extraction_type           0.000000\n",
       "extraction_type_group     0.000000\n",
       "extraction_type_class     0.000000\n",
       "management                0.000000\n",
       "management_group          0.000000\n",
       "payment                   0.000000\n",
       "payment_type              0.000000\n",
       "water_quality             0.000000\n",
       "quality_group             0.000000\n",
       "quantity                  0.000000\n",
       "quantity_group            0.000000\n",
       "source                    0.000000\n",
       "source_type               0.000000\n",
       "source_class              0.000000\n",
       "waterpoint_type           0.000000\n",
       "waterpoint_type_group     0.000000\n",
       "status_group              0.000000\n",
       "dtype: float64"
      ]
     },
     "execution_count": 19,
     "metadata": {},
     "output_type": "execute_result"
    }
   ],
   "source": [
    "# Let's see how the proportion of null values\n",
    "(df_train_merge.isna().sum()/len(df_train_merge))*100"
   ]
  },
  {
   "cell_type": "markdown",
   "metadata": {},
   "source": [
    "In this case, we are going to fill NaN values just for categorical variables. In the next scrip (01_data_preprocessing) is where we will fill NaN values with calculated values such as the mode, mean, etc. "
   ]
  },
  {
   "cell_type": "markdown",
   "metadata": {},
   "source": [
    "**Column 'funder'**"
   ]
  },
  {
   "cell_type": "code",
   "execution_count": 20,
   "metadata": {},
   "outputs": [
    {
     "data": {
      "image/png": "[encoded data removed]",
      "text/plain": [
       "<Figure size 720x432 with 1 Axes>"
      ]
     },
     "metadata": {
      "needs_background": "light"
     },
     "output_type": "display_data"
    }
   ],
   "source": [
    "# Calculate value counts and then the proportions\n",
    "funder_value_counts = df_train_merge['funder'].value_counts(normalize=True)\n",
    "\n",
    "# Create a bar plot\n",
    "plt.figure(figsize=(10,6))  # Sets the size of the figure\n",
    "funder_value_counts.head(20).plot(kind='bar')  # Display the top 20 funders for readability\n",
    "\n",
    "# Set the title and labels\n",
    "plt.title('Top 20 Funders by Proportion of Projects Funded')\n",
    "plt.xlabel('Funder')\n",
    "plt.ylabel('Proportion of Projects Funded')\n",
    "\n",
    "# Rotate x-axis labels for better readability if needed\n",
    "plt.xticks(rotation=45, ha='right')\n",
    "\n",
    "# Show the plot\n",
    "plt.show()"
   ]
  },
  {
   "cell_type": "code",
   "execution_count": 21,
   "metadata": {},
   "outputs": [
    {
     "data": {
      "text/plain": [
       "Government Of Tanzania    0.162898\n",
       "Danida                    0.055841\n",
       "Hesawa                    0.039487\n",
       "Rwssp                     0.024639\n",
       "World Bank                0.024191\n",
       "                            ...   \n",
       "Tacri                     0.000018\n",
       "Dadid                     0.000018\n",
       "Grazie Franco Lucchini    0.000018\n",
       "Mzee Shindika             0.000018\n",
       "People Of Sweden          0.000018\n",
       "Name: funder, Length: 1897, dtype: float64"
      ]
     },
     "execution_count": 21,
     "metadata": {},
     "output_type": "execute_result"
    }
   ],
   "source": [
    "df_train_merge[\"funder\"].value_counts(normalize=True)"
   ]
  },
  {
   "cell_type": "code",
   "execution_count": 22,
   "metadata": {},
   "outputs": [],
   "source": [
    "# Looking at all the values in the funder column\n",
    "\n",
    "# for valor in df_train_merge[\"funder\"].unique():\n",
    "#      print(valor)"
   ]
  },
  {
   "cell_type": "code",
   "execution_count": 23,
   "metadata": {},
   "outputs": [
    {
     "name": "stdout",
     "output_type": "stream",
     "text": [
      "Individual/Other           39410\n",
      "Government                 10017\n",
      "International Aid           8468\n",
      "Religious Organizations     1299\n",
      "NGO                          146\n",
      "Private Companies             60\n",
      "Name: funder_type, dtype: int64\n"
     ]
    }
   ],
   "source": [
    "# Handling NaN values with a filler string like 'Unknown'\n",
    "df_train_merge['funder'] = df_train_merge['funder'].fillna('Unknown').astype(str)\n",
    "\n",
    "# Apply the mapping function to the 'funder' column\n",
    "df_train_merge['funder_type'] = df_train_merge['funder'].apply(categorize_funder)\n",
    "\n",
    "# Check the categorized data\n",
    "print(df_train_merge['funder_type'].value_counts())"
   ]
  },
  {
   "cell_type": "markdown",
   "metadata": {},
   "source": [
    "For the time being, we will advance with this categorization and decide later if we want to further investigate the Individual/Other category if necessary"
   ]
  },
  {
   "cell_type": "markdown",
   "metadata": {},
   "source": [
    "**Column 'installer'**"
   ]
  },
  {
   "cell_type": "code",
   "execution_count": 24,
   "metadata": {},
   "outputs": [
    {
     "data": {
      "image/png": "[encoded data removed]",
      "text/plain": [
       "<Figure size 720x432 with 1 Axes>"
      ]
     },
     "metadata": {
      "needs_background": "light"
     },
     "output_type": "display_data"
    }
   ],
   "source": [
    "# Calculate value counts and then the proportions\n",
    "funder_value_counts = df_train_merge['installer'].value_counts(normalize=True)\n",
    "\n",
    "# Create a bar plot\n",
    "plt.figure(figsize=(10,6))  # Sets the size of the figure\n",
    "funder_value_counts.head(20).plot(kind='bar')  # Display the top 20 funders for readability\n",
    "\n",
    "# Set the title and labels\n",
    "plt.title('Top 20 Funders by Proportion of Projects Funded')\n",
    "plt.xlabel('Installer')\n",
    "plt.ylabel('Proportion of Projects Installed')\n",
    "\n",
    "# Rotate x-axis labels for better readability if needed\n",
    "plt.xticks(rotation=45, ha='right')\n",
    "\n",
    "# Show the plot\n",
    "plt.show()"
   ]
  },
  {
   "cell_type": "code",
   "execution_count": 25,
   "metadata": {},
   "outputs": [],
   "source": [
    "# Looking at all the values in the installer column\n",
    "\n",
    "# for valor in df_train_merge[\"installer\"].unique():\n",
    "#     print(valor)"
   ]
  },
  {
   "cell_type": "code",
   "execution_count": 26,
   "metadata": {},
   "outputs": [
    {
     "name": "stdout",
     "output_type": "stream",
     "text": [
      "Other              34031\n",
      "DWE                18121\n",
      "Government          3753\n",
      "Community           2338\n",
      "Institutional        701\n",
      "NGO                  327\n",
      "Private Company      129\n",
      "Name: installer_type, dtype: int64\n"
     ]
    }
   ],
   "source": [
    "# Handling NaN values with a filler string like 'Unknown'\n",
    "df_train_merge['installer'] = df_train_merge['installer'].fillna('Unknown').astype(str)\n",
    "\n",
    "# Apply the mapping function to the 'installer' column\n",
    "df_train_merge['installer_type'] = df_train_merge['installer'].apply(categorize_installer)\n",
    "\n",
    "# Now you can check your categorized data\n",
    "print(df_train_merge['installer_type'].value_counts())\n"
   ]
  },
  {
   "cell_type": "markdown",
   "metadata": {},
   "source": [
    "For the time being, we will advance with this categorization and decide later if we want to further investigate the Individual/Other category if necessary"
   ]
  },
  {
   "cell_type": "markdown",
   "metadata": {},
   "source": [
    "**Column 'scheme_management'**"
   ]
  },
  {
   "cell_type": "code",
   "execution_count": 27,
   "metadata": {},
   "outputs": [
    {
     "data": {
      "text/plain": [
       "VWC                 0.662662\n",
       "WUG                 0.093763\n",
       "Water authority     0.056787\n",
       "WUA                 0.051924\n",
       "Water Board         0.049493\n",
       "Parastatal          0.030258\n",
       "Private operator    0.019145\n",
       "Company             0.019109\n",
       "Other               0.013796\n",
       "SWC                 0.001747\n",
       "Trust               0.001297\n",
       "None                0.000018\n",
       "Name: scheme_management, dtype: float64"
      ]
     },
     "execution_count": 27,
     "metadata": {},
     "output_type": "execute_result"
    }
   ],
   "source": [
    "df_train_merge[\"scheme_management\"].value_counts(normalize=True)"
   ]
  },
  {
   "cell_type": "markdown",
   "metadata": {},
   "source": [
    "We will categorize, based on this classification:\n",
    "\n",
    "- Governmental Entities: Combine 'VWC' (Village Water Committee), 'Water authority', and 'Parastatal' into a single 'Government' category. These typically represent different layers or types of governmental involvement.\n",
    "\n",
    "- Community Managed: Merge 'WUG' (Water User Group) and 'WUA' (Water User Association) into 'Community'. These are likely community-based management structures.\n",
    "\n",
    "- Commercial Entities: Group 'Company' and 'Private operator' into 'Private Sector'. These likely represent privately managed schemes.\n",
    "\n",
    "- Institutional Boards: Keep 'Water Board' as is if they represent formal institutional water management boards that don't fit into other categories.\n",
    "\n",
    "- Other and Miscellaneous: Combine 'SWC', 'Trust', 'None', and 'Other' into 'Other'. These categories might represent less common or unclear management structures."
   ]
  },
  {
   "cell_type": "code",
   "execution_count": 28,
   "metadata": {},
   "outputs": [
    {
     "name": "stdout",
     "output_type": "stream",
     "text": [
      "Government        0.700774\n",
      "Community         0.136178\n",
      "Other             0.081027\n",
      "Water Board       0.046263\n",
      "Private Sector    0.035758\n",
      "Name: scheme_management_grouped, dtype: float64\n"
     ]
    }
   ],
   "source": [
    "# Apply the grouping function to the 'scheme_management' column\n",
    "df_train_merge['scheme_management_grouped'] = df_train_merge['scheme_management'].apply(group_scheme_management)\n",
    "\n",
    "# Check the new value counts to see the grouped data\n",
    "print(df_train_merge['scheme_management_grouped'].value_counts(normalize=True))\n"
   ]
  },
  {
   "cell_type": "markdown",
   "metadata": {},
   "source": [
    "**Column 'scheme_name'**"
   ]
  },
  {
   "cell_type": "code",
   "execution_count": 29,
   "metadata": {},
   "outputs": [
    {
     "data": {
      "text/plain": [
       "K                              0.021835\n",
       "None                           0.020619\n",
       "Borehole                       0.017481\n",
       "Chalinze wate                  0.012967\n",
       "M                              0.012807\n",
       "                                 ...   \n",
       "REGWA                          0.000032\n",
       "Mamire water Supply            0.000032\n",
       "BL K puchini Sisters           0.000032\n",
       "Tungu windmill piped scheme    0.000032\n",
       "Izunya                         0.000032\n",
       "Name: scheme_name, Length: 2696, dtype: float64"
      ]
     },
     "execution_count": 29,
     "metadata": {},
     "output_type": "execute_result"
    }
   ],
   "source": [
    "df_train_merge[\"scheme_name\"].value_counts(normalize=True)"
   ]
  },
  {
   "cell_type": "markdown",
   "metadata": {},
   "source": [
    "Given that there is almost 50% of unknown data, and the widespread of data, we will eliminate this column directly"
   ]
  },
  {
   "cell_type": "code",
   "execution_count": 30,
   "metadata": {},
   "outputs": [],
   "source": [
    "# Start creating our drop list\n",
    "drop_column_list = ['scheme_name']"
   ]
  },
  {
   "cell_type": "markdown",
   "metadata": {},
   "source": [
    "**Column 'num_private'**"
   ]
  },
  {
   "cell_type": "code",
   "execution_count": 31,
   "metadata": {},
   "outputs": [
    {
     "data": {
      "text/plain": [
       "0      58643\n",
       "6         81\n",
       "1         73\n",
       "5         46\n",
       "8         46\n",
       "       ...  \n",
       "180        1\n",
       "213        1\n",
       "23         1\n",
       "55         1\n",
       "94         1\n",
       "Name: num_private, Length: 65, dtype: int64"
      ]
     },
     "execution_count": 31,
     "metadata": {},
     "output_type": "execute_result"
    }
   ],
   "source": [
    "df_train_merge['num_private'].value_counts()"
   ]
  },
  {
   "cell_type": "markdown",
   "metadata": {},
   "source": [
    "Given that num_private has no description and given that it has many values, we are going to add this to the drop list column"
   ]
  },
  {
   "cell_type": "code",
   "execution_count": 32,
   "metadata": {},
   "outputs": [
    {
     "data": {
      "text/plain": [
       "['scheme_name', 'num_private']"
      ]
     },
     "execution_count": 32,
     "metadata": {},
     "output_type": "execute_result"
    }
   ],
   "source": [
    "drop_column_list.append('num_private')\n",
    "drop_column_list"
   ]
  },
  {
   "cell_type": "markdown",
   "metadata": {},
   "source": [
    "**Column 'wpt_name '**"
   ]
  },
  {
   "cell_type": "code",
   "execution_count": 33,
   "metadata": {},
   "outputs": [
    {
     "data": {
      "text/plain": [
       "none                 3563\n",
       "Shuleni              1748\n",
       "Zahanati              830\n",
       "Msikitini             535\n",
       "Kanisani              323\n",
       "                     ... \n",
       "Kwa Julieta Jonas       1\n",
       "Kwa Mzee Gigwa          1\n",
       "Barai                   1\n",
       "Tank La Ofisi           1\n",
       "Kwa Mariwala            1\n",
       "Name: wpt_name, Length: 37400, dtype: int64"
      ]
     },
     "execution_count": 33,
     "metadata": {},
     "output_type": "execute_result"
    }
   ],
   "source": [
    "df_train_merge['wpt_name'].value_counts()"
   ]
  },
  {
   "cell_type": "markdown",
   "metadata": {},
   "source": [
    "No further information is added with this wpt_name column as it is the name of the waterpoint. We will add this to the drop_list"
   ]
  },
  {
   "cell_type": "code",
   "execution_count": 34,
   "metadata": {},
   "outputs": [
    {
     "data": {
      "text/plain": [
       "['scheme_name', 'num_private', 'wpt_name']"
      ]
     },
     "execution_count": 34,
     "metadata": {},
     "output_type": "execute_result"
    }
   ],
   "source": [
    "drop_column_list.append('wpt_name')\n",
    "drop_column_list"
   ]
  },
  {
   "cell_type": "markdown",
   "metadata": {},
   "source": [
    "**Column 'construction_year'**"
   ]
  },
  {
   "cell_type": "markdown",
   "metadata": {},
   "source": [
    "Converting 'construction_year' to object"
   ]
  },
  {
   "cell_type": "code",
   "execution_count": 35,
   "metadata": {},
   "outputs": [
    {
     "name": "stdout",
     "output_type": "stream",
     "text": [
      "object\n"
     ]
    }
   ],
   "source": [
    "df_train_merge['construction_year'] = df_train_merge['construction_year'].astype('object')\n",
    "print(df_train_merge['construction_year'].dtype)"
   ]
  },
  {
   "cell_type": "code",
   "execution_count": 36,
   "metadata": {},
   "outputs": [
    {
     "name": "stdout",
     "output_type": "stream",
     "text": [
      "<class 'pandas.core.frame.DataFrame'>\n",
      "Int64Index: 59400 entries, 0 to 59399\n",
      "Data columns (total 44 columns):\n",
      " #   Column                     Non-Null Count  Dtype  \n",
      "---  ------                     --------------  -----  \n",
      " 0   id                         59400 non-null  int64  \n",
      " 1   amount_tsh                 59400 non-null  float64\n",
      " 2   date_recorded              59400 non-null  object \n",
      " 3   funder                     59400 non-null  object \n",
      " 4   gps_height                 59400 non-null  int64  \n",
      " 5   installer                  59400 non-null  object \n",
      " 6   longitude                  59400 non-null  float64\n",
      " 7   latitude                   59400 non-null  float64\n",
      " 8   wpt_name                   59400 non-null  object \n",
      " 9   num_private                59400 non-null  int64  \n",
      " 10  basin                      59400 non-null  object \n",
      " 11  subvillage                 59029 non-null  object \n",
      " 12  region                     59400 non-null  object \n",
      " 13  region_code                59400 non-null  int64  \n",
      " 14  district_code              59400 non-null  int64  \n",
      " 15  lga                        59400 non-null  object \n",
      " 16  ward                       59400 non-null  object \n",
      " 17  population                 59400 non-null  int64  \n",
      " 18  public_meeting             56066 non-null  object \n",
      " 19  recorded_by                59400 non-null  object \n",
      " 20  scheme_management          55523 non-null  object \n",
      " 21  scheme_name                31234 non-null  object \n",
      " 22  permit                     56344 non-null  object \n",
      " 23  construction_year          59400 non-null  object \n",
      " 24  extraction_type            59400 non-null  object \n",
      " 25  extraction_type_group      59400 non-null  object \n",
      " 26  extraction_type_class      59400 non-null  object \n",
      " 27  management                 59400 non-null  object \n",
      " 28  management_group           59400 non-null  object \n",
      " 29  payment                    59400 non-null  object \n",
      " 30  payment_type               59400 non-null  object \n",
      " 31  water_quality              59400 non-null  object \n",
      " 32  quality_group              59400 non-null  object \n",
      " 33  quantity                   59400 non-null  object \n",
      " 34  quantity_group             59400 non-null  object \n",
      " 35  source                     59400 non-null  object \n",
      " 36  source_type                59400 non-null  object \n",
      " 37  source_class               59400 non-null  object \n",
      " 38  waterpoint_type            59400 non-null  object \n",
      " 39  waterpoint_type_group      59400 non-null  object \n",
      " 40  status_group               59400 non-null  object \n",
      " 41  funder_type                59400 non-null  object \n",
      " 42  installer_type             59400 non-null  object \n",
      " 43  scheme_management_grouped  59400 non-null  object \n",
      "dtypes: float64(3), int64(6), object(35)\n",
      "memory usage: 20.4+ MB\n"
     ]
    }
   ],
   "source": [
    "df_train_merge.info()"
   ]
  },
  {
   "cell_type": "markdown",
   "metadata": {},
   "source": [
    "**Columns: 'subvillage' and 'region'**"
   ]
  },
  {
   "cell_type": "code",
   "execution_count": 37,
   "metadata": {},
   "outputs": [
    {
     "data": {
      "text/plain": [
       "Madukani     508\n",
       "Shuleni      506\n",
       "Majengo      502\n",
       "Kati         373\n",
       "Mtakuja      262\n",
       "            ... \n",
       "Lamadi         1\n",
       "Humbo          1\n",
       "Mwahuga B      1\n",
       "Kanangwe       1\n",
       "Nyegina        1\n",
       "Name: subvillage, Length: 19287, dtype: int64"
      ]
     },
     "execution_count": 37,
     "metadata": {},
     "output_type": "execute_result"
    }
   ],
   "source": [
    "df_train_merge['subvillage'].value_counts()"
   ]
  },
  {
   "cell_type": "code",
   "execution_count": 38,
   "metadata": {},
   "outputs": [
    {
     "data": {
      "text/plain": [
       "Iringa           5294\n",
       "Shinyanga        4982\n",
       "Mbeya            4639\n",
       "Kilimanjaro      4379\n",
       "Morogoro         4006\n",
       "Arusha           3350\n",
       "Kagera           3316\n",
       "Mwanza           3102\n",
       "Kigoma           2816\n",
       "Ruvuma           2640\n",
       "Pwani            2635\n",
       "Tanga            2547\n",
       "Dodoma           2201\n",
       "Singida          2093\n",
       "Mara             1969\n",
       "Tabora           1959\n",
       "Rukwa            1808\n",
       "Mtwara           1730\n",
       "Manyara          1583\n",
       "Lindi            1546\n",
       "Dar es Salaam     805\n",
       "Name: region, dtype: int64"
      ]
     },
     "execution_count": 38,
     "metadata": {},
     "output_type": "execute_result"
    }
   ],
   "source": [
    "df_train_merge['region'].value_counts()"
   ]
  },
  {
   "cell_type": "markdown",
   "metadata": {},
   "source": [
    "Having subvillage wouldn't give more insights to the model. There are more than 19k registrations of subvillages. Column 'region' alredy is a categorization of column 'subvillage' and so, we decide to add this column to the drop_list"
   ]
  },
  {
   "cell_type": "code",
   "execution_count": 39,
   "metadata": {},
   "outputs": [
    {
     "data": {
      "text/plain": [
       "['scheme_name', 'num_private', 'wpt_name', 'subvillage']"
      ]
     },
     "execution_count": 39,
     "metadata": {},
     "output_type": "execute_result"
    }
   ],
   "source": [
    "drop_column_list.append('subvillage')\n",
    "drop_column_list"
   ]
  },
  {
   "cell_type": "markdown",
   "metadata": {},
   "source": [
    "**Columns: 'lga', 'ward'**"
   ]
  },
  {
   "cell_type": "code",
   "execution_count": 40,
   "metadata": {},
   "outputs": [
    {
     "data": {
      "text/plain": [
       "Njombe          2503\n",
       "Arusha Rural    1252\n",
       "Moshi Rural     1251\n",
       "Bariadi         1177\n",
       "Rungwe          1106\n",
       "                ... \n",
       "Moshi Urban       79\n",
       "Kigoma Urban      71\n",
       "Arusha Urban      63\n",
       "Lindi Urban       21\n",
       "Nyamagana          1\n",
       "Name: lga, Length: 125, dtype: int64"
      ]
     },
     "execution_count": 40,
     "metadata": {},
     "output_type": "execute_result"
    }
   ],
   "source": [
    "df_train_merge['lga'].value_counts()"
   ]
  },
  {
   "cell_type": "code",
   "execution_count": 41,
   "metadata": {},
   "outputs": [
    {
     "data": {
      "text/plain": [
       "Igosi        307\n",
       "Imalinyi     252\n",
       "Siha Kati    232\n",
       "Mdandu       231\n",
       "Nduruma      217\n",
       "            ... \n",
       "Ikweha         1\n",
       "Mawenzi        1\n",
       "Korongoni      1\n",
       "Izia           1\n",
       "Uchindile      1\n",
       "Name: ward, Length: 2092, dtype: int64"
      ]
     },
     "execution_count": 41,
     "metadata": {},
     "output_type": "execute_result"
    }
   ],
   "source": [
    "df_train_merge['ward'].value_counts()"
   ]
  },
  {
   "cell_type": "markdown",
   "metadata": {},
   "source": [
    "As we already have column 'region' and columns: 'lga' and 'ward' are geographic locations. To avoid multiollinearity we will add 'lga'and 'ward' to the drop_list"
   ]
  },
  {
   "cell_type": "code",
   "execution_count": 42,
   "metadata": {},
   "outputs": [
    {
     "data": {
      "text/plain": [
       "['scheme_name', 'num_private', 'wpt_name', 'subvillage', 'lga', 'ward']"
      ]
     },
     "execution_count": 42,
     "metadata": {},
     "output_type": "execute_result"
    }
   ],
   "source": [
    "drop_column_list.append('lga')\n",
    "drop_column_list.append('ward')\n",
    "\n",
    "drop_column_list"
   ]
  },
  {
   "cell_type": "markdown",
   "metadata": {},
   "source": [
    "**Columns: 'recorded_by'**"
   ]
  },
  {
   "cell_type": "code",
   "execution_count": 43,
   "metadata": {},
   "outputs": [
    {
     "data": {
      "text/plain": [
       "GeoData Consultants Ltd    59400\n",
       "Name: recorded_by, dtype: int64"
      ]
     },
     "execution_count": 43,
     "metadata": {},
     "output_type": "execute_result"
    }
   ],
   "source": [
    "df_train_merge['recorded_by'].value_counts()"
   ]
  },
  {
   "cell_type": "code",
   "execution_count": 44,
   "metadata": {},
   "outputs": [
    {
     "data": {
      "text/plain": [
       "['scheme_name',\n",
       " 'num_private',\n",
       " 'wpt_name',\n",
       " 'subvillage',\n",
       " 'lga',\n",
       " 'ward',\n",
       " 'recorded_by']"
      ]
     },
     "execution_count": 44,
     "metadata": {},
     "output_type": "execute_result"
    }
   ],
   "source": [
    "# Drop recorded_by column since it's constant and should be ignored\n",
    "drop_column_list.append('recorded_by')\n",
    "drop_column_list"
   ]
  },
  {
   "cell_type": "markdown",
   "metadata": {},
   "source": [
    "**Dropping the columns list**"
   ]
  },
  {
   "cell_type": "code",
   "execution_count": 45,
   "metadata": {},
   "outputs": [],
   "source": [
    "# Carry out the dropping\n",
    "df_train_merge = df_train_merge.drop(drop_column_list, axis=1)"
   ]
  },
  {
   "cell_type": "code",
   "execution_count": 46,
   "metadata": {
    "scrolled": true
   },
   "outputs": [
    {
     "data": {
      "text/plain": [
       "Index(['id', 'amount_tsh', 'date_recorded', 'funder', 'gps_height',\n",
       "       'installer', 'longitude', 'latitude', 'basin', 'region', 'region_code',\n",
       "       'district_code', 'population', 'public_meeting', 'scheme_management',\n",
       "       'permit', 'construction_year', 'extraction_type',\n",
       "       'extraction_type_group', 'extraction_type_class', 'management',\n",
       "       'management_group', 'payment', 'payment_type', 'water_quality',\n",
       "       'quality_group', 'quantity', 'quantity_group', 'source', 'source_type',\n",
       "       'source_class', 'waterpoint_type', 'waterpoint_type_group',\n",
       "       'status_group', 'funder_type', 'installer_type',\n",
       "       'scheme_management_grouped'],\n",
       "      dtype='object')"
      ]
     },
     "execution_count": 46,
     "metadata": {},
     "output_type": "execute_result"
    }
   ],
   "source": [
    "df_train_merge.columns"
   ]
  },
  {
   "cell_type": "markdown",
   "metadata": {},
   "source": [
    "##### 3.5.1.3.2 - Transforming column types"
   ]
  },
  {
   "cell_type": "code",
   "execution_count": 47,
   "metadata": {
    "scrolled": true
   },
   "outputs": [
    {
     "name": "stdout",
     "output_type": "stream",
     "text": [
      "<class 'pandas.core.frame.DataFrame'>\n",
      "Int64Index: 59400 entries, 0 to 59399\n",
      "Data columns (total 37 columns):\n",
      " #   Column                     Non-Null Count  Dtype  \n",
      "---  ------                     --------------  -----  \n",
      " 0   id                         59400 non-null  int64  \n",
      " 1   amount_tsh                 59400 non-null  float64\n",
      " 2   date_recorded              59400 non-null  object \n",
      " 3   funder                     59400 non-null  object \n",
      " 4   gps_height                 59400 non-null  int64  \n",
      " 5   installer                  59400 non-null  object \n",
      " 6   longitude                  59400 non-null  float64\n",
      " 7   latitude                   59400 non-null  float64\n",
      " 8   basin                      59400 non-null  object \n",
      " 9   region                     59400 non-null  object \n",
      " 10  region_code                59400 non-null  int64  \n",
      " 11  district_code              59400 non-null  int64  \n",
      " 12  population                 59400 non-null  int64  \n",
      " 13  public_meeting             56066 non-null  object \n",
      " 14  scheme_management          55523 non-null  object \n",
      " 15  permit                     56344 non-null  object \n",
      " 16  construction_year          59400 non-null  object \n",
      " 17  extraction_type            59400 non-null  object \n",
      " 18  extraction_type_group      59400 non-null  object \n",
      " 19  extraction_type_class      59400 non-null  object \n",
      " 20  management                 59400 non-null  object \n",
      " 21  management_group           59400 non-null  object \n",
      " 22  payment                    59400 non-null  object \n",
      " 23  payment_type               59400 non-null  object \n",
      " 24  water_quality              59400 non-null  object \n",
      " 25  quality_group              59400 non-null  object \n",
      " 26  quantity                   59400 non-null  object \n",
      " 27  quantity_group             59400 non-null  object \n",
      " 28  source                     59400 non-null  object \n",
      " 29  source_type                59400 non-null  object \n",
      " 30  source_class               59400 non-null  object \n",
      " 31  waterpoint_type            59400 non-null  object \n",
      " 32  waterpoint_type_group      59400 non-null  object \n",
      " 33  status_group               59400 non-null  object \n",
      " 34  funder_type                59400 non-null  object \n",
      " 35  installer_type             59400 non-null  object \n",
      " 36  scheme_management_grouped  59400 non-null  object \n",
      "dtypes: float64(3), int64(5), object(29)\n",
      "memory usage: 17.2+ MB\n"
     ]
    }
   ],
   "source": [
    "df_train_merge.info()"
   ]
  },
  {
   "cell_type": "markdown",
   "metadata": {},
   "source": [
    "**Column 'date_recorded'**"
   ]
  },
  {
   "cell_type": "code",
   "execution_count": 48,
   "metadata": {},
   "outputs": [
    {
     "data": {
      "text/plain": [
       "0        2011-03-14\n",
       "1        2013-03-06\n",
       "2        2013-02-25\n",
       "3        2013-01-28\n",
       "4        2011-07-13\n",
       "            ...    \n",
       "59395    2013-05-03\n",
       "59396    2011-05-07\n",
       "59397    2011-04-11\n",
       "59398    2011-03-08\n",
       "59399    2011-03-23\n",
       "Name: date_recorded, Length: 59400, dtype: object"
      ]
     },
     "execution_count": 48,
     "metadata": {},
     "output_type": "execute_result"
    }
   ],
   "source": [
    "df_train_merge['date_recorded']"
   ]
  },
  {
   "cell_type": "code",
   "execution_count": 49,
   "metadata": {},
   "outputs": [
    {
     "name": "stdout",
     "output_type": "stream",
     "text": [
      "datetime64[ns]\n"
     ]
    }
   ],
   "source": [
    "df_train_merge['date_recorded'] = pd.to_datetime(df_train_merge['date_recorded'])\n",
    "\n",
    "print(df_train_merge['date_recorded'].dtype)"
   ]
  },
  {
   "cell_type": "markdown",
   "metadata": {},
   "source": [
    "As can be seen, the date_recorded column has to be converted to date type"
   ]
  },
  {
   "cell_type": "markdown",
   "metadata": {},
   "source": [
    "**Column 'public_meeting'**"
   ]
  },
  {
   "cell_type": "code",
   "execution_count": 50,
   "metadata": {},
   "outputs": [
    {
     "name": "stdout",
     "output_type": "stream",
     "text": [
      "object\n"
     ]
    }
   ],
   "source": [
    "print(df_train_merge['public_meeting'].dtype)"
   ]
  },
  {
   "cell_type": "markdown",
   "metadata": {},
   "source": [
    "**Column 'permit'**"
   ]
  },
  {
   "cell_type": "code",
   "execution_count": 51,
   "metadata": {},
   "outputs": [
    {
     "name": "stdout",
     "output_type": "stream",
     "text": [
      "object\n"
     ]
    }
   ],
   "source": [
    "print(df_train_merge['permit'].dtype)"
   ]
  },
  {
   "cell_type": "markdown",
   "metadata": {},
   "source": [
    "##### 3.5.1.3.3 - Cleaning the dataset"
   ]
  },
  {
   "cell_type": "code",
   "execution_count": 52,
   "metadata": {},
   "outputs": [
    {
     "data": {
      "text/html": [
       "<div>\n",
       "<style scoped>\n",
       "    .dataframe tbody tr th:only-of-type {\n",
       "        vertical-align: middle;\n",
       "    }\n",
       "\n",
       "    .dataframe tbody tr th {\n",
       "        vertical-align: top;\n",
       "    }\n",
       "\n",
       "    .dataframe thead th {\n",
       "        text-align: right;\n",
       "    }\n",
       "</style>\n",
       "<table border=\"1\" class=\"dataframe\">\n",
       "  <thead>\n",
       "    <tr style=\"text-align: right;\">\n",
       "      <th></th>\n",
       "      <th>id</th>\n",
       "      <th>amount_tsh</th>\n",
       "      <th>date_recorded</th>\n",
       "      <th>funder</th>\n",
       "      <th>gps_height</th>\n",
       "      <th>installer</th>\n",
       "      <th>longitude</th>\n",
       "      <th>latitude</th>\n",
       "      <th>basin</th>\n",
       "      <th>region</th>\n",
       "      <th>...</th>\n",
       "      <th>quantity_group</th>\n",
       "      <th>source</th>\n",
       "      <th>source_type</th>\n",
       "      <th>source_class</th>\n",
       "      <th>waterpoint_type</th>\n",
       "      <th>waterpoint_type_group</th>\n",
       "      <th>status_group</th>\n",
       "      <th>funder_type</th>\n",
       "      <th>installer_type</th>\n",
       "      <th>scheme_management_grouped</th>\n",
       "    </tr>\n",
       "  </thead>\n",
       "  <tbody>\n",
       "    <tr>\n",
       "      <th>0</th>\n",
       "      <td>69572</td>\n",
       "      <td>6000.0</td>\n",
       "      <td>2011-03-14</td>\n",
       "      <td>roman</td>\n",
       "      <td>1390</td>\n",
       "      <td>roman</td>\n",
       "      <td>34.938093</td>\n",
       "      <td>-9.856322</td>\n",
       "      <td>lake nyasa</td>\n",
       "      <td>iringa</td>\n",
       "      <td>...</td>\n",
       "      <td>enough</td>\n",
       "      <td>spring</td>\n",
       "      <td>spring</td>\n",
       "      <td>groundwater</td>\n",
       "      <td>communal standpipe</td>\n",
       "      <td>communal standpipe</td>\n",
       "      <td>functional</td>\n",
       "      <td>individualother</td>\n",
       "      <td>other</td>\n",
       "      <td>government</td>\n",
       "    </tr>\n",
       "    <tr>\n",
       "      <th>1</th>\n",
       "      <td>8776</td>\n",
       "      <td>0.0</td>\n",
       "      <td>2013-03-06</td>\n",
       "      <td>grumeti</td>\n",
       "      <td>1399</td>\n",
       "      <td>grumeti</td>\n",
       "      <td>34.698766</td>\n",
       "      <td>-2.147466</td>\n",
       "      <td>lake victoria</td>\n",
       "      <td>mara</td>\n",
       "      <td>...</td>\n",
       "      <td>insufficient</td>\n",
       "      <td>rainwater harvesting</td>\n",
       "      <td>rainwater harvesting</td>\n",
       "      <td>surface</td>\n",
       "      <td>communal standpipe</td>\n",
       "      <td>communal standpipe</td>\n",
       "      <td>functional</td>\n",
       "      <td>individualother</td>\n",
       "      <td>other</td>\n",
       "      <td>other</td>\n",
       "    </tr>\n",
       "    <tr>\n",
       "      <th>2</th>\n",
       "      <td>34310</td>\n",
       "      <td>25.0</td>\n",
       "      <td>2013-02-25</td>\n",
       "      <td>lottery club</td>\n",
       "      <td>686</td>\n",
       "      <td>world vision</td>\n",
       "      <td>37.460664</td>\n",
       "      <td>-3.821329</td>\n",
       "      <td>pangani</td>\n",
       "      <td>manyara</td>\n",
       "      <td>...</td>\n",
       "      <td>enough</td>\n",
       "      <td>dam</td>\n",
       "      <td>dam</td>\n",
       "      <td>surface</td>\n",
       "      <td>communal standpipe multiple</td>\n",
       "      <td>communal standpipe</td>\n",
       "      <td>functional</td>\n",
       "      <td>individualother</td>\n",
       "      <td>other</td>\n",
       "      <td>government</td>\n",
       "    </tr>\n",
       "    <tr>\n",
       "      <th>3</th>\n",
       "      <td>67743</td>\n",
       "      <td>0.0</td>\n",
       "      <td>2013-01-28</td>\n",
       "      <td>unicef</td>\n",
       "      <td>263</td>\n",
       "      <td>unicef</td>\n",
       "      <td>38.486161</td>\n",
       "      <td>-11.155298</td>\n",
       "      <td>ruvuma southern coast</td>\n",
       "      <td>mtwara</td>\n",
       "      <td>...</td>\n",
       "      <td>dry</td>\n",
       "      <td>machine dbh</td>\n",
       "      <td>borehole</td>\n",
       "      <td>groundwater</td>\n",
       "      <td>communal standpipe multiple</td>\n",
       "      <td>communal standpipe</td>\n",
       "      <td>non functional</td>\n",
       "      <td>international aid</td>\n",
       "      <td>ngo</td>\n",
       "      <td>government</td>\n",
       "    </tr>\n",
       "    <tr>\n",
       "      <th>4</th>\n",
       "      <td>19728</td>\n",
       "      <td>0.0</td>\n",
       "      <td>2011-07-13</td>\n",
       "      <td>action in a</td>\n",
       "      <td>0</td>\n",
       "      <td>artisan</td>\n",
       "      <td>31.130847</td>\n",
       "      <td>-1.825359</td>\n",
       "      <td>lake victoria</td>\n",
       "      <td>kagera</td>\n",
       "      <td>...</td>\n",
       "      <td>seasonal</td>\n",
       "      <td>rainwater harvesting</td>\n",
       "      <td>rainwater harvesting</td>\n",
       "      <td>surface</td>\n",
       "      <td>communal standpipe</td>\n",
       "      <td>communal standpipe</td>\n",
       "      <td>functional</td>\n",
       "      <td>individualother</td>\n",
       "      <td>other</td>\n",
       "      <td>other</td>\n",
       "    </tr>\n",
       "  </tbody>\n",
       "</table>\n",
       "<p>5 rows × 37 columns</p>\n",
       "</div>"
      ],
      "text/plain": [
       "      id  amount_tsh date_recorded        funder  gps_height     installer  \\\n",
       "0  69572      6000.0    2011-03-14         roman        1390         roman   \n",
       "1   8776         0.0    2013-03-06       grumeti        1399       grumeti   \n",
       "2  34310        25.0    2013-02-25  lottery club         686  world vision   \n",
       "3  67743         0.0    2013-01-28        unicef         263        unicef   \n",
       "4  19728         0.0    2011-07-13   action in a           0       artisan   \n",
       "\n",
       "   longitude   latitude                  basin   region  ...  quantity_group  \\\n",
       "0  34.938093  -9.856322             lake nyasa   iringa  ...          enough   \n",
       "1  34.698766  -2.147466          lake victoria     mara  ...    insufficient   \n",
       "2  37.460664  -3.821329                pangani  manyara  ...          enough   \n",
       "3  38.486161 -11.155298  ruvuma southern coast   mtwara  ...             dry   \n",
       "4  31.130847  -1.825359          lake victoria   kagera  ...        seasonal   \n",
       "\n",
       "                 source           source_type source_class  \\\n",
       "0                spring                spring  groundwater   \n",
       "1  rainwater harvesting  rainwater harvesting      surface   \n",
       "2                   dam                   dam      surface   \n",
       "3           machine dbh              borehole  groundwater   \n",
       "4  rainwater harvesting  rainwater harvesting      surface   \n",
       "\n",
       "               waterpoint_type waterpoint_type_group    status_group  \\\n",
       "0           communal standpipe    communal standpipe      functional   \n",
       "1           communal standpipe    communal standpipe      functional   \n",
       "2  communal standpipe multiple    communal standpipe      functional   \n",
       "3  communal standpipe multiple    communal standpipe  non functional   \n",
       "4           communal standpipe    communal standpipe      functional   \n",
       "\n",
       "         funder_type installer_type scheme_management_grouped  \n",
       "0    individualother          other                government  \n",
       "1    individualother          other                     other  \n",
       "2    individualother          other                government  \n",
       "3  international aid            ngo                government  \n",
       "4    individualother          other                     other  \n",
       "\n",
       "[5 rows x 37 columns]"
      ]
     },
     "execution_count": 52,
     "metadata": {},
     "output_type": "execute_result"
    }
   ],
   "source": [
    "# Apply the cleaning function to each object-type column in the DataFrame\n",
    "for col in df_train_merge.select_dtypes(include='object').columns:\n",
    "    df_train_merge[col] = df_train_merge[col].apply(clean_text)\n",
    "\n",
    "# Display the cleaned DataFrame\n",
    "df_train_merge.head()"
   ]
  },
  {
   "cell_type": "markdown",
   "metadata": {},
   "source": [
    "### 3.5.2 Descriptive Analysis"
   ]
  },
  {
   "cell_type": "markdown",
   "metadata": {},
   "source": [
    "#### 3.5.2.1 Univaried Analysis"
   ]
  },
  {
   "cell_type": "markdown",
   "metadata": {},
   "source": [
    "**Numerical columns**"
   ]
  },
  {
   "cell_type": "code",
   "execution_count": 53,
   "metadata": {},
   "outputs": [
    {
     "data": {
      "text/html": [
       "<div>\n",
       "<style scoped>\n",
       "    .dataframe tbody tr th:only-of-type {\n",
       "        vertical-align: middle;\n",
       "    }\n",
       "\n",
       "    .dataframe tbody tr th {\n",
       "        vertical-align: top;\n",
       "    }\n",
       "\n",
       "    .dataframe thead th {\n",
       "        text-align: right;\n",
       "    }\n",
       "</style>\n",
       "<table border=\"1\" class=\"dataframe\">\n",
       "  <thead>\n",
       "    <tr style=\"text-align: right;\">\n",
       "      <th></th>\n",
       "      <th>id</th>\n",
       "      <th>amount_tsh</th>\n",
       "      <th>gps_height</th>\n",
       "      <th>longitude</th>\n",
       "      <th>latitude</th>\n",
       "      <th>region_code</th>\n",
       "      <th>district_code</th>\n",
       "      <th>population</th>\n",
       "      <th>construction_year</th>\n",
       "    </tr>\n",
       "  </thead>\n",
       "  <tbody>\n",
       "    <tr>\n",
       "      <th>0</th>\n",
       "      <td>69572</td>\n",
       "      <td>6000.0</td>\n",
       "      <td>1390</td>\n",
       "      <td>34.938093</td>\n",
       "      <td>-9.856322</td>\n",
       "      <td>11</td>\n",
       "      <td>5</td>\n",
       "      <td>109</td>\n",
       "      <td>1999</td>\n",
       "    </tr>\n",
       "    <tr>\n",
       "      <th>1</th>\n",
       "      <td>8776</td>\n",
       "      <td>0.0</td>\n",
       "      <td>1399</td>\n",
       "      <td>34.698766</td>\n",
       "      <td>-2.147466</td>\n",
       "      <td>20</td>\n",
       "      <td>2</td>\n",
       "      <td>280</td>\n",
       "      <td>2010</td>\n",
       "    </tr>\n",
       "    <tr>\n",
       "      <th>2</th>\n",
       "      <td>34310</td>\n",
       "      <td>25.0</td>\n",
       "      <td>686</td>\n",
       "      <td>37.460664</td>\n",
       "      <td>-3.821329</td>\n",
       "      <td>21</td>\n",
       "      <td>4</td>\n",
       "      <td>250</td>\n",
       "      <td>2009</td>\n",
       "    </tr>\n",
       "    <tr>\n",
       "      <th>3</th>\n",
       "      <td>67743</td>\n",
       "      <td>0.0</td>\n",
       "      <td>263</td>\n",
       "      <td>38.486161</td>\n",
       "      <td>-11.155298</td>\n",
       "      <td>90</td>\n",
       "      <td>63</td>\n",
       "      <td>58</td>\n",
       "      <td>1986</td>\n",
       "    </tr>\n",
       "    <tr>\n",
       "      <th>4</th>\n",
       "      <td>19728</td>\n",
       "      <td>0.0</td>\n",
       "      <td>0</td>\n",
       "      <td>31.130847</td>\n",
       "      <td>-1.825359</td>\n",
       "      <td>18</td>\n",
       "      <td>1</td>\n",
       "      <td>0</td>\n",
       "      <td>0</td>\n",
       "    </tr>\n",
       "    <tr>\n",
       "      <th>...</th>\n",
       "      <td>...</td>\n",
       "      <td>...</td>\n",
       "      <td>...</td>\n",
       "      <td>...</td>\n",
       "      <td>...</td>\n",
       "      <td>...</td>\n",
       "      <td>...</td>\n",
       "      <td>...</td>\n",
       "      <td>...</td>\n",
       "    </tr>\n",
       "    <tr>\n",
       "      <th>59395</th>\n",
       "      <td>60739</td>\n",
       "      <td>10.0</td>\n",
       "      <td>1210</td>\n",
       "      <td>37.169807</td>\n",
       "      <td>-3.253847</td>\n",
       "      <td>3</td>\n",
       "      <td>5</td>\n",
       "      <td>125</td>\n",
       "      <td>1999</td>\n",
       "    </tr>\n",
       "    <tr>\n",
       "      <th>59396</th>\n",
       "      <td>27263</td>\n",
       "      <td>4700.0</td>\n",
       "      <td>1212</td>\n",
       "      <td>35.249991</td>\n",
       "      <td>-9.070629</td>\n",
       "      <td>11</td>\n",
       "      <td>4</td>\n",
       "      <td>56</td>\n",
       "      <td>1996</td>\n",
       "    </tr>\n",
       "    <tr>\n",
       "      <th>59397</th>\n",
       "      <td>37057</td>\n",
       "      <td>0.0</td>\n",
       "      <td>0</td>\n",
       "      <td>34.017087</td>\n",
       "      <td>-8.750434</td>\n",
       "      <td>12</td>\n",
       "      <td>7</td>\n",
       "      <td>0</td>\n",
       "      <td>0</td>\n",
       "    </tr>\n",
       "    <tr>\n",
       "      <th>59398</th>\n",
       "      <td>31282</td>\n",
       "      <td>0.0</td>\n",
       "      <td>0</td>\n",
       "      <td>35.861315</td>\n",
       "      <td>-6.378573</td>\n",
       "      <td>1</td>\n",
       "      <td>4</td>\n",
       "      <td>0</td>\n",
       "      <td>0</td>\n",
       "    </tr>\n",
       "    <tr>\n",
       "      <th>59399</th>\n",
       "      <td>26348</td>\n",
       "      <td>0.0</td>\n",
       "      <td>191</td>\n",
       "      <td>38.104048</td>\n",
       "      <td>-6.747464</td>\n",
       "      <td>5</td>\n",
       "      <td>2</td>\n",
       "      <td>150</td>\n",
       "      <td>2002</td>\n",
       "    </tr>\n",
       "  </tbody>\n",
       "</table>\n",
       "<p>59400 rows × 9 columns</p>\n",
       "</div>"
      ],
      "text/plain": [
       "          id  amount_tsh  gps_height  longitude   latitude  region_code  \\\n",
       "0      69572      6000.0        1390  34.938093  -9.856322           11   \n",
       "1       8776         0.0        1399  34.698766  -2.147466           20   \n",
       "2      34310        25.0         686  37.460664  -3.821329           21   \n",
       "3      67743         0.0         263  38.486161 -11.155298           90   \n",
       "4      19728         0.0           0  31.130847  -1.825359           18   \n",
       "...      ...         ...         ...        ...        ...          ...   \n",
       "59395  60739        10.0        1210  37.169807  -3.253847            3   \n",
       "59396  27263      4700.0        1212  35.249991  -9.070629           11   \n",
       "59397  37057         0.0           0  34.017087  -8.750434           12   \n",
       "59398  31282         0.0           0  35.861315  -6.378573            1   \n",
       "59399  26348         0.0         191  38.104048  -6.747464            5   \n",
       "\n",
       "       district_code  population  construction_year  \n",
       "0                  5         109               1999  \n",
       "1                  2         280               2010  \n",
       "2                  4         250               2009  \n",
       "3                 63          58               1986  \n",
       "4                  1           0                  0  \n",
       "...              ...         ...                ...  \n",
       "59395              5         125               1999  \n",
       "59396              4          56               1996  \n",
       "59397              7           0                  0  \n",
       "59398              4           0                  0  \n",
       "59399              2         150               2002  \n",
       "\n",
       "[59400 rows x 9 columns]"
      ]
     },
     "execution_count": 53,
     "metadata": {},
     "output_type": "execute_result"
    }
   ],
   "source": [
    "numeric_columns = df_train_merge.select_dtypes(include=[np.number])\n",
    "\n",
    "# Let's exclude certain columns of numerical columns\n",
    "numeric_columns"
   ]
  },
  {
   "cell_type": "code",
   "execution_count": 54,
   "metadata": {},
   "outputs": [],
   "source": [
    "numeric_columns = numeric_columns.drop(['id','longitude','latitude','region_code','district_code','construction_year'], axis=1)"
   ]
  },
  {
   "cell_type": "code",
   "execution_count": 55,
   "metadata": {},
   "outputs": [
    {
     "data": {
      "text/html": [
       "<div>\n",
       "<style scoped>\n",
       "    .dataframe tbody tr th:only-of-type {\n",
       "        vertical-align: middle;\n",
       "    }\n",
       "\n",
       "    .dataframe tbody tr th {\n",
       "        vertical-align: top;\n",
       "    }\n",
       "\n",
       "    .dataframe thead th {\n",
       "        text-align: right;\n",
       "    }\n",
       "</style>\n",
       "<table border=\"1\" class=\"dataframe\">\n",
       "  <thead>\n",
       "    <tr style=\"text-align: right;\">\n",
       "      <th></th>\n",
       "      <th>amount_tsh</th>\n",
       "      <th>gps_height</th>\n",
       "      <th>population</th>\n",
       "    </tr>\n",
       "  </thead>\n",
       "  <tbody>\n",
       "    <tr>\n",
       "      <th>0</th>\n",
       "      <td>6000.0</td>\n",
       "      <td>1390</td>\n",
       "      <td>109</td>\n",
       "    </tr>\n",
       "    <tr>\n",
       "      <th>1</th>\n",
       "      <td>0.0</td>\n",
       "      <td>1399</td>\n",
       "      <td>280</td>\n",
       "    </tr>\n",
       "    <tr>\n",
       "      <th>2</th>\n",
       "      <td>25.0</td>\n",
       "      <td>686</td>\n",
       "      <td>250</td>\n",
       "    </tr>\n",
       "    <tr>\n",
       "      <th>3</th>\n",
       "      <td>0.0</td>\n",
       "      <td>263</td>\n",
       "      <td>58</td>\n",
       "    </tr>\n",
       "    <tr>\n",
       "      <th>4</th>\n",
       "      <td>0.0</td>\n",
       "      <td>0</td>\n",
       "      <td>0</td>\n",
       "    </tr>\n",
       "    <tr>\n",
       "      <th>...</th>\n",
       "      <td>...</td>\n",
       "      <td>...</td>\n",
       "      <td>...</td>\n",
       "    </tr>\n",
       "    <tr>\n",
       "      <th>59395</th>\n",
       "      <td>10.0</td>\n",
       "      <td>1210</td>\n",
       "      <td>125</td>\n",
       "    </tr>\n",
       "    <tr>\n",
       "      <th>59396</th>\n",
       "      <td>4700.0</td>\n",
       "      <td>1212</td>\n",
       "      <td>56</td>\n",
       "    </tr>\n",
       "    <tr>\n",
       "      <th>59397</th>\n",
       "      <td>0.0</td>\n",
       "      <td>0</td>\n",
       "      <td>0</td>\n",
       "    </tr>\n",
       "    <tr>\n",
       "      <th>59398</th>\n",
       "      <td>0.0</td>\n",
       "      <td>0</td>\n",
       "      <td>0</td>\n",
       "    </tr>\n",
       "    <tr>\n",
       "      <th>59399</th>\n",
       "      <td>0.0</td>\n",
       "      <td>191</td>\n",
       "      <td>150</td>\n",
       "    </tr>\n",
       "  </tbody>\n",
       "</table>\n",
       "<p>59400 rows × 3 columns</p>\n",
       "</div>"
      ],
      "text/plain": [
       "       amount_tsh  gps_height  population\n",
       "0          6000.0        1390         109\n",
       "1             0.0        1399         280\n",
       "2            25.0         686         250\n",
       "3             0.0         263          58\n",
       "4             0.0           0           0\n",
       "...           ...         ...         ...\n",
       "59395        10.0        1210         125\n",
       "59396      4700.0        1212          56\n",
       "59397         0.0           0           0\n",
       "59398         0.0           0           0\n",
       "59399         0.0         191         150\n",
       "\n",
       "[59400 rows x 3 columns]"
      ]
     },
     "execution_count": 55,
     "metadata": {},
     "output_type": "execute_result"
    }
   ],
   "source": [
    "numeric_columns"
   ]
  },
  {
   "cell_type": "code",
   "execution_count": 56,
   "metadata": {
    "scrolled": false
   },
   "outputs": [
    {
     "name": "stdout",
     "output_type": "stream",
     "text": [
      "Stats for amount_tsh:\n",
      "Max: 350000.0\n",
      "Min: 0.0\n",
      "Mean: 317.6503846801347\n",
      "Median: 0.0\n",
      "Standard Deviation: 2997.574558142169\n",
      "Coefficient of Variation: 9.436709989067523\n",
      "Skewness: 57.8077999458852\n",
      "Kurtosis: 4903.543101955053\n",
      "25th percentile (Q1): 0.0\n",
      "50th percentile (Median): 0.0\n",
      "75th percentile (Q3): 20.0\n"
     ]
    },
    {
     "data": {
      "image/png": "[encoded data removed]",
      "text/plain": [
       "<Figure size 864x432 with 2 Axes>"
      ]
     },
     "metadata": {
      "needs_background": "light"
     },
     "output_type": "display_data"
    },
    {
     "name": "stdout",
     "output_type": "stream",
     "text": [
      "Stats for gps_height:\n",
      "Max: 2770\n",
      "Min: -90\n",
      "Mean: 668.297239057239\n",
      "Median: 369.0\n",
      "Standard Deviation: 693.11635032505\n",
      "Coefficient of Variation: 1.037137833013979\n",
      "Skewness: 0.4624020849809572\n",
      "Kurtosis: -1.2924401348688863\n",
      "25th percentile (Q1): 0.0\n",
      "50th percentile (Median): 369.0\n",
      "75th percentile (Q3): 1319.25\n"
     ]
    },
    {
     "data": {
      "image/png": "[encoded data removed]",
      "text/plain": [
       "<Figure size 864x432 with 2 Axes>"
      ]
     },
     "metadata": {
      "needs_background": "light"
     },
     "output_type": "display_data"
    },
    {
     "name": "stdout",
     "output_type": "stream",
     "text": [
      "Stats for population:\n",
      "Max: 30500\n",
      "Min: 0\n",
      "Mean: 179.90998316498317\n",
      "Median: 25.0\n",
      "Standard Deviation: 471.48217573848035\n",
      "Coefficient of Variation: 2.620655993870647\n",
      "Skewness: 12.660713588843592\n",
      "Kurtosis: 402.28011526096975\n",
      "25th percentile (Q1): 0.0\n",
      "50th percentile (Median): 25.0\n",
      "75th percentile (Q3): 215.0\n"
     ]
    },
    {
     "data": {
      "image/png": "[encoded data removed]",
      "text/plain": [
       "<Figure size 864x432 with 2 Axes>"
      ]
     },
     "metadata": {
      "needs_background": "light"
     },
     "output_type": "display_data"
    }
   ],
   "source": [
    "# Now let's analyze these numeric columns\n",
    "\n",
    "analyze_numeric_stats_and_plots(df_train_merge, numeric_columns)"
   ]
  },
  {
   "cell_type": "markdown",
   "metadata": {},
   "source": [
    "**Categorical columns**"
   ]
  },
  {
   "cell_type": "code",
   "execution_count": 57,
   "metadata": {
    "scrolled": true
   },
   "outputs": [
    {
     "data": {
      "text/plain": [
       "Index(['funder', 'installer', 'basin', 'region', 'public_meeting',\n",
       "       'scheme_management', 'permit', 'extraction_type',\n",
       "       'extraction_type_group', 'extraction_type_class', 'management',\n",
       "       'management_group', 'payment', 'payment_type', 'water_quality',\n",
       "       'quality_group', 'quantity', 'quantity_group', 'source', 'source_type',\n",
       "       'source_class', 'waterpoint_type', 'waterpoint_type_group',\n",
       "       'status_group', 'funder_type', 'installer_type',\n",
       "       'scheme_management_grouped'],\n",
       "      dtype='object')"
      ]
     },
     "execution_count": 57,
     "metadata": {},
     "output_type": "execute_result"
    }
   ],
   "source": [
    "categorical_columns = df_train_merge.select_dtypes(include=['object', 'category']).columns\n",
    "categorical_columns"
   ]
  },
  {
   "cell_type": "code",
   "execution_count": 59,
   "metadata": {},
   "outputs": [],
   "source": [
    "categorical_columns = categorical_columns.drop(['funder','installer','scheme_management','status_group'])"
   ]
  },
  {
   "cell_type": "code",
   "execution_count": 60,
   "metadata": {
    "scrolled": true
   },
   "outputs": [],
   "source": [
    "# Plot the distributions\n",
    "\n",
    "# plot_categorical_proportions(df_train_merge, categorical_columns)\n"
   ]
  },
  {
   "cell_type": "markdown",
   "metadata": {},
   "source": [
    "Here are the observations from the categorical columns:\n",
    "\n",
    "- extraction_type_group and extraction_type are already classified in extraction_type_group_class so we will use the latter group\n",
    "\n",
    "- we see that in management, VWC contains most of the data. management_group is then a grouping of all the data and thus has fewer categories. So we will use management_group instead of the management column\n",
    "\n",
    "- columns: payment and payment_type have the same categories and distributions. We will thus keep one only. We chose payment_type. \n",
    "\n",
    "- we see that in water_quality, soft contains most of the data. quality_group is then a grouping of all the data and thus has fewer categories. So we will use quality_group instead of the water_quality column\n",
    "\n",
    "- columns: quantity and quantity_group have the same categories and distributions. We will thus keep one only. We chose quantity_group.\n",
    "\n",
    "- looking at the column source we see different categories and then when looking at source_type we can see that it has joined certain groups from the source column successfully. We consider source_type to have a better description of the data. Moreover, we will disregard source_class because we consider that source_type will give us interesting insights to the data. If in the future we see that the model is not convincing with the number of categories from source_type, we will use source_class\n",
    "\n",
    "- We will keep waterpoint_type_group over waterpoint_type because we consider it beneficial to have grouped communal standpipe and communal standpipe multiple together."
   ]
  },
  {
   "cell_type": "code",
   "execution_count": 61,
   "metadata": {},
   "outputs": [],
   "source": [
    "drop_categorical_columns = ['extraction_type_group', 'extraction_type', 'management', 'payment', 'water_quality', 'quantity', 'source', 'source_class','waterpoint_type_group']"
   ]
  },
  {
   "cell_type": "code",
   "execution_count": 62,
   "metadata": {},
   "outputs": [],
   "source": [
    "# Drop the list of columns from df_train_merge\n",
    "df_train_merge = df_train_merge.drop(drop_categorical_columns, axis=1)"
   ]
  },
  {
   "cell_type": "markdown",
   "metadata": {},
   "source": [
    "#### 3.5.1.5 Multivaried Analysis"
   ]
  },
  {
   "cell_type": "code",
   "execution_count": 63,
   "metadata": {},
   "outputs": [
    {
     "data": {
      "text/plain": [
       "Index(['amount_tsh', 'gps_height', 'population'], dtype='object')"
      ]
     },
     "execution_count": 63,
     "metadata": {},
     "output_type": "execute_result"
    }
   ],
   "source": [
    "numeric_columns.columns"
   ]
  },
  {
   "cell_type": "code",
   "execution_count": 64,
   "metadata": {},
   "outputs": [
    {
     "data": {
      "text/plain": [
       "['extraction_type_group',\n",
       " 'extraction_type',\n",
       " 'management',\n",
       " 'payment',\n",
       " 'water_quality',\n",
       " 'quantity',\n",
       " 'source',\n",
       " 'source_class',\n",
       " 'waterpoint_type_group']"
      ]
     },
     "execution_count": 64,
     "metadata": {},
     "output_type": "execute_result"
    }
   ],
   "source": [
    "categorical_columns = categorical_columns.drop(drop_categorical_columns)\n",
    "drop_categorical_columns"
   ]
  },
  {
   "cell_type": "code",
   "execution_count": 65,
   "metadata": {},
   "outputs": [
    {
     "data": {
      "text/plain": [
       "['amount_tsh',\n",
       " 'gps_height',\n",
       " 'population',\n",
       " 'basin',\n",
       " 'region',\n",
       " 'public_meeting',\n",
       " 'permit',\n",
       " 'extraction_type_class',\n",
       " 'management_group',\n",
       " 'payment_type',\n",
       " 'quality_group',\n",
       " 'quantity_group',\n",
       " 'source_type',\n",
       " 'waterpoint_type',\n",
       " 'funder_type',\n",
       " 'installer_type',\n",
       " 'scheme_management_grouped']"
      ]
     },
     "execution_count": 65,
     "metadata": {},
     "output_type": "execute_result"
    }
   ],
   "source": [
    "# Let's join together numeric_columns and categorical_columns into a list that we will pass as an argument to the multavaried\n",
    "# analysis function\n",
    "\n",
    "combined_columns = numeric_columns.columns.tolist() + categorical_columns.tolist()\n",
    "combined_columns"
   ]
  },
  {
   "cell_type": "code",
   "execution_count": 66,
   "metadata": {},
   "outputs": [
    {
     "data": {
      "text/plain": [
       "Index(['id', 'amount_tsh', 'date_recorded', 'funder', 'gps_height',\n",
       "       'installer', 'longitude', 'latitude', 'basin', 'region', 'region_code',\n",
       "       'district_code', 'population', 'public_meeting', 'scheme_management',\n",
       "       'permit', 'construction_year', 'extraction_type_class',\n",
       "       'management_group', 'payment_type', 'quality_group', 'quantity_group',\n",
       "       'source_type', 'waterpoint_type', 'status_group', 'funder_type',\n",
       "       'installer_type', 'scheme_management_grouped'],\n",
       "      dtype='object')"
      ]
     },
     "execution_count": 66,
     "metadata": {},
     "output_type": "execute_result"
    }
   ],
   "source": [
    "df_train_merge.columns"
   ]
  },
  {
   "cell_type": "code",
   "execution_count": 67,
   "metadata": {
    "scrolled": true
   },
   "outputs": [],
   "source": [
    "# Apply the function for multivaried analysis\n",
    "\n",
    "# plot_grouped_charts(df_train_merge, 'status_group', combined_columns)\n"
   ]
  },
  {
   "cell_type": "markdown",
   "metadata": {},
   "source": [
    "**Contingency Tables**"
   ]
  },
  {
   "cell_type": "code",
   "execution_count": 68,
   "metadata": {},
   "outputs": [
    {
     "data": {
      "text/plain": [
       "Index(['basin', 'region', 'public_meeting', 'permit', 'extraction_type_class',\n",
       "       'management_group', 'payment_type', 'quality_group', 'quantity_group',\n",
       "       'source_type', 'waterpoint_type', 'funder_type', 'installer_type',\n",
       "       'scheme_management_grouped'],\n",
       "      dtype='object')"
      ]
     },
     "execution_count": 68,
     "metadata": {},
     "output_type": "execute_result"
    }
   ],
   "source": [
    "categorical_columns"
   ]
  },
  {
   "cell_type": "code",
   "execution_count": 69,
   "metadata": {},
   "outputs": [],
   "source": [
    "tables = generate_proportion_contingency_tables(df_train_merge, 'status_group', categorical_columns)"
   ]
  },
  {
   "cell_type": "code",
   "execution_count": 70,
   "metadata": {
    "scrolled": false
   },
   "outputs": [
    {
     "name": "stdout",
     "output_type": "stream",
     "text": [
      "Table for basin:\n"
     ]
    },
    {
     "data": {
      "text/html": [
       "<div>\n",
       "<style scoped>\n",
       "    .dataframe tbody tr th:only-of-type {\n",
       "        vertical-align: middle;\n",
       "    }\n",
       "\n",
       "    .dataframe tbody tr th {\n",
       "        vertical-align: top;\n",
       "    }\n",
       "\n",
       "    .dataframe thead th {\n",
       "        text-align: right;\n",
       "    }\n",
       "</style>\n",
       "<table border=\"1\" class=\"dataframe\">\n",
       "  <thead>\n",
       "    <tr style=\"text-align: right;\">\n",
       "      <th>basin</th>\n",
       "      <th>internal</th>\n",
       "      <th>lake nyasa</th>\n",
       "      <th>lake rukwa</th>\n",
       "      <th>lake tanganyika</th>\n",
       "      <th>lake victoria</th>\n",
       "      <th>pangani</th>\n",
       "      <th>rufiji</th>\n",
       "      <th>ruvuma southern coast</th>\n",
       "      <th>wami ruvu</th>\n",
       "    </tr>\n",
       "    <tr>\n",
       "      <th>status_group</th>\n",
       "      <th></th>\n",
       "      <th></th>\n",
       "      <th></th>\n",
       "      <th></th>\n",
       "      <th></th>\n",
       "      <th></th>\n",
       "      <th></th>\n",
       "      <th></th>\n",
       "      <th></th>\n",
       "    </tr>\n",
       "  </thead>\n",
       "  <tbody>\n",
       "    <tr>\n",
       "      <th>functional</th>\n",
       "      <td>13.89</td>\n",
       "      <td>10.30</td>\n",
       "      <td>3.10</td>\n",
       "      <td>9.63</td>\n",
       "      <td>15.81</td>\n",
       "      <td>16.65</td>\n",
       "      <td>15.71</td>\n",
       "      <td>5.18</td>\n",
       "      <td>9.72</td>\n",
       "    </tr>\n",
       "    <tr>\n",
       "      <th>functional needs repair</th>\n",
       "      <td>12.90</td>\n",
       "      <td>5.79</td>\n",
       "      <td>6.25</td>\n",
       "      <td>17.19</td>\n",
       "      <td>22.91</td>\n",
       "      <td>11.05</td>\n",
       "      <td>10.12</td>\n",
       "      <td>7.55</td>\n",
       "      <td>6.23</td>\n",
       "    </tr>\n",
       "    <tr>\n",
       "      <th>non functional</th>\n",
       "      <td>12.03</td>\n",
       "      <td>6.62</td>\n",
       "      <td>5.19</td>\n",
       "      <td>11.32</td>\n",
       "      <td>18.22</td>\n",
       "      <td>13.54</td>\n",
       "      <td>10.83</td>\n",
       "      <td>10.94</td>\n",
       "      <td>11.31</td>\n",
       "    </tr>\n",
       "  </tbody>\n",
       "</table>\n",
       "</div>"
      ],
      "text/plain": [
       "basin                    internal  lake nyasa  lake rukwa  lake tanganyika  \\\n",
       "status_group                                                                 \n",
       "functional                  13.89       10.30        3.10             9.63   \n",
       "functional needs repair     12.90        5.79        6.25            17.19   \n",
       "non functional              12.03        6.62        5.19            11.32   \n",
       "\n",
       "basin                    lake victoria  pangani  rufiji  \\\n",
       "status_group                                              \n",
       "functional                       15.81    16.65   15.71   \n",
       "functional needs repair          22.91    11.05   10.12   \n",
       "non functional                   18.22    13.54   10.83   \n",
       "\n",
       "basin                    ruvuma southern coast  wami ruvu  \n",
       "status_group                                               \n",
       "functional                                5.18       9.72  \n",
       "functional needs repair                   7.55       6.23  \n",
       "non functional                           10.94      11.31  "
      ]
     },
     "metadata": {},
     "output_type": "display_data"
    },
    {
     "name": "stdout",
     "output_type": "stream",
     "text": [
      "\n",
      "\n",
      "Table for region:\n"
     ]
    },
    {
     "data": {
      "text/html": [
       "<div>\n",
       "<style scoped>\n",
       "    .dataframe tbody tr th:only-of-type {\n",
       "        vertical-align: middle;\n",
       "    }\n",
       "\n",
       "    .dataframe tbody tr th {\n",
       "        vertical-align: top;\n",
       "    }\n",
       "\n",
       "    .dataframe thead th {\n",
       "        text-align: right;\n",
       "    }\n",
       "</style>\n",
       "<table border=\"1\" class=\"dataframe\">\n",
       "  <thead>\n",
       "    <tr style=\"text-align: right;\">\n",
       "      <th>region</th>\n",
       "      <th>arusha</th>\n",
       "      <th>dar es salaam</th>\n",
       "      <th>dodoma</th>\n",
       "      <th>iringa</th>\n",
       "      <th>kagera</th>\n",
       "      <th>kigoma</th>\n",
       "      <th>kilimanjaro</th>\n",
       "      <th>lindi</th>\n",
       "      <th>manyara</th>\n",
       "      <th>mara</th>\n",
       "      <th>...</th>\n",
       "      <th>morogoro</th>\n",
       "      <th>mtwara</th>\n",
       "      <th>mwanza</th>\n",
       "      <th>pwani</th>\n",
       "      <th>rukwa</th>\n",
       "      <th>ruvuma</th>\n",
       "      <th>shinyanga</th>\n",
       "      <th>singida</th>\n",
       "      <th>tabora</th>\n",
       "      <th>tanga</th>\n",
       "    </tr>\n",
       "    <tr>\n",
       "      <th>status_group</th>\n",
       "      <th></th>\n",
       "      <th></th>\n",
       "      <th></th>\n",
       "      <th></th>\n",
       "      <th></th>\n",
       "      <th></th>\n",
       "      <th></th>\n",
       "      <th></th>\n",
       "      <th></th>\n",
       "      <th></th>\n",
       "      <th></th>\n",
       "      <th></th>\n",
       "      <th></th>\n",
       "      <th></th>\n",
       "      <th></th>\n",
       "      <th></th>\n",
       "      <th></th>\n",
       "      <th></th>\n",
       "      <th></th>\n",
       "      <th></th>\n",
       "      <th></th>\n",
       "    </tr>\n",
       "  </thead>\n",
       "  <tbody>\n",
       "    <tr>\n",
       "      <th>functional</th>\n",
       "      <td>7.11</td>\n",
       "      <td>1.43</td>\n",
       "      <td>3.13</td>\n",
       "      <td>12.84</td>\n",
       "      <td>5.35</td>\n",
       "      <td>4.23</td>\n",
       "      <td>8.18</td>\n",
       "      <td>1.43</td>\n",
       "      <td>3.06</td>\n",
       "      <td>2.75</td>\n",
       "      <td>...</td>\n",
       "      <td>6.57</td>\n",
       "      <td>1.62</td>\n",
       "      <td>4.66</td>\n",
       "      <td>4.82</td>\n",
       "      <td>2.19</td>\n",
       "      <td>4.59</td>\n",
       "      <td>8.65</td>\n",
       "      <td>3.13</td>\n",
       "      <td>2.63</td>\n",
       "      <td>4.45</td>\n",
       "    </tr>\n",
       "    <tr>\n",
       "      <th>functional needs repair</th>\n",
       "      <td>4.05</td>\n",
       "      <td>0.07</td>\n",
       "      <td>4.84</td>\n",
       "      <td>2.85</td>\n",
       "      <td>7.04</td>\n",
       "      <td>13.97</td>\n",
       "      <td>7.46</td>\n",
       "      <td>2.15</td>\n",
       "      <td>2.22</td>\n",
       "      <td>1.39</td>\n",
       "      <td>...</td>\n",
       "      <td>6.95</td>\n",
       "      <td>2.92</td>\n",
       "      <td>4.24</td>\n",
       "      <td>0.83</td>\n",
       "      <td>3.13</td>\n",
       "      <td>3.80</td>\n",
       "      <td>14.71</td>\n",
       "      <td>2.97</td>\n",
       "      <td>1.04</td>\n",
       "      <td>1.69</td>\n",
       "    </tr>\n",
       "    <tr>\n",
       "      <th>non functional</th>\n",
       "      <td>3.86</td>\n",
       "      <td>1.49</td>\n",
       "      <td>4.31</td>\n",
       "      <td>4.51</td>\n",
       "      <td>5.63</td>\n",
       "      <td>3.72</td>\n",
       "      <td>6.21</td>\n",
       "      <td>4.35</td>\n",
       "      <td>2.19</td>\n",
       "      <td>4.48</td>\n",
       "      <td>...</td>\n",
       "      <td>6.95</td>\n",
       "      <td>4.73</td>\n",
       "      <td>6.21</td>\n",
       "      <td>4.57</td>\n",
       "      <td>4.23</td>\n",
       "      <td>4.36</td>\n",
       "      <td>6.83</td>\n",
       "      <td>4.18</td>\n",
       "      <td>4.67</td>\n",
       "      <td>4.55</td>\n",
       "    </tr>\n",
       "  </tbody>\n",
       "</table>\n",
       "<p>3 rows × 21 columns</p>\n",
       "</div>"
      ],
      "text/plain": [
       "region                   arusha  dar es salaam  dodoma  iringa  kagera  \\\n",
       "status_group                                                             \n",
       "functional                 7.11           1.43    3.13   12.84    5.35   \n",
       "functional needs repair    4.05           0.07    4.84    2.85    7.04   \n",
       "non functional             3.86           1.49    4.31    4.51    5.63   \n",
       "\n",
       "region                   kigoma  kilimanjaro  lindi  manyara  mara  ...  \\\n",
       "status_group                                                        ...   \n",
       "functional                 4.23         8.18   1.43     3.06  2.75  ...   \n",
       "functional needs repair   13.97         7.46   2.15     2.22  1.39  ...   \n",
       "non functional             3.72         6.21   4.35     2.19  4.48  ...   \n",
       "\n",
       "region                   morogoro  mtwara  mwanza  pwani  rukwa  ruvuma  \\\n",
       "status_group                                                              \n",
       "functional                   6.57    1.62    4.66   4.82   2.19    4.59   \n",
       "functional needs repair      6.95    2.92    4.24   0.83   3.13    3.80   \n",
       "non functional               6.95    4.73    6.21   4.57   4.23    4.36   \n",
       "\n",
       "region                   shinyanga  singida  tabora  tanga  \n",
       "status_group                                                \n",
       "functional                    8.65     3.13    2.63   4.45  \n",
       "functional needs repair      14.71     2.97    1.04   1.69  \n",
       "non functional                6.83     4.18    4.67   4.55  \n",
       "\n",
       "[3 rows x 21 columns]"
      ]
     },
     "metadata": {},
     "output_type": "display_data"
    },
    {
     "name": "stdout",
     "output_type": "stream",
     "text": [
      "\n",
      "\n",
      "Table for public_meeting:\n"
     ]
    },
    {
     "data": {
      "text/html": [
       "<div>\n",
       "<style scoped>\n",
       "    .dataframe tbody tr th:only-of-type {\n",
       "        vertical-align: middle;\n",
       "    }\n",
       "\n",
       "    .dataframe tbody tr th {\n",
       "        vertical-align: top;\n",
       "    }\n",
       "\n",
       "    .dataframe thead th {\n",
       "        text-align: right;\n",
       "    }\n",
       "</style>\n",
       "<table border=\"1\" class=\"dataframe\">\n",
       "  <thead>\n",
       "    <tr style=\"text-align: right;\">\n",
       "      <th>public_meeting</th>\n",
       "      <th>False</th>\n",
       "      <th>True</th>\n",
       "    </tr>\n",
       "    <tr>\n",
       "      <th>status_group</th>\n",
       "      <th></th>\n",
       "      <th></th>\n",
       "    </tr>\n",
       "  </thead>\n",
       "  <tbody>\n",
       "    <tr>\n",
       "      <th>functional</th>\n",
       "      <td>7.11</td>\n",
       "      <td>92.89</td>\n",
       "    </tr>\n",
       "    <tr>\n",
       "      <th>functional needs repair</th>\n",
       "      <td>10.62</td>\n",
       "      <td>89.38</td>\n",
       "    </tr>\n",
       "    <tr>\n",
       "      <th>non functional</th>\n",
       "      <td>11.44</td>\n",
       "      <td>88.56</td>\n",
       "    </tr>\n",
       "  </tbody>\n",
       "</table>\n",
       "</div>"
      ],
      "text/plain": [
       "public_meeting           False  True \n",
       "status_group                         \n",
       "functional                7.11  92.89\n",
       "functional needs repair  10.62  89.38\n",
       "non functional           11.44  88.56"
      ]
     },
     "metadata": {},
     "output_type": "display_data"
    },
    {
     "name": "stdout",
     "output_type": "stream",
     "text": [
      "\n",
      "\n",
      "Table for permit:\n"
     ]
    },
    {
     "data": {
      "text/html": [
       "<div>\n",
       "<style scoped>\n",
       "    .dataframe tbody tr th:only-of-type {\n",
       "        vertical-align: middle;\n",
       "    }\n",
       "\n",
       "    .dataframe tbody tr th {\n",
       "        vertical-align: top;\n",
       "    }\n",
       "\n",
       "    .dataframe thead th {\n",
       "        text-align: right;\n",
       "    }\n",
       "</style>\n",
       "<table border=\"1\" class=\"dataframe\">\n",
       "  <thead>\n",
       "    <tr style=\"text-align: right;\">\n",
       "      <th>permit</th>\n",
       "      <th>False</th>\n",
       "      <th>True</th>\n",
       "    </tr>\n",
       "    <tr>\n",
       "      <th>status_group</th>\n",
       "      <th></th>\n",
       "      <th></th>\n",
       "    </tr>\n",
       "  </thead>\n",
       "  <tbody>\n",
       "    <tr>\n",
       "      <th>functional</th>\n",
       "      <td>29.57</td>\n",
       "      <td>70.43</td>\n",
       "    </tr>\n",
       "    <tr>\n",
       "      <th>functional needs repair</th>\n",
       "      <td>32.86</td>\n",
       "      <td>67.14</td>\n",
       "    </tr>\n",
       "    <tr>\n",
       "      <th>non functional</th>\n",
       "      <td>32.78</td>\n",
       "      <td>67.22</td>\n",
       "    </tr>\n",
       "  </tbody>\n",
       "</table>\n",
       "</div>"
      ],
      "text/plain": [
       "permit                   False  True \n",
       "status_group                         \n",
       "functional               29.57  70.43\n",
       "functional needs repair  32.86  67.14\n",
       "non functional           32.78  67.22"
      ]
     },
     "metadata": {},
     "output_type": "display_data"
    },
    {
     "name": "stdout",
     "output_type": "stream",
     "text": [
      "\n",
      "\n",
      "Table for extraction_type_class:\n"
     ]
    },
    {
     "data": {
      "text/html": [
       "<div>\n",
       "<style scoped>\n",
       "    .dataframe tbody tr th:only-of-type {\n",
       "        vertical-align: middle;\n",
       "    }\n",
       "\n",
       "    .dataframe tbody tr th {\n",
       "        vertical-align: top;\n",
       "    }\n",
       "\n",
       "    .dataframe thead th {\n",
       "        text-align: right;\n",
       "    }\n",
       "</style>\n",
       "<table border=\"1\" class=\"dataframe\">\n",
       "  <thead>\n",
       "    <tr style=\"text-align: right;\">\n",
       "      <th>extraction_type_class</th>\n",
       "      <th>gravity</th>\n",
       "      <th>handpump</th>\n",
       "      <th>motorpump</th>\n",
       "      <th>other</th>\n",
       "      <th>rope pump</th>\n",
       "      <th>submersible</th>\n",
       "      <th>windpowered</th>\n",
       "    </tr>\n",
       "    <tr>\n",
       "      <th>status_group</th>\n",
       "      <th></th>\n",
       "      <th></th>\n",
       "      <th></th>\n",
       "      <th></th>\n",
       "      <th></th>\n",
       "      <th></th>\n",
       "      <th></th>\n",
       "    </tr>\n",
       "  </thead>\n",
       "  <tbody>\n",
       "    <tr>\n",
       "      <th>functional</th>\n",
       "      <td>49.75</td>\n",
       "      <td>32.16</td>\n",
       "      <td>3.52</td>\n",
       "      <td>3.19</td>\n",
       "      <td>0.91</td>\n",
       "      <td>10.32</td>\n",
       "      <td>0.15</td>\n",
       "    </tr>\n",
       "    <tr>\n",
       "      <th>functional needs repair</th>\n",
       "      <td>62.57</td>\n",
       "      <td>23.05</td>\n",
       "      <td>3.20</td>\n",
       "      <td>4.77</td>\n",
       "      <td>0.39</td>\n",
       "      <td>5.86</td>\n",
       "      <td>0.16</td>\n",
       "    </tr>\n",
       "    <tr>\n",
       "      <th>non functional</th>\n",
       "      <td>35.19</td>\n",
       "      <td>22.28</td>\n",
       "      <td>7.51</td>\n",
       "      <td>22.76</td>\n",
       "      <td>0.62</td>\n",
       "      <td>11.38</td>\n",
       "      <td>0.26</td>\n",
       "    </tr>\n",
       "  </tbody>\n",
       "</table>\n",
       "</div>"
      ],
      "text/plain": [
       "extraction_type_class    gravity  handpump  motorpump  other  rope pump  \\\n",
       "status_group                                                              \n",
       "functional                 49.75     32.16       3.52   3.19       0.91   \n",
       "functional needs repair    62.57     23.05       3.20   4.77       0.39   \n",
       "non functional             35.19     22.28       7.51  22.76       0.62   \n",
       "\n",
       "extraction_type_class    submersible  windpowered  \n",
       "status_group                                       \n",
       "functional                     10.32         0.15  \n",
       "functional needs repair         5.86         0.16  \n",
       "non functional                 11.38         0.26  "
      ]
     },
     "metadata": {},
     "output_type": "display_data"
    },
    {
     "name": "stdout",
     "output_type": "stream",
     "text": [
      "\n",
      "\n",
      "Table for management_group:\n"
     ]
    },
    {
     "data": {
      "text/html": [
       "<div>\n",
       "<style scoped>\n",
       "    .dataframe tbody tr th:only-of-type {\n",
       "        vertical-align: middle;\n",
       "    }\n",
       "\n",
       "    .dataframe tbody tr th {\n",
       "        vertical-align: top;\n",
       "    }\n",
       "\n",
       "    .dataframe thead th {\n",
       "        text-align: right;\n",
       "    }\n",
       "</style>\n",
       "<table border=\"1\" class=\"dataframe\">\n",
       "  <thead>\n",
       "    <tr style=\"text-align: right;\">\n",
       "      <th>management_group</th>\n",
       "      <th>commercial</th>\n",
       "      <th>other</th>\n",
       "      <th>parastatal</th>\n",
       "      <th>unknown</th>\n",
       "      <th>usergroup</th>\n",
       "    </tr>\n",
       "    <tr>\n",
       "      <th>status_group</th>\n",
       "      <th></th>\n",
       "      <th></th>\n",
       "      <th></th>\n",
       "      <th></th>\n",
       "      <th></th>\n",
       "    </tr>\n",
       "  </thead>\n",
       "  <tbody>\n",
       "    <tr>\n",
       "      <th>functional</th>\n",
       "      <td>6.93</td>\n",
       "      <td>1.64</td>\n",
       "      <td>3.16</td>\n",
       "      <td>0.69</td>\n",
       "      <td>87.58</td>\n",
       "    </tr>\n",
       "    <tr>\n",
       "      <th>functional needs repair</th>\n",
       "      <td>2.71</td>\n",
       "      <td>1.30</td>\n",
       "      <td>4.89</td>\n",
       "      <td>0.63</td>\n",
       "      <td>90.48</td>\n",
       "    </tr>\n",
       "    <tr>\n",
       "      <th>non functional</th>\n",
       "      <td>5.63</td>\n",
       "      <td>1.57</td>\n",
       "      <td>2.35</td>\n",
       "      <td>1.36</td>\n",
       "      <td>89.08</td>\n",
       "    </tr>\n",
       "  </tbody>\n",
       "</table>\n",
       "</div>"
      ],
      "text/plain": [
       "management_group         commercial  other  parastatal  unknown  usergroup\n",
       "status_group                                                              \n",
       "functional                     6.93   1.64        3.16     0.69      87.58\n",
       "functional needs repair        2.71   1.30        4.89     0.63      90.48\n",
       "non functional                 5.63   1.57        2.35     1.36      89.08"
      ]
     },
     "metadata": {},
     "output_type": "display_data"
    },
    {
     "name": "stdout",
     "output_type": "stream",
     "text": [
      "\n",
      "\n",
      "Table for payment_type:\n"
     ]
    },
    {
     "data": {
      "text/html": [
       "<div>\n",
       "<style scoped>\n",
       "    .dataframe tbody tr th:only-of-type {\n",
       "        vertical-align: middle;\n",
       "    }\n",
       "\n",
       "    .dataframe tbody tr th {\n",
       "        vertical-align: top;\n",
       "    }\n",
       "\n",
       "    .dataframe thead th {\n",
       "        text-align: right;\n",
       "    }\n",
       "</style>\n",
       "<table border=\"1\" class=\"dataframe\">\n",
       "  <thead>\n",
       "    <tr style=\"text-align: right;\">\n",
       "      <th>payment_type</th>\n",
       "      <th>annually</th>\n",
       "      <th>monthly</th>\n",
       "      <th>never pay</th>\n",
       "      <th>on failure</th>\n",
       "      <th>other</th>\n",
       "      <th>per bucket</th>\n",
       "      <th>unknown</th>\n",
       "    </tr>\n",
       "    <tr>\n",
       "      <th>status_group</th>\n",
       "      <th></th>\n",
       "      <th></th>\n",
       "      <th></th>\n",
       "      <th></th>\n",
       "      <th></th>\n",
       "      <th></th>\n",
       "      <th></th>\n",
       "    </tr>\n",
       "  </thead>\n",
       "  <tbody>\n",
       "    <tr>\n",
       "      <th>functional</th>\n",
       "      <td>8.49</td>\n",
       "      <td>16.99</td>\n",
       "      <td>35.27</td>\n",
       "      <td>7.53</td>\n",
       "      <td>1.89</td>\n",
       "      <td>18.88</td>\n",
       "      <td>10.94</td>\n",
       "    </tr>\n",
       "    <tr>\n",
       "      <th>functional needs repair</th>\n",
       "      <td>5.72</td>\n",
       "      <td>21.47</td>\n",
       "      <td>44.17</td>\n",
       "      <td>6.42</td>\n",
       "      <td>2.73</td>\n",
       "      <td>9.47</td>\n",
       "      <td>10.01</td>\n",
       "    </tr>\n",
       "    <tr>\n",
       "      <th>non functional</th>\n",
       "      <td>2.87</td>\n",
       "      <td>8.29</td>\n",
       "      <td>52.85</td>\n",
       "      <td>5.29</td>\n",
       "      <td>1.42</td>\n",
       "      <td>10.89</td>\n",
       "      <td>18.39</td>\n",
       "    </tr>\n",
       "  </tbody>\n",
       "</table>\n",
       "</div>"
      ],
      "text/plain": [
       "payment_type             annually  monthly  never pay  on failure  other  \\\n",
       "status_group                                                               \n",
       "functional                   8.49    16.99      35.27        7.53   1.89   \n",
       "functional needs repair      5.72    21.47      44.17        6.42   2.73   \n",
       "non functional               2.87     8.29      52.85        5.29   1.42   \n",
       "\n",
       "payment_type             per bucket  unknown  \n",
       "status_group                                  \n",
       "functional                    18.88    10.94  \n",
       "functional needs repair        9.47    10.01  \n",
       "non functional                10.89    18.39  "
      ]
     },
     "metadata": {},
     "output_type": "display_data"
    },
    {
     "name": "stdout",
     "output_type": "stream",
     "text": [
      "\n",
      "\n",
      "Table for quality_group:\n"
     ]
    },
    {
     "data": {
      "text/html": [
       "<div>\n",
       "<style scoped>\n",
       "    .dataframe tbody tr th:only-of-type {\n",
       "        vertical-align: middle;\n",
       "    }\n",
       "\n",
       "    .dataframe tbody tr th {\n",
       "        vertical-align: top;\n",
       "    }\n",
       "\n",
       "    .dataframe thead th {\n",
       "        text-align: right;\n",
       "    }\n",
       "</style>\n",
       "<table border=\"1\" class=\"dataframe\">\n",
       "  <thead>\n",
       "    <tr style=\"text-align: right;\">\n",
       "      <th>quality_group</th>\n",
       "      <th>colored</th>\n",
       "      <th>fluoride</th>\n",
       "      <th>good</th>\n",
       "      <th>milky</th>\n",
       "      <th>salty</th>\n",
       "      <th>unknown</th>\n",
       "    </tr>\n",
       "    <tr>\n",
       "      <th>status_group</th>\n",
       "      <th></th>\n",
       "      <th></th>\n",
       "      <th></th>\n",
       "      <th></th>\n",
       "      <th></th>\n",
       "      <th></th>\n",
       "    </tr>\n",
       "  </thead>\n",
       "  <tbody>\n",
       "    <tr>\n",
       "      <th>functional</th>\n",
       "      <td>0.76</td>\n",
       "      <td>0.49</td>\n",
       "      <td>89.15</td>\n",
       "      <td>1.36</td>\n",
       "      <td>7.42</td>\n",
       "      <td>0.82</td>\n",
       "    </tr>\n",
       "    <tr>\n",
       "      <th>functional needs repair</th>\n",
       "      <td>1.25</td>\n",
       "      <td>0.30</td>\n",
       "      <td>90.43</td>\n",
       "      <td>0.32</td>\n",
       "      <td>6.88</td>\n",
       "      <td>0.81</td>\n",
       "    </tr>\n",
       "    <tr>\n",
       "      <th>non functional</th>\n",
       "      <td>0.83</td>\n",
       "      <td>0.21</td>\n",
       "      <td>79.54</td>\n",
       "      <td>1.54</td>\n",
       "      <td>10.97</td>\n",
       "      <td>6.91</td>\n",
       "    </tr>\n",
       "  </tbody>\n",
       "</table>\n",
       "</div>"
      ],
      "text/plain": [
       "quality_group            colored  fluoride   good  milky  salty  unknown\n",
       "status_group                                                            \n",
       "functional                  0.76      0.49  89.15   1.36   7.42     0.82\n",
       "functional needs repair     1.25      0.30  90.43   0.32   6.88     0.81\n",
       "non functional              0.83      0.21  79.54   1.54  10.97     6.91"
      ]
     },
     "metadata": {},
     "output_type": "display_data"
    },
    {
     "name": "stdout",
     "output_type": "stream",
     "text": [
      "\n",
      "\n",
      "Table for quantity_group:\n"
     ]
    },
    {
     "data": {
      "text/html": [
       "<div>\n",
       "<style scoped>\n",
       "    .dataframe tbody tr th:only-of-type {\n",
       "        vertical-align: middle;\n",
       "    }\n",
       "\n",
       "    .dataframe tbody tr th {\n",
       "        vertical-align: top;\n",
       "    }\n",
       "\n",
       "    .dataframe thead th {\n",
       "        text-align: right;\n",
       "    }\n",
       "</style>\n",
       "<table border=\"1\" class=\"dataframe\">\n",
       "  <thead>\n",
       "    <tr style=\"text-align: right;\">\n",
       "      <th>quantity_group</th>\n",
       "      <th>dry</th>\n",
       "      <th>enough</th>\n",
       "      <th>insufficient</th>\n",
       "      <th>seasonal</th>\n",
       "      <th>unknown</th>\n",
       "    </tr>\n",
       "    <tr>\n",
       "      <th>status_group</th>\n",
       "      <th></th>\n",
       "      <th></th>\n",
       "      <th></th>\n",
       "      <th></th>\n",
       "      <th></th>\n",
       "    </tr>\n",
       "  </thead>\n",
       "  <tbody>\n",
       "    <tr>\n",
       "      <th>functional</th>\n",
       "      <td>0.49</td>\n",
       "      <td>67.11</td>\n",
       "      <td>24.54</td>\n",
       "      <td>7.21</td>\n",
       "      <td>0.66</td>\n",
       "    </tr>\n",
       "    <tr>\n",
       "      <th>functional needs repair</th>\n",
       "      <td>0.86</td>\n",
       "      <td>55.59</td>\n",
       "      <td>33.59</td>\n",
       "      <td>9.64</td>\n",
       "      <td>0.32</td>\n",
       "    </tr>\n",
       "    <tr>\n",
       "      <th>non functional</th>\n",
       "      <td>26.52</td>\n",
       "      <td>40.04</td>\n",
       "      <td>25.25</td>\n",
       "      <td>5.74</td>\n",
       "      <td>2.46</td>\n",
       "    </tr>\n",
       "  </tbody>\n",
       "</table>\n",
       "</div>"
      ],
      "text/plain": [
       "quantity_group             dry  enough  insufficient  seasonal  unknown\n",
       "status_group                                                           \n",
       "functional                0.49   67.11         24.54      7.21     0.66\n",
       "functional needs repair   0.86   55.59         33.59      9.64     0.32\n",
       "non functional           26.52   40.04         25.25      5.74     2.46"
      ]
     },
     "metadata": {},
     "output_type": "display_data"
    },
    {
     "name": "stdout",
     "output_type": "stream",
     "text": [
      "\n",
      "\n",
      "Table for source_type:\n"
     ]
    },
    {
     "data": {
      "text/html": [
       "<div>\n",
       "<style scoped>\n",
       "    .dataframe tbody tr th:only-of-type {\n",
       "        vertical-align: middle;\n",
       "    }\n",
       "\n",
       "    .dataframe tbody tr th {\n",
       "        vertical-align: top;\n",
       "    }\n",
       "\n",
       "    .dataframe thead th {\n",
       "        text-align: right;\n",
       "    }\n",
       "</style>\n",
       "<table border=\"1\" class=\"dataframe\">\n",
       "  <thead>\n",
       "    <tr style=\"text-align: right;\">\n",
       "      <th>source_type</th>\n",
       "      <th>borehole</th>\n",
       "      <th>dam</th>\n",
       "      <th>other</th>\n",
       "      <th>rainwater harvesting</th>\n",
       "      <th>riverlake</th>\n",
       "      <th>shallow well</th>\n",
       "      <th>spring</th>\n",
       "    </tr>\n",
       "    <tr>\n",
       "      <th>status_group</th>\n",
       "      <th></th>\n",
       "      <th></th>\n",
       "      <th></th>\n",
       "      <th></th>\n",
       "      <th></th>\n",
       "      <th></th>\n",
       "      <th></th>\n",
       "    </tr>\n",
       "  </thead>\n",
       "  <tbody>\n",
       "    <tr>\n",
       "      <th>functional</th>\n",
       "      <td>18.35</td>\n",
       "      <td>0.78</td>\n",
       "      <td>0.49</td>\n",
       "      <td>4.30</td>\n",
       "      <td>17.44</td>\n",
       "      <td>25.80</td>\n",
       "      <td>32.83</td>\n",
       "    </tr>\n",
       "    <tr>\n",
       "      <th>functional needs repair</th>\n",
       "      <td>11.77</td>\n",
       "      <td>0.56</td>\n",
       "      <td>0.12</td>\n",
       "      <td>7.27</td>\n",
       "      <td>28.56</td>\n",
       "      <td>22.17</td>\n",
       "      <td>29.56</td>\n",
       "    </tr>\n",
       "    <tr>\n",
       "      <th>non functional</th>\n",
       "      <td>24.19</td>\n",
       "      <td>1.66</td>\n",
       "      <td>0.50</td>\n",
       "      <td>2.61</td>\n",
       "      <td>15.41</td>\n",
       "      <td>33.05</td>\n",
       "      <td>22.58</td>\n",
       "    </tr>\n",
       "  </tbody>\n",
       "</table>\n",
       "</div>"
      ],
      "text/plain": [
       "source_type              borehole   dam  other  rainwater harvesting  \\\n",
       "status_group                                                           \n",
       "functional                  18.35  0.78   0.49                  4.30   \n",
       "functional needs repair     11.77  0.56   0.12                  7.27   \n",
       "non functional              24.19  1.66   0.50                  2.61   \n",
       "\n",
       "source_type              riverlake  shallow well  spring  \n",
       "status_group                                              \n",
       "functional                   17.44         25.80   32.83  \n",
       "functional needs repair      28.56         22.17   29.56  \n",
       "non functional               15.41         33.05   22.58  "
      ]
     },
     "metadata": {},
     "output_type": "display_data"
    },
    {
     "name": "stdout",
     "output_type": "stream",
     "text": [
      "\n",
      "\n",
      "Table for waterpoint_type:\n"
     ]
    },
    {
     "data": {
      "text/html": [
       "<div>\n",
       "<style scoped>\n",
       "    .dataframe tbody tr th:only-of-type {\n",
       "        vertical-align: middle;\n",
       "    }\n",
       "\n",
       "    .dataframe tbody tr th {\n",
       "        vertical-align: top;\n",
       "    }\n",
       "\n",
       "    .dataframe thead th {\n",
       "        text-align: right;\n",
       "    }\n",
       "</style>\n",
       "<table border=\"1\" class=\"dataframe\">\n",
       "  <thead>\n",
       "    <tr style=\"text-align: right;\">\n",
       "      <th>waterpoint_type</th>\n",
       "      <th>cattle trough</th>\n",
       "      <th>communal standpipe</th>\n",
       "      <th>communal standpipe multiple</th>\n",
       "      <th>dam</th>\n",
       "      <th>hand pump</th>\n",
       "      <th>improved spring</th>\n",
       "      <th>other</th>\n",
       "    </tr>\n",
       "    <tr>\n",
       "      <th>status_group</th>\n",
       "      <th></th>\n",
       "      <th></th>\n",
       "      <th></th>\n",
       "      <th></th>\n",
       "      <th></th>\n",
       "      <th></th>\n",
       "      <th></th>\n",
       "    </tr>\n",
       "  </thead>\n",
       "  <tbody>\n",
       "    <tr>\n",
       "      <th>functional</th>\n",
       "      <td>0.26</td>\n",
       "      <td>54.95</td>\n",
       "      <td>6.93</td>\n",
       "      <td>0.02</td>\n",
       "      <td>33.49</td>\n",
       "      <td>1.75</td>\n",
       "      <td>2.60</td>\n",
       "    </tr>\n",
       "    <tr>\n",
       "      <th>functional needs repair</th>\n",
       "      <td>0.05</td>\n",
       "      <td>52.35</td>\n",
       "      <td>15.01</td>\n",
       "      <td>0.00</td>\n",
       "      <td>23.84</td>\n",
       "      <td>1.97</td>\n",
       "      <td>6.79</td>\n",
       "    </tr>\n",
       "    <tr>\n",
       "      <th>non functional</th>\n",
       "      <td>0.13</td>\n",
       "      <td>37.40</td>\n",
       "      <td>14.11</td>\n",
       "      <td>0.00</td>\n",
       "      <td>24.77</td>\n",
       "      <td>0.60</td>\n",
       "      <td>22.99</td>\n",
       "    </tr>\n",
       "  </tbody>\n",
       "</table>\n",
       "</div>"
      ],
      "text/plain": [
       "waterpoint_type          cattle trough  communal standpipe  \\\n",
       "status_group                                                 \n",
       "functional                        0.26               54.95   \n",
       "functional needs repair           0.05               52.35   \n",
       "non functional                    0.13               37.40   \n",
       "\n",
       "waterpoint_type          communal standpipe multiple   dam  hand pump  \\\n",
       "status_group                                                            \n",
       "functional                                      6.93  0.02      33.49   \n",
       "functional needs repair                        15.01  0.00      23.84   \n",
       "non functional                                 14.11  0.00      24.77   \n",
       "\n",
       "waterpoint_type          improved spring  other  \n",
       "status_group                                     \n",
       "functional                          1.75   2.60  \n",
       "functional needs repair             1.97   6.79  \n",
       "non functional                      0.60  22.99  "
      ]
     },
     "metadata": {},
     "output_type": "display_data"
    },
    {
     "name": "stdout",
     "output_type": "stream",
     "text": [
      "\n",
      "\n",
      "Table for funder_type:\n"
     ]
    },
    {
     "data": {
      "text/html": [
       "<div>\n",
       "<style scoped>\n",
       "    .dataframe tbody tr th:only-of-type {\n",
       "        vertical-align: middle;\n",
       "    }\n",
       "\n",
       "    .dataframe tbody tr th {\n",
       "        vertical-align: top;\n",
       "    }\n",
       "\n",
       "    .dataframe thead th {\n",
       "        text-align: right;\n",
       "    }\n",
       "</style>\n",
       "<table border=\"1\" class=\"dataframe\">\n",
       "  <thead>\n",
       "    <tr style=\"text-align: right;\">\n",
       "      <th>funder_type</th>\n",
       "      <th>government</th>\n",
       "      <th>individualother</th>\n",
       "      <th>international aid</th>\n",
       "      <th>ngo</th>\n",
       "      <th>private companies</th>\n",
       "      <th>religious organizations</th>\n",
       "    </tr>\n",
       "    <tr>\n",
       "      <th>status_group</th>\n",
       "      <th></th>\n",
       "      <th></th>\n",
       "      <th></th>\n",
       "      <th></th>\n",
       "      <th></th>\n",
       "      <th></th>\n",
       "    </tr>\n",
       "  </thead>\n",
       "  <tbody>\n",
       "    <tr>\n",
       "      <th>functional</th>\n",
       "      <td>12.63</td>\n",
       "      <td>69.91</td>\n",
       "      <td>14.06</td>\n",
       "      <td>0.23</td>\n",
       "      <td>0.12</td>\n",
       "      <td>3.05</td>\n",
       "    </tr>\n",
       "    <tr>\n",
       "      <th>functional needs repair</th>\n",
       "      <td>17.42</td>\n",
       "      <td>63.08</td>\n",
       "      <td>17.79</td>\n",
       "      <td>0.12</td>\n",
       "      <td>0.12</td>\n",
       "      <td>1.48</td>\n",
       "    </tr>\n",
       "    <tr>\n",
       "      <th>non functional</th>\n",
       "      <td>22.75</td>\n",
       "      <td>61.93</td>\n",
       "      <td>13.87</td>\n",
       "      <td>0.29</td>\n",
       "      <td>0.07</td>\n",
       "      <td>1.10</td>\n",
       "    </tr>\n",
       "  </tbody>\n",
       "</table>\n",
       "</div>"
      ],
      "text/plain": [
       "funder_type              government  individualother  international aid   ngo  \\\n",
       "status_group                                                                    \n",
       "functional                    12.63            69.91              14.06  0.23   \n",
       "functional needs repair       17.42            63.08              17.79  0.12   \n",
       "non functional                22.75            61.93              13.87  0.29   \n",
       "\n",
       "funder_type              private companies  religious organizations  \n",
       "status_group                                                         \n",
       "functional                            0.12                     3.05  \n",
       "functional needs repair               0.12                     1.48  \n",
       "non functional                        0.07                     1.10  "
      ]
     },
     "metadata": {},
     "output_type": "display_data"
    },
    {
     "name": "stdout",
     "output_type": "stream",
     "text": [
      "\n",
      "\n",
      "Table for installer_type:\n"
     ]
    },
    {
     "data": {
      "text/html": [
       "<div>\n",
       "<style scoped>\n",
       "    .dataframe tbody tr th:only-of-type {\n",
       "        vertical-align: middle;\n",
       "    }\n",
       "\n",
       "    .dataframe tbody tr th {\n",
       "        vertical-align: top;\n",
       "    }\n",
       "\n",
       "    .dataframe thead th {\n",
       "        text-align: right;\n",
       "    }\n",
       "</style>\n",
       "<table border=\"1\" class=\"dataframe\">\n",
       "  <thead>\n",
       "    <tr style=\"text-align: right;\">\n",
       "      <th>installer_type</th>\n",
       "      <th>community</th>\n",
       "      <th>dwe</th>\n",
       "      <th>government</th>\n",
       "      <th>institutional</th>\n",
       "      <th>ngo</th>\n",
       "      <th>other</th>\n",
       "      <th>private company</th>\n",
       "    </tr>\n",
       "    <tr>\n",
       "      <th>status_group</th>\n",
       "      <th></th>\n",
       "      <th></th>\n",
       "      <th></th>\n",
       "      <th></th>\n",
       "      <th></th>\n",
       "      <th></th>\n",
       "      <th></th>\n",
       "    </tr>\n",
       "  </thead>\n",
       "  <tbody>\n",
       "    <tr>\n",
       "      <th>functional</th>\n",
       "      <td>4.88</td>\n",
       "      <td>30.49</td>\n",
       "      <td>3.97</td>\n",
       "      <td>1.61</td>\n",
       "      <td>0.54</td>\n",
       "      <td>58.28</td>\n",
       "      <td>0.23</td>\n",
       "    </tr>\n",
       "    <tr>\n",
       "      <th>functional needs repair</th>\n",
       "      <td>2.64</td>\n",
       "      <td>37.76</td>\n",
       "      <td>7.57</td>\n",
       "      <td>1.16</td>\n",
       "      <td>0.23</td>\n",
       "      <td>50.45</td>\n",
       "      <td>0.19</td>\n",
       "    </tr>\n",
       "    <tr>\n",
       "      <th>non functional</th>\n",
       "      <td>2.85</td>\n",
       "      <td>29.16</td>\n",
       "      <td>9.40</td>\n",
       "      <td>0.58</td>\n",
       "      <td>0.63</td>\n",
       "      <td>57.18</td>\n",
       "      <td>0.21</td>\n",
       "    </tr>\n",
       "  </tbody>\n",
       "</table>\n",
       "</div>"
      ],
      "text/plain": [
       "installer_type           community    dwe  government  institutional   ngo  \\\n",
       "status_group                                                                 \n",
       "functional                    4.88  30.49        3.97           1.61  0.54   \n",
       "functional needs repair       2.64  37.76        7.57           1.16  0.23   \n",
       "non functional                2.85  29.16        9.40           0.58  0.63   \n",
       "\n",
       "installer_type           other  private company  \n",
       "status_group                                     \n",
       "functional               58.28             0.23  \n",
       "functional needs repair  50.45             0.19  \n",
       "non functional           57.18             0.21  "
      ]
     },
     "metadata": {},
     "output_type": "display_data"
    },
    {
     "name": "stdout",
     "output_type": "stream",
     "text": [
      "\n",
      "\n",
      "Table for scheme_management_grouped:\n"
     ]
    },
    {
     "data": {
      "text/html": [
       "<div>\n",
       "<style scoped>\n",
       "    .dataframe tbody tr th:only-of-type {\n",
       "        vertical-align: middle;\n",
       "    }\n",
       "\n",
       "    .dataframe tbody tr th {\n",
       "        vertical-align: top;\n",
       "    }\n",
       "\n",
       "    .dataframe thead th {\n",
       "        text-align: right;\n",
       "    }\n",
       "</style>\n",
       "<table border=\"1\" class=\"dataframe\">\n",
       "  <thead>\n",
       "    <tr style=\"text-align: right;\">\n",
       "      <th>scheme_management_grouped</th>\n",
       "      <th>community</th>\n",
       "      <th>government</th>\n",
       "      <th>other</th>\n",
       "      <th>private sector</th>\n",
       "      <th>water board</th>\n",
       "    </tr>\n",
       "    <tr>\n",
       "      <th>status_group</th>\n",
       "      <th></th>\n",
       "      <th></th>\n",
       "      <th></th>\n",
       "      <th></th>\n",
       "      <th></th>\n",
       "    </tr>\n",
       "  </thead>\n",
       "  <tbody>\n",
       "    <tr>\n",
       "      <th>functional</th>\n",
       "      <td>15.50</td>\n",
       "      <td>66.78</td>\n",
       "      <td>7.43</td>\n",
       "      <td>3.92</td>\n",
       "      <td>6.36</td>\n",
       "    </tr>\n",
       "    <tr>\n",
       "      <th>functional needs repair</th>\n",
       "      <td>21.10</td>\n",
       "      <td>69.12</td>\n",
       "      <td>5.81</td>\n",
       "      <td>1.39</td>\n",
       "      <td>2.57</td>\n",
       "    </tr>\n",
       "    <tr>\n",
       "      <th>non functional</th>\n",
       "      <td>9.54</td>\n",
       "      <td>74.91</td>\n",
       "      <td>9.48</td>\n",
       "      <td>3.51</td>\n",
       "      <td>2.56</td>\n",
       "    </tr>\n",
       "  </tbody>\n",
       "</table>\n",
       "</div>"
      ],
      "text/plain": [
       "scheme_management_grouped  community  government  other  private sector  \\\n",
       "status_group                                                              \n",
       "functional                     15.50       66.78   7.43            3.92   \n",
       "functional needs repair        21.10       69.12   5.81            1.39   \n",
       "non functional                  9.54       74.91   9.48            3.51   \n",
       "\n",
       "scheme_management_grouped  water board  \n",
       "status_group                            \n",
       "functional                        6.36  \n",
       "functional needs repair           2.57  \n",
       "non functional                    2.56  "
      ]
     },
     "metadata": {},
     "output_type": "display_data"
    },
    {
     "name": "stdout",
     "output_type": "stream",
     "text": [
      "\n",
      "\n"
     ]
    }
   ],
   "source": [
    "from IPython.display import display\n",
    "\n",
    "for i in categorical_columns:\n",
    "    print(f\"Table for {i}:\")\n",
    "    display(tables[i])\n",
    "    print(\"\\n\")  # Adds a newline for better separation"
   ]
  },
  {
   "cell_type": "markdown",
   "metadata": {},
   "source": [
    "From the study above, we can have an insight of which variables are going to be determinant when running the classification model. These variables are: region, extraction_type_class, payment_type, quantity_group, waterpoint_type, scheme_management_grouped"
   ]
  },
  {
   "cell_type": "markdown",
   "metadata": {},
   "source": [
    "# 4. Exporting the data"
   ]
  },
  {
   "cell_type": "code",
   "execution_count": 71,
   "metadata": {},
   "outputs": [],
   "source": [
    "combined_columns.append('status_group')"
   ]
  },
  {
   "cell_type": "code",
   "execution_count": 72,
   "metadata": {},
   "outputs": [
    {
     "data": {
      "text/plain": [
       "['amount_tsh',\n",
       " 'gps_height',\n",
       " 'population',\n",
       " 'basin',\n",
       " 'region',\n",
       " 'public_meeting',\n",
       " 'permit',\n",
       " 'extraction_type_class',\n",
       " 'management_group',\n",
       " 'payment_type',\n",
       " 'quality_group',\n",
       " 'quantity_group',\n",
       " 'source_type',\n",
       " 'waterpoint_type',\n",
       " 'funder_type',\n",
       " 'installer_type',\n",
       " 'scheme_management_grouped',\n",
       " 'status_group']"
      ]
     },
     "execution_count": 72,
     "metadata": {},
     "output_type": "execute_result"
    }
   ],
   "source": [
    "combined_columns"
   ]
  },
  {
   "cell_type": "code",
   "execution_count": 73,
   "metadata": {},
   "outputs": [],
   "source": [
    "df_train_merge[combined_columns].to_excel('df_train_transform.xlsx', index=False)"
   ]
  }
 ],
 "metadata": {
  "kernelspec": {
   "display_name": "Python 3",
   "language": "python",
   "name": "python3"
  },
  "language_info": {
   "codemirror_mode": {
    "name": "ipython",
    "version": 3
   },
   "file_extension": ".py",
   "mimetype": "text/x-python",
   "name": "python",
   "nbconvert_exporter": "python",
   "pygments_lexer": "ipython3",
   "version": "3.8.5"
  }
 },
 "nbformat": 4,
 "nbformat_minor": 4
}

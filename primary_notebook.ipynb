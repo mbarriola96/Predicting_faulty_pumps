{
 "cells": [
  {
   "cell_type": "markdown",
   "metadata": {},
   "source": [
    "# 1. Overview"
   ]
  },
  {
   "cell_type": "markdown",
   "metadata": {},
   "source": [
    "This competition, \"Pump it Up: Data Mining the Water Table,\" hosted on DrivenData, challenges participants to predict the functional status of water pumps across Tanzania using a provided dataset. The contest spans from 2024 and aims to enhance access to clean, potable water by identifying malfunctioning water pumps. Participants are supplied with extensive data on various characteristics of the water points, from construction year to water quality. The primary goal is to classify each water point into one of three categories: functional, functional needs repair, and non-functional. This analysis could guide strategic decisions for improving water access and infrastructure investments in developing regions."
   ]
  },
  {
   "cell_type": "markdown",
   "metadata": {},
   "source": [
    "# 2. Business Understanding"
   ]
  },
  {
   "cell_type": "markdown",
   "metadata": {},
   "source": [
    "The core objective of the \"Pump it Up: Data Mining the Water Table\" competition is to enable the identification of water pumps in Tanzania that are functional, require repairs, or are non-functional. The insights derived from this analysis will directly influence decisions regarding maintenance, investments, and resource allocation in the water infrastructure sector. Stakeholders, including government agencies and NGOs, will use these findings to prioritize and streamline efforts towards ensuring reliable water access. By effectively categorizing water points, the project aims to enhance operational efficiencies and reduce downtime due to pump failures. The ultimate goal is to support sustainable water management practices that can significantly impact public health and economic development in Tanzania.\n",
    "\n",
    "Primary stakeholders for this project are the Tanzanian government and international development organizations focused on improving water access in the region."
   ]
  },
  {
   "cell_type": "markdown",
   "metadata": {},
   "source": [
    "# 3. Data Understanding"
   ]
  },
  {
   "cell_type": "markdown",
   "metadata": {},
   "source": [
    "## 3.1 Data Description"
   ]
  },
  {
   "cell_type": "markdown",
   "metadata": {},
   "source": [
    "Drawing from a comprehensive dataset provided by the \"Pump it Up: Data Mining the Water Table\" competition on DrivenData, our analysis is centered around extensive information regarding water points across Tanzania. This dataset includes:\n",
    "\n",
    "- Geographic data such as location coordinates, altitude, and administrative divisions (region, district, and ward).\n",
    "- Water point specifics such as the type, construction year, funding organization, and managing entity.\n",
    "- Operational data including the water source, extraction type, water quality, and current functional status of each water pump.\n",
    "\n",
    "Our investigation targets three key objectives: identifying patterns of pump functionality, understanding factors leading to pump failures or repairs, and assessing the impacts of management practices on pump operability. By analyzing these elements, we aim to derive actionable insights that can guide infrastructural improvements and strategic investments in water resource management. The outcome of this analysis will inform decision-making processes for stakeholders involved in Tanzanian water supply, optimizing interventions for enhanced water accessibility and reliability. This focused approach empowers our stakeholders to efficiently address the most critical needs, leveraging data-driven strategies to improve public health and community resilience."
   ]
  },
  {
   "cell_type": "markdown",
   "metadata": {},
   "source": [
    "## 3.2 Import Necessary Libraries"
   ]
  },
  {
   "cell_type": "code",
   "execution_count": 1,
   "metadata": {},
   "outputs": [],
   "source": [
    "#pip install category_encoders"
   ]
  },
  {
   "cell_type": "code",
   "execution_count": 2,
   "metadata": {},
   "outputs": [],
   "source": [
    "import pandas as pd\n",
    "import numpy as np\n",
    "import matplotlib.pyplot as plt\n",
    "%matplotlib inline\n",
    "import seaborn as sns\n",
    "import re  # Import regular expressions library\n",
    "\n",
    "from IPython.display import display\n",
    "from sklearn.preprocessing import OneHotEncoder\n",
    "from category_encoders import TargetEncoder\n",
    "from sklearn.preprocessing import StandardScaler\n",
    "from sklearn.model_selection import train_test_split\n",
    "from sklearn.exceptions import ConvergenceWarning\n",
    "\n",
    "\n",
    "from sklearn.linear_model import LogisticRegression\n",
    "from sklearn.tree import DecisionTreeClassifier\n",
    "from sklearn.metrics import roc_curve, auc, confusion_matrix\n",
    "from sklearn.model_selection import GridSearchCV\n",
    "from sklearn.metrics import make_scorer, roc_auc_score\n",
    "\n",
    "import pickle\n",
    "import warnings\n",
    "warnings.filterwarnings(\"ignore\")"
   ]
  },
  {
   "cell_type": "markdown",
   "metadata": {},
   "source": [
    "## 3.3 Define global variables"
   ]
  },
  {
   "cell_type": "code",
   "execution_count": 3,
   "metadata": {},
   "outputs": [],
   "source": [
    "INPUT_PATH_Submission_Format = \"../Data/SubmissionFormat.csv\"\n",
    "INPUT_PATH_Test_set_values = \"../Data/Test_set_values.csv\"\n",
    "INPUT_PATH_Training_set_labels = \"../Data/Training_set_labels.csv\"\n",
    "INPUT_PATH_Training_set_values = \"../Data/Training_set_values.csv\""
   ]
  },
  {
   "cell_type": "markdown",
   "metadata": {},
   "source": [
    "## 3.4 Functions"
   ]
  },
  {
   "cell_type": "code",
   "execution_count": 4,
   "metadata": {},
   "outputs": [],
   "source": [
    "from project_functions import *"
   ]
  },
  {
   "cell_type": "markdown",
   "metadata": {},
   "source": [
    "# 4. DATA UNDERSTANDING\n",
    "# Overview"
   ]
  },
  {
   "cell_type": "markdown",
   "metadata": {},
   "source": [
    "This section will focus on preparing the data for future model training. For a detailed description of the steps followed in the EDA of the databases, please refer to the notebook [Go to Notebook 00_data_understanding.ipynb](00_data_understanding.ipynb)."
   ]
  },
  {
   "cell_type": "markdown",
   "metadata": {},
   "source": [
    "## 4.1 Exploratory Analysis"
   ]
  },
  {
   "cell_type": "markdown",
   "metadata": {},
   "source": [
    "#### 4.1.1.1 Looking at the train and labels dataset"
   ]
  },
  {
   "cell_type": "code",
   "execution_count": 5,
   "metadata": {},
   "outputs": [
    {
     "data": {
      "text/html": [
       "<div>\n",
       "<style scoped>\n",
       "    .dataframe tbody tr th:only-of-type {\n",
       "        vertical-align: middle;\n",
       "    }\n",
       "\n",
       "    .dataframe tbody tr th {\n",
       "        vertical-align: top;\n",
       "    }\n",
       "\n",
       "    .dataframe thead th {\n",
       "        text-align: right;\n",
       "    }\n",
       "</style>\n",
       "<table border=\"1\" class=\"dataframe\">\n",
       "  <thead>\n",
       "    <tr style=\"text-align: right;\">\n",
       "      <th></th>\n",
       "      <th>id</th>\n",
       "      <th>amount_tsh</th>\n",
       "      <th>date_recorded</th>\n",
       "      <th>funder</th>\n",
       "      <th>gps_height</th>\n",
       "      <th>installer</th>\n",
       "      <th>longitude</th>\n",
       "      <th>latitude</th>\n",
       "      <th>wpt_name</th>\n",
       "      <th>num_private</th>\n",
       "      <th>...</th>\n",
       "      <th>payment_type</th>\n",
       "      <th>water_quality</th>\n",
       "      <th>quality_group</th>\n",
       "      <th>quantity</th>\n",
       "      <th>quantity_group</th>\n",
       "      <th>source</th>\n",
       "      <th>source_type</th>\n",
       "      <th>source_class</th>\n",
       "      <th>waterpoint_type</th>\n",
       "      <th>waterpoint_type_group</th>\n",
       "    </tr>\n",
       "  </thead>\n",
       "  <tbody>\n",
       "    <tr>\n",
       "      <th>0</th>\n",
       "      <td>69572</td>\n",
       "      <td>6000.0</td>\n",
       "      <td>2011-03-14</td>\n",
       "      <td>Roman</td>\n",
       "      <td>1390</td>\n",
       "      <td>Roman</td>\n",
       "      <td>34.938093</td>\n",
       "      <td>-9.856322</td>\n",
       "      <td>none</td>\n",
       "      <td>0</td>\n",
       "      <td>...</td>\n",
       "      <td>annually</td>\n",
       "      <td>soft</td>\n",
       "      <td>good</td>\n",
       "      <td>enough</td>\n",
       "      <td>enough</td>\n",
       "      <td>spring</td>\n",
       "      <td>spring</td>\n",
       "      <td>groundwater</td>\n",
       "      <td>communal standpipe</td>\n",
       "      <td>communal standpipe</td>\n",
       "    </tr>\n",
       "    <tr>\n",
       "      <th>1</th>\n",
       "      <td>8776</td>\n",
       "      <td>0.0</td>\n",
       "      <td>2013-03-06</td>\n",
       "      <td>Grumeti</td>\n",
       "      <td>1399</td>\n",
       "      <td>GRUMETI</td>\n",
       "      <td>34.698766</td>\n",
       "      <td>-2.147466</td>\n",
       "      <td>Zahanati</td>\n",
       "      <td>0</td>\n",
       "      <td>...</td>\n",
       "      <td>never pay</td>\n",
       "      <td>soft</td>\n",
       "      <td>good</td>\n",
       "      <td>insufficient</td>\n",
       "      <td>insufficient</td>\n",
       "      <td>rainwater harvesting</td>\n",
       "      <td>rainwater harvesting</td>\n",
       "      <td>surface</td>\n",
       "      <td>communal standpipe</td>\n",
       "      <td>communal standpipe</td>\n",
       "    </tr>\n",
       "    <tr>\n",
       "      <th>2</th>\n",
       "      <td>34310</td>\n",
       "      <td>25.0</td>\n",
       "      <td>2013-02-25</td>\n",
       "      <td>Lottery Club</td>\n",
       "      <td>686</td>\n",
       "      <td>World vision</td>\n",
       "      <td>37.460664</td>\n",
       "      <td>-3.821329</td>\n",
       "      <td>Kwa Mahundi</td>\n",
       "      <td>0</td>\n",
       "      <td>...</td>\n",
       "      <td>per bucket</td>\n",
       "      <td>soft</td>\n",
       "      <td>good</td>\n",
       "      <td>enough</td>\n",
       "      <td>enough</td>\n",
       "      <td>dam</td>\n",
       "      <td>dam</td>\n",
       "      <td>surface</td>\n",
       "      <td>communal standpipe multiple</td>\n",
       "      <td>communal standpipe</td>\n",
       "    </tr>\n",
       "    <tr>\n",
       "      <th>3</th>\n",
       "      <td>67743</td>\n",
       "      <td>0.0</td>\n",
       "      <td>2013-01-28</td>\n",
       "      <td>Unicef</td>\n",
       "      <td>263</td>\n",
       "      <td>UNICEF</td>\n",
       "      <td>38.486161</td>\n",
       "      <td>-11.155298</td>\n",
       "      <td>Zahanati Ya Nanyumbu</td>\n",
       "      <td>0</td>\n",
       "      <td>...</td>\n",
       "      <td>never pay</td>\n",
       "      <td>soft</td>\n",
       "      <td>good</td>\n",
       "      <td>dry</td>\n",
       "      <td>dry</td>\n",
       "      <td>machine dbh</td>\n",
       "      <td>borehole</td>\n",
       "      <td>groundwater</td>\n",
       "      <td>communal standpipe multiple</td>\n",
       "      <td>communal standpipe</td>\n",
       "    </tr>\n",
       "    <tr>\n",
       "      <th>4</th>\n",
       "      <td>19728</td>\n",
       "      <td>0.0</td>\n",
       "      <td>2011-07-13</td>\n",
       "      <td>Action In A</td>\n",
       "      <td>0</td>\n",
       "      <td>Artisan</td>\n",
       "      <td>31.130847</td>\n",
       "      <td>-1.825359</td>\n",
       "      <td>Shuleni</td>\n",
       "      <td>0</td>\n",
       "      <td>...</td>\n",
       "      <td>never pay</td>\n",
       "      <td>soft</td>\n",
       "      <td>good</td>\n",
       "      <td>seasonal</td>\n",
       "      <td>seasonal</td>\n",
       "      <td>rainwater harvesting</td>\n",
       "      <td>rainwater harvesting</td>\n",
       "      <td>surface</td>\n",
       "      <td>communal standpipe</td>\n",
       "      <td>communal standpipe</td>\n",
       "    </tr>\n",
       "  </tbody>\n",
       "</table>\n",
       "<p>5 rows × 40 columns</p>\n",
       "</div>"
      ],
      "text/plain": [
       "      id  amount_tsh date_recorded        funder  gps_height     installer  \\\n",
       "0  69572      6000.0    2011-03-14         Roman        1390         Roman   \n",
       "1   8776         0.0    2013-03-06       Grumeti        1399       GRUMETI   \n",
       "2  34310        25.0    2013-02-25  Lottery Club         686  World vision   \n",
       "3  67743         0.0    2013-01-28        Unicef         263        UNICEF   \n",
       "4  19728         0.0    2011-07-13   Action In A           0       Artisan   \n",
       "\n",
       "   longitude   latitude              wpt_name  num_private  ... payment_type  \\\n",
       "0  34.938093  -9.856322                  none            0  ...     annually   \n",
       "1  34.698766  -2.147466              Zahanati            0  ...    never pay   \n",
       "2  37.460664  -3.821329           Kwa Mahundi            0  ...   per bucket   \n",
       "3  38.486161 -11.155298  Zahanati Ya Nanyumbu            0  ...    never pay   \n",
       "4  31.130847  -1.825359               Shuleni            0  ...    never pay   \n",
       "\n",
       "  water_quality quality_group      quantity  quantity_group  \\\n",
       "0          soft          good        enough          enough   \n",
       "1          soft          good  insufficient    insufficient   \n",
       "2          soft          good        enough          enough   \n",
       "3          soft          good           dry             dry   \n",
       "4          soft          good      seasonal        seasonal   \n",
       "\n",
       "                 source           source_type  source_class  \\\n",
       "0                spring                spring   groundwater   \n",
       "1  rainwater harvesting  rainwater harvesting       surface   \n",
       "2                   dam                   dam       surface   \n",
       "3           machine dbh              borehole   groundwater   \n",
       "4  rainwater harvesting  rainwater harvesting       surface   \n",
       "\n",
       "               waterpoint_type waterpoint_type_group  \n",
       "0           communal standpipe    communal standpipe  \n",
       "1           communal standpipe    communal standpipe  \n",
       "2  communal standpipe multiple    communal standpipe  \n",
       "3  communal standpipe multiple    communal standpipe  \n",
       "4           communal standpipe    communal standpipe  \n",
       "\n",
       "[5 rows x 40 columns]"
      ]
     },
     "execution_count": 5,
     "metadata": {},
     "output_type": "execute_result"
    }
   ],
   "source": [
    "df_train = pd.read_csv(INPUT_PATH_Training_set_values)\n",
    "df_train.head()"
   ]
  },
  {
   "cell_type": "code",
   "execution_count": 6,
   "metadata": {},
   "outputs": [
    {
     "data": {
      "text/plain": [
       "(59400, 40)"
      ]
     },
     "execution_count": 6,
     "metadata": {},
     "output_type": "execute_result"
    }
   ],
   "source": [
    "df_train.shape"
   ]
  },
  {
   "cell_type": "code",
   "execution_count": 7,
   "metadata": {},
   "outputs": [
    {
     "data": {
      "text/html": [
       "<div>\n",
       "<style scoped>\n",
       "    .dataframe tbody tr th:only-of-type {\n",
       "        vertical-align: middle;\n",
       "    }\n",
       "\n",
       "    .dataframe tbody tr th {\n",
       "        vertical-align: top;\n",
       "    }\n",
       "\n",
       "    .dataframe thead th {\n",
       "        text-align: right;\n",
       "    }\n",
       "</style>\n",
       "<table border=\"1\" class=\"dataframe\">\n",
       "  <thead>\n",
       "    <tr style=\"text-align: right;\">\n",
       "      <th></th>\n",
       "      <th>id</th>\n",
       "      <th>status_group</th>\n",
       "    </tr>\n",
       "  </thead>\n",
       "  <tbody>\n",
       "    <tr>\n",
       "      <th>0</th>\n",
       "      <td>69572</td>\n",
       "      <td>functional</td>\n",
       "    </tr>\n",
       "    <tr>\n",
       "      <th>1</th>\n",
       "      <td>8776</td>\n",
       "      <td>functional</td>\n",
       "    </tr>\n",
       "    <tr>\n",
       "      <th>2</th>\n",
       "      <td>34310</td>\n",
       "      <td>functional</td>\n",
       "    </tr>\n",
       "    <tr>\n",
       "      <th>3</th>\n",
       "      <td>67743</td>\n",
       "      <td>non functional</td>\n",
       "    </tr>\n",
       "    <tr>\n",
       "      <th>4</th>\n",
       "      <td>19728</td>\n",
       "      <td>functional</td>\n",
       "    </tr>\n",
       "  </tbody>\n",
       "</table>\n",
       "</div>"
      ],
      "text/plain": [
       "      id    status_group\n",
       "0  69572      functional\n",
       "1   8776      functional\n",
       "2  34310      functional\n",
       "3  67743  non functional\n",
       "4  19728      functional"
      ]
     },
     "execution_count": 7,
     "metadata": {},
     "output_type": "execute_result"
    }
   ],
   "source": [
    "df_labels = pd.read_csv(INPUT_PATH_Training_set_labels)\n",
    "df_labels.head()"
   ]
  },
  {
   "cell_type": "code",
   "execution_count": 8,
   "metadata": {},
   "outputs": [
    {
     "data": {
      "text/plain": [
       "(59400, 2)"
      ]
     },
     "execution_count": 8,
     "metadata": {},
     "output_type": "execute_result"
    }
   ],
   "source": [
    "df_labels.shape"
   ]
  },
  {
   "cell_type": "markdown",
   "metadata": {},
   "source": [
    "#### 4.1.1.2 Merge both datasets"
   ]
  },
  {
   "cell_type": "code",
   "execution_count": 9,
   "metadata": {},
   "outputs": [
    {
     "data": {
      "text/html": [
       "<div>\n",
       "<style scoped>\n",
       "    .dataframe tbody tr th:only-of-type {\n",
       "        vertical-align: middle;\n",
       "    }\n",
       "\n",
       "    .dataframe tbody tr th {\n",
       "        vertical-align: top;\n",
       "    }\n",
       "\n",
       "    .dataframe thead th {\n",
       "        text-align: right;\n",
       "    }\n",
       "</style>\n",
       "<table border=\"1\" class=\"dataframe\">\n",
       "  <thead>\n",
       "    <tr style=\"text-align: right;\">\n",
       "      <th></th>\n",
       "      <th>id</th>\n",
       "      <th>amount_tsh</th>\n",
       "      <th>date_recorded</th>\n",
       "      <th>funder</th>\n",
       "      <th>gps_height</th>\n",
       "      <th>installer</th>\n",
       "      <th>longitude</th>\n",
       "      <th>latitude</th>\n",
       "      <th>wpt_name</th>\n",
       "      <th>num_private</th>\n",
       "      <th>...</th>\n",
       "      <th>water_quality</th>\n",
       "      <th>quality_group</th>\n",
       "      <th>quantity</th>\n",
       "      <th>quantity_group</th>\n",
       "      <th>source</th>\n",
       "      <th>source_type</th>\n",
       "      <th>source_class</th>\n",
       "      <th>waterpoint_type</th>\n",
       "      <th>waterpoint_type_group</th>\n",
       "      <th>status_group</th>\n",
       "    </tr>\n",
       "  </thead>\n",
       "  <tbody>\n",
       "    <tr>\n",
       "      <th>0</th>\n",
       "      <td>69572</td>\n",
       "      <td>6000.0</td>\n",
       "      <td>2011-03-14</td>\n",
       "      <td>Roman</td>\n",
       "      <td>1390</td>\n",
       "      <td>Roman</td>\n",
       "      <td>34.938093</td>\n",
       "      <td>-9.856322</td>\n",
       "      <td>none</td>\n",
       "      <td>0</td>\n",
       "      <td>...</td>\n",
       "      <td>soft</td>\n",
       "      <td>good</td>\n",
       "      <td>enough</td>\n",
       "      <td>enough</td>\n",
       "      <td>spring</td>\n",
       "      <td>spring</td>\n",
       "      <td>groundwater</td>\n",
       "      <td>communal standpipe</td>\n",
       "      <td>communal standpipe</td>\n",
       "      <td>functional</td>\n",
       "    </tr>\n",
       "    <tr>\n",
       "      <th>1</th>\n",
       "      <td>8776</td>\n",
       "      <td>0.0</td>\n",
       "      <td>2013-03-06</td>\n",
       "      <td>Grumeti</td>\n",
       "      <td>1399</td>\n",
       "      <td>GRUMETI</td>\n",
       "      <td>34.698766</td>\n",
       "      <td>-2.147466</td>\n",
       "      <td>Zahanati</td>\n",
       "      <td>0</td>\n",
       "      <td>...</td>\n",
       "      <td>soft</td>\n",
       "      <td>good</td>\n",
       "      <td>insufficient</td>\n",
       "      <td>insufficient</td>\n",
       "      <td>rainwater harvesting</td>\n",
       "      <td>rainwater harvesting</td>\n",
       "      <td>surface</td>\n",
       "      <td>communal standpipe</td>\n",
       "      <td>communal standpipe</td>\n",
       "      <td>functional</td>\n",
       "    </tr>\n",
       "    <tr>\n",
       "      <th>2</th>\n",
       "      <td>34310</td>\n",
       "      <td>25.0</td>\n",
       "      <td>2013-02-25</td>\n",
       "      <td>Lottery Club</td>\n",
       "      <td>686</td>\n",
       "      <td>World vision</td>\n",
       "      <td>37.460664</td>\n",
       "      <td>-3.821329</td>\n",
       "      <td>Kwa Mahundi</td>\n",
       "      <td>0</td>\n",
       "      <td>...</td>\n",
       "      <td>soft</td>\n",
       "      <td>good</td>\n",
       "      <td>enough</td>\n",
       "      <td>enough</td>\n",
       "      <td>dam</td>\n",
       "      <td>dam</td>\n",
       "      <td>surface</td>\n",
       "      <td>communal standpipe multiple</td>\n",
       "      <td>communal standpipe</td>\n",
       "      <td>functional</td>\n",
       "    </tr>\n",
       "    <tr>\n",
       "      <th>3</th>\n",
       "      <td>67743</td>\n",
       "      <td>0.0</td>\n",
       "      <td>2013-01-28</td>\n",
       "      <td>Unicef</td>\n",
       "      <td>263</td>\n",
       "      <td>UNICEF</td>\n",
       "      <td>38.486161</td>\n",
       "      <td>-11.155298</td>\n",
       "      <td>Zahanati Ya Nanyumbu</td>\n",
       "      <td>0</td>\n",
       "      <td>...</td>\n",
       "      <td>soft</td>\n",
       "      <td>good</td>\n",
       "      <td>dry</td>\n",
       "      <td>dry</td>\n",
       "      <td>machine dbh</td>\n",
       "      <td>borehole</td>\n",
       "      <td>groundwater</td>\n",
       "      <td>communal standpipe multiple</td>\n",
       "      <td>communal standpipe</td>\n",
       "      <td>non functional</td>\n",
       "    </tr>\n",
       "    <tr>\n",
       "      <th>4</th>\n",
       "      <td>19728</td>\n",
       "      <td>0.0</td>\n",
       "      <td>2011-07-13</td>\n",
       "      <td>Action In A</td>\n",
       "      <td>0</td>\n",
       "      <td>Artisan</td>\n",
       "      <td>31.130847</td>\n",
       "      <td>-1.825359</td>\n",
       "      <td>Shuleni</td>\n",
       "      <td>0</td>\n",
       "      <td>...</td>\n",
       "      <td>soft</td>\n",
       "      <td>good</td>\n",
       "      <td>seasonal</td>\n",
       "      <td>seasonal</td>\n",
       "      <td>rainwater harvesting</td>\n",
       "      <td>rainwater harvesting</td>\n",
       "      <td>surface</td>\n",
       "      <td>communal standpipe</td>\n",
       "      <td>communal standpipe</td>\n",
       "      <td>functional</td>\n",
       "    </tr>\n",
       "  </tbody>\n",
       "</table>\n",
       "<p>5 rows × 41 columns</p>\n",
       "</div>"
      ],
      "text/plain": [
       "      id  amount_tsh date_recorded        funder  gps_height     installer  \\\n",
       "0  69572      6000.0    2011-03-14         Roman        1390         Roman   \n",
       "1   8776         0.0    2013-03-06       Grumeti        1399       GRUMETI   \n",
       "2  34310        25.0    2013-02-25  Lottery Club         686  World vision   \n",
       "3  67743         0.0    2013-01-28        Unicef         263        UNICEF   \n",
       "4  19728         0.0    2011-07-13   Action In A           0       Artisan   \n",
       "\n",
       "   longitude   latitude              wpt_name  num_private  ... water_quality  \\\n",
       "0  34.938093  -9.856322                  none            0  ...          soft   \n",
       "1  34.698766  -2.147466              Zahanati            0  ...          soft   \n",
       "2  37.460664  -3.821329           Kwa Mahundi            0  ...          soft   \n",
       "3  38.486161 -11.155298  Zahanati Ya Nanyumbu            0  ...          soft   \n",
       "4  31.130847  -1.825359               Shuleni            0  ...          soft   \n",
       "\n",
       "  quality_group      quantity  quantity_group                source  \\\n",
       "0          good        enough          enough                spring   \n",
       "1          good  insufficient    insufficient  rainwater harvesting   \n",
       "2          good        enough          enough                   dam   \n",
       "3          good           dry             dry           machine dbh   \n",
       "4          good      seasonal        seasonal  rainwater harvesting   \n",
       "\n",
       "            source_type source_class              waterpoint_type  \\\n",
       "0                spring  groundwater           communal standpipe   \n",
       "1  rainwater harvesting      surface           communal standpipe   \n",
       "2                   dam      surface  communal standpipe multiple   \n",
       "3              borehole  groundwater  communal standpipe multiple   \n",
       "4  rainwater harvesting      surface           communal standpipe   \n",
       "\n",
       "  waterpoint_type_group    status_group  \n",
       "0    communal standpipe      functional  \n",
       "1    communal standpipe      functional  \n",
       "2    communal standpipe      functional  \n",
       "3    communal standpipe  non functional  \n",
       "4    communal standpipe      functional  \n",
       "\n",
       "[5 rows x 41 columns]"
      ]
     },
     "execution_count": 9,
     "metadata": {},
     "output_type": "execute_result"
    }
   ],
   "source": [
    "df_train_merge = pd.merge(df_train, df_labels)\n",
    "df_train_merge.head()"
   ]
  },
  {
   "cell_type": "code",
   "execution_count": 10,
   "metadata": {},
   "outputs": [
    {
     "data": {
      "text/plain": [
       "(59400, 41)"
      ]
     },
     "execution_count": 10,
     "metadata": {},
     "output_type": "execute_result"
    }
   ],
   "source": [
    "df_train_merge.shape"
   ]
  },
  {
   "cell_type": "markdown",
   "metadata": {},
   "source": [
    "As we can see above the merge has been done correctly because the number of rows is intact and the training set values has just one more column containing the training set labels"
   ]
  },
  {
   "cell_type": "markdown",
   "metadata": {},
   "source": [
    "#### 4.1.3 - Data Types"
   ]
  },
  {
   "cell_type": "code",
   "execution_count": 11,
   "metadata": {
    "scrolled": false
   },
   "outputs": [
    {
     "data": {
      "text/plain": [
       "id                         int64\n",
       "amount_tsh               float64\n",
       "date_recorded             object\n",
       "funder                    object\n",
       "gps_height                 int64\n",
       "installer                 object\n",
       "longitude                float64\n",
       "latitude                 float64\n",
       "wpt_name                  object\n",
       "num_private                int64\n",
       "basin                     object\n",
       "subvillage                object\n",
       "region                    object\n",
       "region_code                int64\n",
       "district_code              int64\n",
       "lga                       object\n",
       "ward                      object\n",
       "population                 int64\n",
       "public_meeting            object\n",
       "recorded_by               object\n",
       "scheme_management         object\n",
       "scheme_name               object\n",
       "permit                    object\n",
       "construction_year          int64\n",
       "extraction_type           object\n",
       "extraction_type_group     object\n",
       "extraction_type_class     object\n",
       "management                object\n",
       "management_group          object\n",
       "payment                   object\n",
       "payment_type              object\n",
       "water_quality             object\n",
       "quality_group             object\n",
       "quantity                  object\n",
       "quantity_group            object\n",
       "source                    object\n",
       "source_type               object\n",
       "source_class              object\n",
       "waterpoint_type           object\n",
       "waterpoint_type_group     object\n",
       "status_group              object\n",
       "dtype: object"
      ]
     },
     "execution_count": 11,
     "metadata": {},
     "output_type": "execute_result"
    }
   ],
   "source": [
    "# Let's start by having a look at the type of each column\n",
    "df_train_merge.dtypes"
   ]
  },
  {
   "cell_type": "markdown",
   "metadata": {},
   "source": [
    "**Column 'funder'**"
   ]
  },
  {
   "cell_type": "code",
   "execution_count": 12,
   "metadata": {
    "scrolled": true
   },
   "outputs": [
    {
     "name": "stdout",
     "output_type": "stream",
     "text": [
      "Individual/Other           39410\n",
      "Government                 10017\n",
      "International Aid           8468\n",
      "Religious Organizations     1299\n",
      "NGO                          146\n",
      "Private Companies             60\n",
      "Name: funder_type, dtype: int64\n"
     ]
    }
   ],
   "source": [
    "# Handling NaN values with a filler string like 'Unknown'\n",
    "df_train_merge['funder'] = df_train_merge['funder'].fillna('Unknown').astype(str)\n",
    "\n",
    "# Apply the mapping function to the 'funder' column\n",
    "df_train_merge['funder_type'] = df_train_merge['funder'].apply(categorize_funder)\n",
    "\n",
    "# Check the categorized data\n",
    "print(df_train_merge['funder_type'].value_counts())"
   ]
  },
  {
   "cell_type": "markdown",
   "metadata": {},
   "source": [
    "For the time being, we will advance with this categorization and decide later if we want to further investigate the Individual/Other category if necessary"
   ]
  },
  {
   "cell_type": "markdown",
   "metadata": {},
   "source": [
    "**Column 'installer'**"
   ]
  },
  {
   "cell_type": "code",
   "execution_count": 13,
   "metadata": {},
   "outputs": [
    {
     "name": "stdout",
     "output_type": "stream",
     "text": [
      "Other              34031\n",
      "DWE                18121\n",
      "Government          3753\n",
      "Community           2338\n",
      "Institutional        701\n",
      "NGO                  327\n",
      "Private Company      129\n",
      "Name: installer_type, dtype: int64\n"
     ]
    }
   ],
   "source": [
    "# Handling NaN values with a filler string like 'Unknown'\n",
    "df_train_merge['installer'] = df_train_merge['installer'].fillna('Unknown').astype(str)\n",
    "\n",
    "# Apply the mapping function to the 'installer' column\n",
    "df_train_merge['installer_type'] = df_train_merge['installer'].apply(categorize_installer)\n",
    "\n",
    "# Now you can check your categorized data\n",
    "print(df_train_merge['installer_type'].value_counts())\n"
   ]
  },
  {
   "cell_type": "markdown",
   "metadata": {},
   "source": [
    "For the time being, we will advance with this categorization and decide later if we want to further investigate the Individual/Other category if necessary"
   ]
  },
  {
   "cell_type": "markdown",
   "metadata": {},
   "source": [
    "**Column 'scheme_management'**"
   ]
  },
  {
   "cell_type": "markdown",
   "metadata": {},
   "source": [
    "We will categorize, based on this classification:\n",
    "\n",
    "- Governmental Entities: Combine 'VWC' (Village Water Committee), 'Water authority', and 'Parastatal' into a single 'Government' category. These typically represent different layers or types of governmental involvement.\n",
    "\n",
    "- Community Managed: Merge 'WUG' (Water User Group) and 'WUA' (Water User Association) into 'Community'. These are likely community-based management structures.\n",
    "\n",
    "- Commercial Entities: Group 'Company' and 'Private operator' into 'Private Sector'. These likely represent privately managed schemes.\n",
    "\n",
    "- Institutional Boards: Keep 'Water Board' as is if they represent formal institutional water management boards that don't fit into other categories.\n",
    "\n",
    "- Other and Miscellaneous: Combine 'SWC', 'Trust', 'None', and 'Other' into 'Other'. These categories might represent less common or unclear management structures."
   ]
  },
  {
   "cell_type": "code",
   "execution_count": 14,
   "metadata": {},
   "outputs": [
    {
     "name": "stdout",
     "output_type": "stream",
     "text": [
      "Government        0.700774\n",
      "Community         0.136178\n",
      "Other             0.081027\n",
      "Water Board       0.046263\n",
      "Private Sector    0.035758\n",
      "Name: scheme_management_grouped, dtype: float64\n"
     ]
    }
   ],
   "source": [
    "# Apply the grouping function to the 'scheme_management' column\n",
    "df_train_merge['scheme_management_grouped'] = df_train_merge['scheme_management'].apply(group_scheme_management)\n",
    "\n",
    "# Check the new value counts to see the grouped data\n",
    "print(df_train_merge['scheme_management_grouped'].value_counts(normalize=True))\n"
   ]
  },
  {
   "cell_type": "markdown",
   "metadata": {},
   "source": [
    "**Column 'scheme_name'**"
   ]
  },
  {
   "cell_type": "markdown",
   "metadata": {},
   "source": [
    "Given that there is almost 50% of unknown data, and the widespread of data, we will eliminate this column directly"
   ]
  },
  {
   "cell_type": "code",
   "execution_count": 15,
   "metadata": {},
   "outputs": [],
   "source": [
    "# Start creating our drop list\n",
    "drop_column_list = ['scheme_name']"
   ]
  },
  {
   "cell_type": "markdown",
   "metadata": {},
   "source": [
    "**Column 'num_private'**"
   ]
  },
  {
   "cell_type": "markdown",
   "metadata": {},
   "source": [
    "Given that num_private has no description and given that it has many values, we are going to add this to the drop list column"
   ]
  },
  {
   "cell_type": "code",
   "execution_count": 16,
   "metadata": {},
   "outputs": [
    {
     "data": {
      "text/plain": [
       "['scheme_name', 'num_private']"
      ]
     },
     "execution_count": 16,
     "metadata": {},
     "output_type": "execute_result"
    }
   ],
   "source": [
    "drop_column_list.append('num_private')\n",
    "drop_column_list"
   ]
  },
  {
   "cell_type": "markdown",
   "metadata": {},
   "source": [
    "**Column 'wpt_name '**"
   ]
  },
  {
   "cell_type": "markdown",
   "metadata": {},
   "source": [
    "No further information is added with this wpt_name column as it is the name of the waterpoint. We will add this to the drop_list"
   ]
  },
  {
   "cell_type": "code",
   "execution_count": 17,
   "metadata": {},
   "outputs": [
    {
     "data": {
      "text/plain": [
       "['scheme_name', 'num_private', 'wpt_name']"
      ]
     },
     "execution_count": 17,
     "metadata": {},
     "output_type": "execute_result"
    }
   ],
   "source": [
    "drop_column_list.append('wpt_name')\n",
    "drop_column_list"
   ]
  },
  {
   "cell_type": "markdown",
   "metadata": {},
   "source": [
    "**Column 'construction_year'**"
   ]
  },
  {
   "cell_type": "markdown",
   "metadata": {},
   "source": [
    "Converting 'construction_year' to object"
   ]
  },
  {
   "cell_type": "code",
   "execution_count": 18,
   "metadata": {},
   "outputs": [
    {
     "name": "stdout",
     "output_type": "stream",
     "text": [
      "object\n"
     ]
    }
   ],
   "source": [
    "df_train_merge['construction_year'] = df_train_merge['construction_year'].astype('object')\n",
    "print(df_train_merge['construction_year'].dtype)"
   ]
  },
  {
   "cell_type": "markdown",
   "metadata": {},
   "source": [
    "**Columns: 'subvillage' and 'region'**"
   ]
  },
  {
   "cell_type": "markdown",
   "metadata": {},
   "source": [
    "Having subvillage wouldn't give more insights to the model. There are more than 19k registrations of subvillages. Column 'region' alredy is a categorization of column 'subvillage' and so, we decide to add this column to the drop_list"
   ]
  },
  {
   "cell_type": "code",
   "execution_count": 19,
   "metadata": {},
   "outputs": [
    {
     "data": {
      "text/plain": [
       "['scheme_name', 'num_private', 'wpt_name', 'subvillage']"
      ]
     },
     "execution_count": 19,
     "metadata": {},
     "output_type": "execute_result"
    }
   ],
   "source": [
    "drop_column_list.append('subvillage')\n",
    "drop_column_list"
   ]
  },
  {
   "cell_type": "markdown",
   "metadata": {},
   "source": [
    "**Columns: 'lga', 'ward'**"
   ]
  },
  {
   "cell_type": "markdown",
   "metadata": {},
   "source": [
    "As we already have column 'region' and columns: 'lga' and 'ward' are geographic locations. To avoid multiollinearity we will add 'lga'and 'ward' to the drop_list"
   ]
  },
  {
   "cell_type": "code",
   "execution_count": 20,
   "metadata": {},
   "outputs": [
    {
     "data": {
      "text/plain": [
       "['scheme_name', 'num_private', 'wpt_name', 'subvillage', 'lga', 'ward']"
      ]
     },
     "execution_count": 20,
     "metadata": {},
     "output_type": "execute_result"
    }
   ],
   "source": [
    "drop_column_list.append('lga')\n",
    "drop_column_list.append('ward')\n",
    "\n",
    "drop_column_list"
   ]
  },
  {
   "cell_type": "markdown",
   "metadata": {},
   "source": [
    "**Columns: 'recorded_by'**"
   ]
  },
  {
   "cell_type": "code",
   "execution_count": 21,
   "metadata": {},
   "outputs": [
    {
     "data": {
      "text/plain": [
       "['scheme_name',\n",
       " 'num_private',\n",
       " 'wpt_name',\n",
       " 'subvillage',\n",
       " 'lga',\n",
       " 'ward',\n",
       " 'recorded_by']"
      ]
     },
     "execution_count": 21,
     "metadata": {},
     "output_type": "execute_result"
    }
   ],
   "source": [
    "# Drop recorded_by column since it's constant and should be ignored\n",
    "drop_column_list.append('recorded_by')\n",
    "drop_column_list"
   ]
  },
  {
   "cell_type": "markdown",
   "metadata": {},
   "source": [
    "**Dropping the columns list**"
   ]
  },
  {
   "cell_type": "code",
   "execution_count": 22,
   "metadata": {},
   "outputs": [],
   "source": [
    "# Carry out the dropping\n",
    "df_train_merge = df_train_merge.drop(drop_column_list, axis=1)"
   ]
  },
  {
   "cell_type": "code",
   "execution_count": 23,
   "metadata": {
    "scrolled": true
   },
   "outputs": [
    {
     "data": {
      "text/plain": [
       "Index(['id', 'amount_tsh', 'date_recorded', 'funder', 'gps_height',\n",
       "       'installer', 'longitude', 'latitude', 'basin', 'region', 'region_code',\n",
       "       'district_code', 'population', 'public_meeting', 'scheme_management',\n",
       "       'permit', 'construction_year', 'extraction_type',\n",
       "       'extraction_type_group', 'extraction_type_class', 'management',\n",
       "       'management_group', 'payment', 'payment_type', 'water_quality',\n",
       "       'quality_group', 'quantity', 'quantity_group', 'source', 'source_type',\n",
       "       'source_class', 'waterpoint_type', 'waterpoint_type_group',\n",
       "       'status_group', 'funder_type', 'installer_type',\n",
       "       'scheme_management_grouped'],\n",
       "      dtype='object')"
      ]
     },
     "execution_count": 23,
     "metadata": {},
     "output_type": "execute_result"
    }
   ],
   "source": [
    "df_train_merge.columns"
   ]
  },
  {
   "cell_type": "markdown",
   "metadata": {},
   "source": [
    "##### 4.1.1.3.2 - Transforming column types"
   ]
  },
  {
   "cell_type": "markdown",
   "metadata": {},
   "source": [
    "**Column 'public_meeting'**"
   ]
  },
  {
   "cell_type": "code",
   "execution_count": 24,
   "metadata": {},
   "outputs": [
    {
     "name": "stdout",
     "output_type": "stream",
     "text": [
      "object\n"
     ]
    }
   ],
   "source": [
    "print(df_train_merge['public_meeting'].dtype)"
   ]
  },
  {
   "cell_type": "markdown",
   "metadata": {},
   "source": [
    "**Column 'permit'**"
   ]
  },
  {
   "cell_type": "code",
   "execution_count": 25,
   "metadata": {},
   "outputs": [
    {
     "name": "stdout",
     "output_type": "stream",
     "text": [
      "object\n"
     ]
    }
   ],
   "source": [
    "print(df_train_merge['permit'].dtype)"
   ]
  },
  {
   "cell_type": "markdown",
   "metadata": {},
   "source": [
    "##### 4.1.1.3.3 - Cleaning the dataset"
   ]
  },
  {
   "cell_type": "code",
   "execution_count": 26,
   "metadata": {
    "scrolled": true
   },
   "outputs": [
    {
     "data": {
      "text/html": [
       "<div>\n",
       "<style scoped>\n",
       "    .dataframe tbody tr th:only-of-type {\n",
       "        vertical-align: middle;\n",
       "    }\n",
       "\n",
       "    .dataframe tbody tr th {\n",
       "        vertical-align: top;\n",
       "    }\n",
       "\n",
       "    .dataframe thead th {\n",
       "        text-align: right;\n",
       "    }\n",
       "</style>\n",
       "<table border=\"1\" class=\"dataframe\">\n",
       "  <thead>\n",
       "    <tr style=\"text-align: right;\">\n",
       "      <th></th>\n",
       "      <th>id</th>\n",
       "      <th>amount_tsh</th>\n",
       "      <th>date_recorded</th>\n",
       "      <th>funder</th>\n",
       "      <th>gps_height</th>\n",
       "      <th>installer</th>\n",
       "      <th>longitude</th>\n",
       "      <th>latitude</th>\n",
       "      <th>basin</th>\n",
       "      <th>region</th>\n",
       "      <th>...</th>\n",
       "      <th>quantity_group</th>\n",
       "      <th>source</th>\n",
       "      <th>source_type</th>\n",
       "      <th>source_class</th>\n",
       "      <th>waterpoint_type</th>\n",
       "      <th>waterpoint_type_group</th>\n",
       "      <th>status_group</th>\n",
       "      <th>funder_type</th>\n",
       "      <th>installer_type</th>\n",
       "      <th>scheme_management_grouped</th>\n",
       "    </tr>\n",
       "  </thead>\n",
       "  <tbody>\n",
       "    <tr>\n",
       "      <th>0</th>\n",
       "      <td>69572</td>\n",
       "      <td>6000.0</td>\n",
       "      <td></td>\n",
       "      <td>roman</td>\n",
       "      <td>1390</td>\n",
       "      <td>roman</td>\n",
       "      <td>34.938093</td>\n",
       "      <td>-9.856322</td>\n",
       "      <td>lake nyasa</td>\n",
       "      <td>iringa</td>\n",
       "      <td>...</td>\n",
       "      <td>enough</td>\n",
       "      <td>spring</td>\n",
       "      <td>spring</td>\n",
       "      <td>groundwater</td>\n",
       "      <td>communal standpipe</td>\n",
       "      <td>communal standpipe</td>\n",
       "      <td>functional</td>\n",
       "      <td>individualother</td>\n",
       "      <td>other</td>\n",
       "      <td>government</td>\n",
       "    </tr>\n",
       "    <tr>\n",
       "      <th>1</th>\n",
       "      <td>8776</td>\n",
       "      <td>0.0</td>\n",
       "      <td></td>\n",
       "      <td>grumeti</td>\n",
       "      <td>1399</td>\n",
       "      <td>grumeti</td>\n",
       "      <td>34.698766</td>\n",
       "      <td>-2.147466</td>\n",
       "      <td>lake victoria</td>\n",
       "      <td>mara</td>\n",
       "      <td>...</td>\n",
       "      <td>insufficient</td>\n",
       "      <td>rainwater harvesting</td>\n",
       "      <td>rainwater harvesting</td>\n",
       "      <td>surface</td>\n",
       "      <td>communal standpipe</td>\n",
       "      <td>communal standpipe</td>\n",
       "      <td>functional</td>\n",
       "      <td>individualother</td>\n",
       "      <td>other</td>\n",
       "      <td>other</td>\n",
       "    </tr>\n",
       "    <tr>\n",
       "      <th>2</th>\n",
       "      <td>34310</td>\n",
       "      <td>25.0</td>\n",
       "      <td></td>\n",
       "      <td>lottery club</td>\n",
       "      <td>686</td>\n",
       "      <td>world vision</td>\n",
       "      <td>37.460664</td>\n",
       "      <td>-3.821329</td>\n",
       "      <td>pangani</td>\n",
       "      <td>manyara</td>\n",
       "      <td>...</td>\n",
       "      <td>enough</td>\n",
       "      <td>dam</td>\n",
       "      <td>dam</td>\n",
       "      <td>surface</td>\n",
       "      <td>communal standpipe multiple</td>\n",
       "      <td>communal standpipe</td>\n",
       "      <td>functional</td>\n",
       "      <td>individualother</td>\n",
       "      <td>other</td>\n",
       "      <td>government</td>\n",
       "    </tr>\n",
       "    <tr>\n",
       "      <th>3</th>\n",
       "      <td>67743</td>\n",
       "      <td>0.0</td>\n",
       "      <td></td>\n",
       "      <td>unicef</td>\n",
       "      <td>263</td>\n",
       "      <td>unicef</td>\n",
       "      <td>38.486161</td>\n",
       "      <td>-11.155298</td>\n",
       "      <td>ruvuma southern coast</td>\n",
       "      <td>mtwara</td>\n",
       "      <td>...</td>\n",
       "      <td>dry</td>\n",
       "      <td>machine dbh</td>\n",
       "      <td>borehole</td>\n",
       "      <td>groundwater</td>\n",
       "      <td>communal standpipe multiple</td>\n",
       "      <td>communal standpipe</td>\n",
       "      <td>non functional</td>\n",
       "      <td>international aid</td>\n",
       "      <td>ngo</td>\n",
       "      <td>government</td>\n",
       "    </tr>\n",
       "    <tr>\n",
       "      <th>4</th>\n",
       "      <td>19728</td>\n",
       "      <td>0.0</td>\n",
       "      <td></td>\n",
       "      <td>action in a</td>\n",
       "      <td>0</td>\n",
       "      <td>artisan</td>\n",
       "      <td>31.130847</td>\n",
       "      <td>-1.825359</td>\n",
       "      <td>lake victoria</td>\n",
       "      <td>kagera</td>\n",
       "      <td>...</td>\n",
       "      <td>seasonal</td>\n",
       "      <td>rainwater harvesting</td>\n",
       "      <td>rainwater harvesting</td>\n",
       "      <td>surface</td>\n",
       "      <td>communal standpipe</td>\n",
       "      <td>communal standpipe</td>\n",
       "      <td>functional</td>\n",
       "      <td>individualother</td>\n",
       "      <td>other</td>\n",
       "      <td>other</td>\n",
       "    </tr>\n",
       "  </tbody>\n",
       "</table>\n",
       "<p>5 rows × 37 columns</p>\n",
       "</div>"
      ],
      "text/plain": [
       "      id  amount_tsh date_recorded        funder  gps_height     installer  \\\n",
       "0  69572      6000.0                       roman        1390         roman   \n",
       "1   8776         0.0                     grumeti        1399       grumeti   \n",
       "2  34310        25.0                lottery club         686  world vision   \n",
       "3  67743         0.0                      unicef         263        unicef   \n",
       "4  19728         0.0                 action in a           0       artisan   \n",
       "\n",
       "   longitude   latitude                  basin   region  ...  quantity_group  \\\n",
       "0  34.938093  -9.856322             lake nyasa   iringa  ...          enough   \n",
       "1  34.698766  -2.147466          lake victoria     mara  ...    insufficient   \n",
       "2  37.460664  -3.821329                pangani  manyara  ...          enough   \n",
       "3  38.486161 -11.155298  ruvuma southern coast   mtwara  ...             dry   \n",
       "4  31.130847  -1.825359          lake victoria   kagera  ...        seasonal   \n",
       "\n",
       "                 source           source_type source_class  \\\n",
       "0                spring                spring  groundwater   \n",
       "1  rainwater harvesting  rainwater harvesting      surface   \n",
       "2                   dam                   dam      surface   \n",
       "3           machine dbh              borehole  groundwater   \n",
       "4  rainwater harvesting  rainwater harvesting      surface   \n",
       "\n",
       "               waterpoint_type waterpoint_type_group    status_group  \\\n",
       "0           communal standpipe    communal standpipe      functional   \n",
       "1           communal standpipe    communal standpipe      functional   \n",
       "2  communal standpipe multiple    communal standpipe      functional   \n",
       "3  communal standpipe multiple    communal standpipe  non functional   \n",
       "4           communal standpipe    communal standpipe      functional   \n",
       "\n",
       "         funder_type installer_type scheme_management_grouped  \n",
       "0    individualother          other                government  \n",
       "1    individualother          other                     other  \n",
       "2    individualother          other                government  \n",
       "3  international aid            ngo                government  \n",
       "4    individualother          other                     other  \n",
       "\n",
       "[5 rows x 37 columns]"
      ]
     },
     "execution_count": 26,
     "metadata": {},
     "output_type": "execute_result"
    }
   ],
   "source": [
    "# Apply the cleaning function to each object-type column in the DataFrame\n",
    "for col in df_train_merge.select_dtypes(include='object').columns:\n",
    "    df_train_merge[col] = df_train_merge[col].apply(clean_text)\n",
    "\n",
    "# Display the cleaned DataFrame\n",
    "df_train_merge.head()"
   ]
  },
  {
   "cell_type": "markdown",
   "metadata": {},
   "source": [
    "### 4.1.2 Descriptive Analysis"
   ]
  },
  {
   "cell_type": "markdown",
   "metadata": {},
   "source": [
    "For a detailed description of the findings from the univariate and multivariate analysis of the data, please refer to the data understanding notebook available at this link: [Go to Notebook 00_data_understanding.ipynb](00_data_understanding.ipynb) .\n",
    "\n",
    "This notebook provides comprehensive insights into the individual variables' distributions (univariate analysis) and their relationships with each other (multivariate analysis), offering a deeper understanding of the dataset's characteristics and patterns. "
   ]
  },
  {
   "cell_type": "markdown",
   "metadata": {},
   "source": [
    "**Numerical columns**"
   ]
  },
  {
   "cell_type": "code",
   "execution_count": 27,
   "metadata": {},
   "outputs": [
    {
     "data": {
      "text/html": [
       "<div>\n",
       "<style scoped>\n",
       "    .dataframe tbody tr th:only-of-type {\n",
       "        vertical-align: middle;\n",
       "    }\n",
       "\n",
       "    .dataframe tbody tr th {\n",
       "        vertical-align: top;\n",
       "    }\n",
       "\n",
       "    .dataframe thead th {\n",
       "        text-align: right;\n",
       "    }\n",
       "</style>\n",
       "<table border=\"1\" class=\"dataframe\">\n",
       "  <thead>\n",
       "    <tr style=\"text-align: right;\">\n",
       "      <th></th>\n",
       "      <th>amount_tsh</th>\n",
       "      <th>gps_height</th>\n",
       "      <th>population</th>\n",
       "    </tr>\n",
       "  </thead>\n",
       "  <tbody>\n",
       "    <tr>\n",
       "      <th>0</th>\n",
       "      <td>6000.0</td>\n",
       "      <td>1390</td>\n",
       "      <td>109</td>\n",
       "    </tr>\n",
       "    <tr>\n",
       "      <th>1</th>\n",
       "      <td>0.0</td>\n",
       "      <td>1399</td>\n",
       "      <td>280</td>\n",
       "    </tr>\n",
       "    <tr>\n",
       "      <th>2</th>\n",
       "      <td>25.0</td>\n",
       "      <td>686</td>\n",
       "      <td>250</td>\n",
       "    </tr>\n",
       "    <tr>\n",
       "      <th>3</th>\n",
       "      <td>0.0</td>\n",
       "      <td>263</td>\n",
       "      <td>58</td>\n",
       "    </tr>\n",
       "    <tr>\n",
       "      <th>4</th>\n",
       "      <td>0.0</td>\n",
       "      <td>0</td>\n",
       "      <td>0</td>\n",
       "    </tr>\n",
       "    <tr>\n",
       "      <th>...</th>\n",
       "      <td>...</td>\n",
       "      <td>...</td>\n",
       "      <td>...</td>\n",
       "    </tr>\n",
       "    <tr>\n",
       "      <th>59395</th>\n",
       "      <td>10.0</td>\n",
       "      <td>1210</td>\n",
       "      <td>125</td>\n",
       "    </tr>\n",
       "    <tr>\n",
       "      <th>59396</th>\n",
       "      <td>4700.0</td>\n",
       "      <td>1212</td>\n",
       "      <td>56</td>\n",
       "    </tr>\n",
       "    <tr>\n",
       "      <th>59397</th>\n",
       "      <td>0.0</td>\n",
       "      <td>0</td>\n",
       "      <td>0</td>\n",
       "    </tr>\n",
       "    <tr>\n",
       "      <th>59398</th>\n",
       "      <td>0.0</td>\n",
       "      <td>0</td>\n",
       "      <td>0</td>\n",
       "    </tr>\n",
       "    <tr>\n",
       "      <th>59399</th>\n",
       "      <td>0.0</td>\n",
       "      <td>191</td>\n",
       "      <td>150</td>\n",
       "    </tr>\n",
       "  </tbody>\n",
       "</table>\n",
       "<p>59400 rows × 3 columns</p>\n",
       "</div>"
      ],
      "text/plain": [
       "       amount_tsh  gps_height  population\n",
       "0          6000.0        1390         109\n",
       "1             0.0        1399         280\n",
       "2            25.0         686         250\n",
       "3             0.0         263          58\n",
       "4             0.0           0           0\n",
       "...           ...         ...         ...\n",
       "59395        10.0        1210         125\n",
       "59396      4700.0        1212          56\n",
       "59397         0.0           0           0\n",
       "59398         0.0           0           0\n",
       "59399         0.0         191         150\n",
       "\n",
       "[59400 rows x 3 columns]"
      ]
     },
     "execution_count": 27,
     "metadata": {},
     "output_type": "execute_result"
    }
   ],
   "source": [
    "numeric_columns = df_train_merge.select_dtypes(include=[np.number])\n",
    "numeric_columns = numeric_columns.drop(['id','longitude','latitude','region_code','district_code','construction_year'], axis=1)\n",
    "numeric_columns"
   ]
  },
  {
   "cell_type": "markdown",
   "metadata": {},
   "source": [
    "**Categorical columns**"
   ]
  },
  {
   "cell_type": "code",
   "execution_count": 28,
   "metadata": {
    "scrolled": true
   },
   "outputs": [
    {
     "data": {
      "text/plain": [
       "Index(['date_recorded', 'funder', 'installer', 'basin', 'region',\n",
       "       'public_meeting', 'scheme_management', 'permit', 'extraction_type',\n",
       "       'extraction_type_group', 'extraction_type_class', 'management',\n",
       "       'management_group', 'payment', 'payment_type', 'water_quality',\n",
       "       'quality_group', 'quantity', 'quantity_group', 'source', 'source_type',\n",
       "       'source_class', 'waterpoint_type', 'waterpoint_type_group',\n",
       "       'status_group', 'funder_type', 'installer_type',\n",
       "       'scheme_management_grouped'],\n",
       "      dtype='object')"
      ]
     },
     "execution_count": 28,
     "metadata": {},
     "output_type": "execute_result"
    }
   ],
   "source": [
    "categorical_columns = df_train_merge.select_dtypes(include=['object', 'category']).columns\n",
    "categorical_columns"
   ]
  },
  {
   "cell_type": "code",
   "execution_count": 29,
   "metadata": {},
   "outputs": [],
   "source": [
    "categorical_columns = categorical_columns.drop(['funder','installer','scheme_management','status_group'])"
   ]
  },
  {
   "cell_type": "code",
   "execution_count": 30,
   "metadata": {},
   "outputs": [
    {
     "data": {
      "text/plain": [
       "Index(['date_recorded', 'basin', 'region', 'public_meeting', 'permit',\n",
       "       'extraction_type', 'extraction_type_group', 'extraction_type_class',\n",
       "       'management', 'management_group', 'payment', 'payment_type',\n",
       "       'water_quality', 'quality_group', 'quantity', 'quantity_group',\n",
       "       'source', 'source_type', 'source_class', 'waterpoint_type',\n",
       "       'waterpoint_type_group', 'funder_type', 'installer_type',\n",
       "       'scheme_management_grouped'],\n",
       "      dtype='object')"
      ]
     },
     "execution_count": 30,
     "metadata": {},
     "output_type": "execute_result"
    }
   ],
   "source": [
    "categorical_columns"
   ]
  },
  {
   "cell_type": "code",
   "execution_count": 31,
   "metadata": {},
   "outputs": [],
   "source": [
    "drop_categorical_columns = ['extraction_type_group', 'extraction_type', 'management', 'payment', 'water_quality', 'quantity', 'source', 'source_class','waterpoint_type_group']"
   ]
  },
  {
   "cell_type": "code",
   "execution_count": 32,
   "metadata": {},
   "outputs": [],
   "source": [
    "# Drop the list of columns from df_train_merge\n",
    "df_train_merge = df_train_merge.drop(drop_categorical_columns, axis=1)"
   ]
  },
  {
   "cell_type": "code",
   "execution_count": 33,
   "metadata": {},
   "outputs": [
    {
     "data": {
      "text/plain": [
       "Index(['date_recorded', 'basin', 'region', 'public_meeting', 'permit',\n",
       "       'extraction_type_class', 'management_group', 'payment_type',\n",
       "       'quality_group', 'quantity_group', 'source_type', 'waterpoint_type',\n",
       "       'funder_type', 'installer_type', 'scheme_management_grouped'],\n",
       "      dtype='object')"
      ]
     },
     "execution_count": 33,
     "metadata": {},
     "output_type": "execute_result"
    }
   ],
   "source": [
    "categorical_columns = categorical_columns.drop(drop_categorical_columns)\n",
    "categorical_columns"
   ]
  },
  {
   "cell_type": "markdown",
   "metadata": {},
   "source": [
    "### 4.1.2.3 Filtering the final dataset"
   ]
  },
  {
   "cell_type": "code",
   "execution_count": 34,
   "metadata": {},
   "outputs": [
    {
     "data": {
      "text/plain": [
       "['amount_tsh',\n",
       " 'gps_height',\n",
       " 'population',\n",
       " 'date_recorded',\n",
       " 'basin',\n",
       " 'region',\n",
       " 'public_meeting',\n",
       " 'permit',\n",
       " 'extraction_type_class',\n",
       " 'management_group',\n",
       " 'payment_type',\n",
       " 'quality_group',\n",
       " 'quantity_group',\n",
       " 'source_type',\n",
       " 'waterpoint_type',\n",
       " 'funder_type',\n",
       " 'installer_type',\n",
       " 'scheme_management_grouped',\n",
       " 'status_group']"
      ]
     },
     "execution_count": 34,
     "metadata": {},
     "output_type": "execute_result"
    }
   ],
   "source": [
    "# Let's join together numeric_columns and categorical_columns into a list that we will pass as an argument to the multavaried\n",
    "# analysis function\n",
    "combined_columns = numeric_columns.columns.tolist() + categorical_columns.tolist()\n",
    "combined_columns.append('status_group')\n",
    "combined_columns"
   ]
  },
  {
   "cell_type": "code",
   "execution_count": 35,
   "metadata": {},
   "outputs": [],
   "source": [
    "df=df_train_merge[combined_columns]"
   ]
  },
  {
   "cell_type": "markdown",
   "metadata": {},
   "source": [
    "# 5. DATA PREPROCESSING\n",
    "# Overview"
   ]
  },
  {
   "cell_type": "markdown",
   "metadata": {},
   "source": [
    "Based on the descriptive and exploratory analysis conducted in the previous section, and the data preprocessing detailed in the notebook [Go to Notebook 01_data_preprocessing.ipynb](01_data_preprocessing.ipynb), this section will work on preprocessing the data, preparing it so that we can then work on the model training in the future."
   ]
  },
  {
   "cell_type": "markdown",
   "metadata": {},
   "source": [
    "# 5.1 Data Understanding"
   ]
  },
  {
   "cell_type": "markdown",
   "metadata": {},
   "source": [
    "## 5.1.1 Data Description"
   ]
  },
  {
   "cell_type": "markdown",
   "metadata": {},
   "source": [
    "This section will use the df dataframe created in the previous section of the notebook: DATA UNDERSTANDING"
   ]
  },
  {
   "cell_type": "markdown",
   "metadata": {},
   "source": [
    "## 5.1.2 Import the database"
   ]
  },
  {
   "cell_type": "code",
   "execution_count": 36,
   "metadata": {},
   "outputs": [
    {
     "data": {
      "text/html": [
       "<div>\n",
       "<style scoped>\n",
       "    .dataframe tbody tr th:only-of-type {\n",
       "        vertical-align: middle;\n",
       "    }\n",
       "\n",
       "    .dataframe tbody tr th {\n",
       "        vertical-align: top;\n",
       "    }\n",
       "\n",
       "    .dataframe thead th {\n",
       "        text-align: right;\n",
       "    }\n",
       "</style>\n",
       "<table border=\"1\" class=\"dataframe\">\n",
       "  <thead>\n",
       "    <tr style=\"text-align: right;\">\n",
       "      <th></th>\n",
       "      <th>amount_tsh</th>\n",
       "      <th>gps_height</th>\n",
       "      <th>population</th>\n",
       "      <th>date_recorded</th>\n",
       "      <th>basin</th>\n",
       "      <th>region</th>\n",
       "      <th>public_meeting</th>\n",
       "      <th>permit</th>\n",
       "      <th>extraction_type_class</th>\n",
       "      <th>management_group</th>\n",
       "      <th>payment_type</th>\n",
       "      <th>quality_group</th>\n",
       "      <th>quantity_group</th>\n",
       "      <th>source_type</th>\n",
       "      <th>waterpoint_type</th>\n",
       "      <th>funder_type</th>\n",
       "      <th>installer_type</th>\n",
       "      <th>scheme_management_grouped</th>\n",
       "      <th>status_group</th>\n",
       "    </tr>\n",
       "  </thead>\n",
       "  <tbody>\n",
       "    <tr>\n",
       "      <th>0</th>\n",
       "      <td>6000.0</td>\n",
       "      <td>1390</td>\n",
       "      <td>109</td>\n",
       "      <td></td>\n",
       "      <td>lake nyasa</td>\n",
       "      <td>iringa</td>\n",
       "      <td>True</td>\n",
       "      <td>False</td>\n",
       "      <td>gravity</td>\n",
       "      <td>usergroup</td>\n",
       "      <td>annually</td>\n",
       "      <td>good</td>\n",
       "      <td>enough</td>\n",
       "      <td>spring</td>\n",
       "      <td>communal standpipe</td>\n",
       "      <td>individualother</td>\n",
       "      <td>other</td>\n",
       "      <td>government</td>\n",
       "      <td>functional</td>\n",
       "    </tr>\n",
       "    <tr>\n",
       "      <th>1</th>\n",
       "      <td>0.0</td>\n",
       "      <td>1399</td>\n",
       "      <td>280</td>\n",
       "      <td></td>\n",
       "      <td>lake victoria</td>\n",
       "      <td>mara</td>\n",
       "      <td>NaN</td>\n",
       "      <td>True</td>\n",
       "      <td>gravity</td>\n",
       "      <td>usergroup</td>\n",
       "      <td>never pay</td>\n",
       "      <td>good</td>\n",
       "      <td>insufficient</td>\n",
       "      <td>rainwater harvesting</td>\n",
       "      <td>communal standpipe</td>\n",
       "      <td>individualother</td>\n",
       "      <td>other</td>\n",
       "      <td>other</td>\n",
       "      <td>functional</td>\n",
       "    </tr>\n",
       "    <tr>\n",
       "      <th>2</th>\n",
       "      <td>25.0</td>\n",
       "      <td>686</td>\n",
       "      <td>250</td>\n",
       "      <td></td>\n",
       "      <td>pangani</td>\n",
       "      <td>manyara</td>\n",
       "      <td>True</td>\n",
       "      <td>True</td>\n",
       "      <td>gravity</td>\n",
       "      <td>usergroup</td>\n",
       "      <td>per bucket</td>\n",
       "      <td>good</td>\n",
       "      <td>enough</td>\n",
       "      <td>dam</td>\n",
       "      <td>communal standpipe multiple</td>\n",
       "      <td>individualother</td>\n",
       "      <td>other</td>\n",
       "      <td>government</td>\n",
       "      <td>functional</td>\n",
       "    </tr>\n",
       "    <tr>\n",
       "      <th>3</th>\n",
       "      <td>0.0</td>\n",
       "      <td>263</td>\n",
       "      <td>58</td>\n",
       "      <td></td>\n",
       "      <td>ruvuma southern coast</td>\n",
       "      <td>mtwara</td>\n",
       "      <td>True</td>\n",
       "      <td>True</td>\n",
       "      <td>submersible</td>\n",
       "      <td>usergroup</td>\n",
       "      <td>never pay</td>\n",
       "      <td>good</td>\n",
       "      <td>dry</td>\n",
       "      <td>borehole</td>\n",
       "      <td>communal standpipe multiple</td>\n",
       "      <td>international aid</td>\n",
       "      <td>ngo</td>\n",
       "      <td>government</td>\n",
       "      <td>non functional</td>\n",
       "    </tr>\n",
       "    <tr>\n",
       "      <th>4</th>\n",
       "      <td>0.0</td>\n",
       "      <td>0</td>\n",
       "      <td>0</td>\n",
       "      <td></td>\n",
       "      <td>lake victoria</td>\n",
       "      <td>kagera</td>\n",
       "      <td>True</td>\n",
       "      <td>True</td>\n",
       "      <td>gravity</td>\n",
       "      <td>other</td>\n",
       "      <td>never pay</td>\n",
       "      <td>good</td>\n",
       "      <td>seasonal</td>\n",
       "      <td>rainwater harvesting</td>\n",
       "      <td>communal standpipe</td>\n",
       "      <td>individualother</td>\n",
       "      <td>other</td>\n",
       "      <td>other</td>\n",
       "      <td>functional</td>\n",
       "    </tr>\n",
       "  </tbody>\n",
       "</table>\n",
       "</div>"
      ],
      "text/plain": [
       "   amount_tsh  gps_height  population date_recorded                  basin  \\\n",
       "0      6000.0        1390         109                           lake nyasa   \n",
       "1         0.0        1399         280                        lake victoria   \n",
       "2        25.0         686         250                              pangani   \n",
       "3         0.0         263          58                ruvuma southern coast   \n",
       "4         0.0           0           0                        lake victoria   \n",
       "\n",
       "    region public_meeting permit extraction_type_class management_group  \\\n",
       "0   iringa           True  False               gravity        usergroup   \n",
       "1     mara            NaN   True               gravity        usergroup   \n",
       "2  manyara           True   True               gravity        usergroup   \n",
       "3   mtwara           True   True           submersible        usergroup   \n",
       "4   kagera           True   True               gravity            other   \n",
       "\n",
       "  payment_type quality_group quantity_group           source_type  \\\n",
       "0     annually          good         enough                spring   \n",
       "1    never pay          good   insufficient  rainwater harvesting   \n",
       "2   per bucket          good         enough                   dam   \n",
       "3    never pay          good            dry              borehole   \n",
       "4    never pay          good       seasonal  rainwater harvesting   \n",
       "\n",
       "               waterpoint_type        funder_type installer_type  \\\n",
       "0           communal standpipe    individualother          other   \n",
       "1           communal standpipe    individualother          other   \n",
       "2  communal standpipe multiple    individualother          other   \n",
       "3  communal standpipe multiple  international aid            ngo   \n",
       "4           communal standpipe    individualother          other   \n",
       "\n",
       "  scheme_management_grouped    status_group  \n",
       "0                government      functional  \n",
       "1                     other      functional  \n",
       "2                government      functional  \n",
       "3                government  non functional  \n",
       "4                     other      functional  "
      ]
     },
     "execution_count": 36,
     "metadata": {},
     "output_type": "execute_result"
    }
   ],
   "source": [
    "df.head()"
   ]
  },
  {
   "cell_type": "markdown",
   "metadata": {},
   "source": [
    "## 5.1.3 Class Imbalance checking"
   ]
  },
  {
   "cell_type": "code",
   "execution_count": 37,
   "metadata": {},
   "outputs": [
    {
     "name": "stdout",
     "output_type": "stream",
     "text": [
      "Class distribution of status_group:\n",
      "functional                 0.543081\n",
      "non functional             0.384242\n",
      "functional needs repair    0.072677\n",
      "Name: status_group, dtype: float64\n"
     ]
    }
   ],
   "source": [
    "# Check class distribution in y_train\n",
    "print(\"Class distribution of status_group:\")\n",
    "print(df['status_group'].value_counts(normalize=True))"
   ]
  },
  {
   "cell_type": "markdown",
   "metadata": {},
   "source": [
    "We decide to group together into a same class functional needs repair and functional. In this way, we have a binary classification problem"
   ]
  },
  {
   "cell_type": "code",
   "execution_count": 38,
   "metadata": {},
   "outputs": [
    {
     "name": "stdout",
     "output_type": "stream",
     "text": [
      "Class distribution in y_train after replacement:\n",
      "functional        0.615758\n",
      "non functional    0.384242\n",
      "Name: status_group, dtype: float64\n"
     ]
    }
   ],
   "source": [
    "# Replace 'functional needs repair' with 'functional'\n",
    "df['status_group'] = df['status_group'].replace('functional needs repair', 'functional')\n",
    "\n",
    "# Verify changes by checking the class distribution again in y_train and y_test\n",
    "print(\"Class distribution in y_train after replacement:\")\n",
    "print(df['status_group'].value_counts(normalize=True))"
   ]
  },
  {
   "cell_type": "markdown",
   "metadata": {},
   "source": [
    "## 5.1.4 Define predictor and target variables"
   ]
  },
  {
   "cell_type": "code",
   "execution_count": 39,
   "metadata": {},
   "outputs": [],
   "source": [
    "y = df['status_group']\n",
    "X = df.drop('status_group', axis=1)"
   ]
  },
  {
   "cell_type": "markdown",
   "metadata": {},
   "source": [
    "## 5.1.5 Do a train test split"
   ]
  },
  {
   "cell_type": "code",
   "execution_count": 40,
   "metadata": {},
   "outputs": [],
   "source": [
    "# Split the data into training and testing sets\n",
    "X_train, X_test, y_train, y_test = train_test_split(X, y, test_size=0.2, random_state=42)"
   ]
  },
  {
   "cell_type": "markdown",
   "metadata": {},
   "source": [
    "## 5.1.6 Dealing with null values"
   ]
  },
  {
   "cell_type": "code",
   "execution_count": 41,
   "metadata": {},
   "outputs": [
    {
     "data": {
      "text/plain": [
       "amount_tsh                   0.000000\n",
       "gps_height                   0.000000\n",
       "population                   0.000000\n",
       "date_recorded                0.000000\n",
       "basin                        0.000000\n",
       "region                       0.000000\n",
       "public_meeting               4.526936\n",
       "permit                       4.106061\n",
       "extraction_type_class        0.000000\n",
       "management_group             0.000000\n",
       "payment_type                 0.000000\n",
       "quality_group                0.000000\n",
       "quantity_group               0.000000\n",
       "source_type                  0.000000\n",
       "waterpoint_type              0.000000\n",
       "funder_type                  0.000000\n",
       "installer_type               0.000000\n",
       "scheme_management_grouped    0.000000\n",
       "dtype: float64"
      ]
     },
     "execution_count": 41,
     "metadata": {},
     "output_type": "execute_result"
    }
   ],
   "source": [
    "# For train data\n",
    "(X_train.isna().sum()/len(df))*100"
   ]
  },
  {
   "cell_type": "markdown",
   "metadata": {},
   "source": [
    "### Column 'public_meeting'"
   ]
  },
  {
   "cell_type": "code",
   "execution_count": 42,
   "metadata": {},
   "outputs": [
    {
     "data": {
      "text/plain": [
       "True     0.908813\n",
       "False    0.091187\n",
       "Name: public_meeting, dtype: float64"
      ]
     },
     "execution_count": 42,
     "metadata": {},
     "output_type": "execute_result"
    }
   ],
   "source": [
    "X_train[\"public_meeting\"].value_counts(normalize=True)"
   ]
  },
  {
   "cell_type": "code",
   "execution_count": 43,
   "metadata": {},
   "outputs": [
    {
     "name": "stdout",
     "output_type": "stream",
     "text": [
      "True     0.909838\n",
      "False    0.090162\n",
      "Name: public_meeting, dtype: float64\n"
     ]
    }
   ],
   "source": [
    "# Given that the null values are only 6%, lets replace them with the mode\n",
    "\n",
    "# Calculate the mode of the 'public_meeting' column\n",
    "public_meeting_mode = X_train['public_meeting'].mode()[0]\n",
    "\n",
    "# Fill missing values in 'public_meeting' of X_train with the mode from X_train\n",
    "X_train['public_meeting'].fillna(public_meeting_mode, inplace=True)\n",
    "\n",
    "# Fill missing values in 'public_meeting' of X_test with the mode from X_train\n",
    "X_test['public_meeting'].fillna(public_meeting_mode, inplace=True)\n",
    "\n",
    "# Convert the 'public_meeting' column to type object in both X_train and X_test\n",
    "X_train['public_meeting'] = X_train['public_meeting'].astype(object)\n",
    "X_test['public_meeting'] = X_test['public_meeting'].astype(object)\n",
    "\n",
    "# Verify if all NA values are filled\n",
    "print(df['public_meeting'].value_counts(normalize=True))"
   ]
  },
  {
   "cell_type": "code",
   "execution_count": 44,
   "metadata": {},
   "outputs": [
    {
     "data": {
      "text/plain": [
       "True"
      ]
     },
     "execution_count": 44,
     "metadata": {},
     "output_type": "execute_result"
    }
   ],
   "source": [
    "public_meeting_mode"
   ]
  },
  {
   "cell_type": "markdown",
   "metadata": {},
   "source": [
    "### Column 'permit'"
   ]
  },
  {
   "cell_type": "code",
   "execution_count": 45,
   "metadata": {},
   "outputs": [
    {
     "data": {
      "text/plain": [
       "True     0.68955\n",
       "False    0.31045\n",
       "Name: permit, dtype: float64"
      ]
     },
     "execution_count": 45,
     "metadata": {},
     "output_type": "execute_result"
    }
   ],
   "source": [
    "df[\"permit\"].value_counts(normalize=True)"
   ]
  },
  {
   "cell_type": "code",
   "execution_count": 46,
   "metadata": {},
   "outputs": [
    {
     "name": "stdout",
     "output_type": "stream",
     "text": [
      "True     0.704272\n",
      "False    0.295728\n",
      "Name: permit, dtype: float64\n"
     ]
    }
   ],
   "source": [
    "# Given that the null values are only 5%, lets replace them with the mode\n",
    "\n",
    "# Calculate the mode of the 'permit' column\n",
    "permit_mode = X_train['permit'].mode()[0]\n",
    "\n",
    "# Fill missing values in 'permit' of X_train with the mode of X_train\n",
    "X_train['permit'].fillna(permit_mode, inplace=True)\n",
    "\n",
    "# Fill missing values in 'permit' of X_test with the mode of X_train\n",
    "X_test['permit'].fillna(permit_mode, inplace=True)\n",
    "\n",
    "# Convert the 'permit' column to type object in both X_train and X_test\n",
    "X_train['permit'] = X_train['permit'].astype(object)\n",
    "X_test['permit'] = X_test['permit'].astype(object)\n",
    "\n",
    "# Verify if all NA values are filled\n",
    "print(X_train['permit'].value_counts(normalize=True))"
   ]
  },
  {
   "cell_type": "code",
   "execution_count": 47,
   "metadata": {},
   "outputs": [
    {
     "data": {
      "text/plain": [
       "True"
      ]
     },
     "execution_count": 47,
     "metadata": {},
     "output_type": "execute_result"
    }
   ],
   "source": [
    "permit_mode"
   ]
  },
  {
   "cell_type": "markdown",
   "metadata": {},
   "source": [
    "## 5.1.7 Doing target enconder on the categorical columns"
   ]
  },
  {
   "cell_type": "markdown",
   "metadata": {},
   "source": [
    "Let's perform a one hot enconder on the categorical columns that have less than 6 categories"
   ]
  },
  {
   "cell_type": "code",
   "execution_count": 48,
   "metadata": {},
   "outputs": [
    {
     "name": "stdout",
     "output_type": "stream",
     "text": [
      "Categorical columns in X_train:\n",
      "Index(['date_recorded', 'basin', 'region', 'public_meeting', 'permit',\n",
      "       'extraction_type_class', 'management_group', 'payment_type',\n",
      "       'quality_group', 'quantity_group', 'source_type', 'waterpoint_type',\n",
      "       'funder_type', 'installer_type', 'scheme_management_grouped'],\n",
      "      dtype='object')\n"
     ]
    }
   ],
   "source": [
    "# Identifying categorical columns\n",
    "categorical_columns = X_train.select_dtypes(include=['object', 'category']).columns\n",
    "\n",
    "# Printing the list of categorical columns\n",
    "print(\"Categorical columns in X_train:\")\n",
    "print(categorical_columns)"
   ]
  },
  {
   "cell_type": "markdown",
   "metadata": {},
   "source": [
    "**X_train**"
   ]
  },
  {
   "cell_type": "markdown",
   "metadata": {},
   "source": [
    "Let's do a code to apply one hot enconder on the columns that have less than 6 variables and a target enconder on the columns that have more than 6 variables. The reason why we decide to not apply target encoding to all the columns directly is to avoid overfitting "
   ]
  },
  {
   "cell_type": "code",
   "execution_count": 49,
   "metadata": {},
   "outputs": [
    {
     "data": {
      "text/html": [
       "<div>\n",
       "<style scoped>\n",
       "    .dataframe tbody tr th:only-of-type {\n",
       "        vertical-align: middle;\n",
       "    }\n",
       "\n",
       "    .dataframe tbody tr th {\n",
       "        vertical-align: top;\n",
       "    }\n",
       "\n",
       "    .dataframe thead th {\n",
       "        text-align: right;\n",
       "    }\n",
       "</style>\n",
       "<table border=\"1\" class=\"dataframe\">\n",
       "  <thead>\n",
       "    <tr style=\"text-align: right;\">\n",
       "      <th></th>\n",
       "      <th>amount_tsh</th>\n",
       "      <th>gps_height</th>\n",
       "      <th>population</th>\n",
       "      <th>basin</th>\n",
       "      <th>region</th>\n",
       "      <th>extraction_type_class</th>\n",
       "      <th>payment_type</th>\n",
       "      <th>source_type</th>\n",
       "      <th>waterpoint_type</th>\n",
       "      <th>installer_type</th>\n",
       "      <th>...</th>\n",
       "      <th>quantity_group_unknown</th>\n",
       "      <th>funder_type_individualother</th>\n",
       "      <th>funder_type_international aid</th>\n",
       "      <th>funder_type_ngo</th>\n",
       "      <th>funder_type_private companies</th>\n",
       "      <th>funder_type_religious organizations</th>\n",
       "      <th>scheme_management_grouped_government</th>\n",
       "      <th>scheme_management_grouped_other</th>\n",
       "      <th>scheme_management_grouped_private sector</th>\n",
       "      <th>scheme_management_grouped_water board</th>\n",
       "    </tr>\n",
       "  </thead>\n",
       "  <tbody>\n",
       "    <tr>\n",
       "      <th>3607</th>\n",
       "      <td>50.0</td>\n",
       "      <td>2092</td>\n",
       "      <td>160</td>\n",
       "      <td>0.346722</td>\n",
       "      <td>0.315956</td>\n",
       "      <td>0.300187</td>\n",
       "      <td>0.277862</td>\n",
       "      <td>0.301175</td>\n",
       "      <td>0.298881</td>\n",
       "      <td>0.383794</td>\n",
       "      <td>...</td>\n",
       "      <td>0</td>\n",
       "      <td>1</td>\n",
       "      <td>0</td>\n",
       "      <td>0</td>\n",
       "      <td>0</td>\n",
       "      <td>0</td>\n",
       "      <td>0</td>\n",
       "      <td>0</td>\n",
       "      <td>0</td>\n",
       "      <td>1</td>\n",
       "    </tr>\n",
       "    <tr>\n",
       "      <th>50870</th>\n",
       "      <td>0.0</td>\n",
       "      <td>0</td>\n",
       "      <td>0</td>\n",
       "      <td>0.346722</td>\n",
       "      <td>0.443875</td>\n",
       "      <td>0.309484</td>\n",
       "      <td>0.475440</td>\n",
       "      <td>0.447489</td>\n",
       "      <td>0.324167</td>\n",
       "      <td>0.570368</td>\n",
       "      <td>...</td>\n",
       "      <td>0</td>\n",
       "      <td>1</td>\n",
       "      <td>0</td>\n",
       "      <td>0</td>\n",
       "      <td>0</td>\n",
       "      <td>0</td>\n",
       "      <td>1</td>\n",
       "      <td>0</td>\n",
       "      <td>0</td>\n",
       "      <td>0</td>\n",
       "    </tr>\n",
       "    <tr>\n",
       "      <th>20413</th>\n",
       "      <td>0.0</td>\n",
       "      <td>0</td>\n",
       "      <td>0</td>\n",
       "      <td>0.485901</td>\n",
       "      <td>0.398196</td>\n",
       "      <td>0.805243</td>\n",
       "      <td>0.475440</td>\n",
       "      <td>0.447489</td>\n",
       "      <td>0.821499</td>\n",
       "      <td>0.383794</td>\n",
       "      <td>...</td>\n",
       "      <td>0</td>\n",
       "      <td>1</td>\n",
       "      <td>0</td>\n",
       "      <td>0</td>\n",
       "      <td>0</td>\n",
       "      <td>0</td>\n",
       "      <td>1</td>\n",
       "      <td>0</td>\n",
       "      <td>0</td>\n",
       "      <td>0</td>\n",
       "    </tr>\n",
       "    <tr>\n",
       "      <th>52806</th>\n",
       "      <td>0.0</td>\n",
       "      <td>0</td>\n",
       "      <td>0</td>\n",
       "      <td>0.311216</td>\n",
       "      <td>0.398196</td>\n",
       "      <td>0.300187</td>\n",
       "      <td>0.226650</td>\n",
       "      <td>0.343784</td>\n",
       "      <td>0.298881</td>\n",
       "      <td>0.383794</td>\n",
       "      <td>...</td>\n",
       "      <td>0</td>\n",
       "      <td>0</td>\n",
       "      <td>1</td>\n",
       "      <td>0</td>\n",
       "      <td>0</td>\n",
       "      <td>0</td>\n",
       "      <td>1</td>\n",
       "      <td>0</td>\n",
       "      <td>0</td>\n",
       "      <td>0</td>\n",
       "    </tr>\n",
       "    <tr>\n",
       "      <th>50091</th>\n",
       "      <td>300.0</td>\n",
       "      <td>1023</td>\n",
       "      <td>120</td>\n",
       "      <td>0.432348</td>\n",
       "      <td>0.398697</td>\n",
       "      <td>0.805243</td>\n",
       "      <td>0.308180</td>\n",
       "      <td>0.447489</td>\n",
       "      <td>0.821499</td>\n",
       "      <td>0.383794</td>\n",
       "      <td>...</td>\n",
       "      <td>0</td>\n",
       "      <td>1</td>\n",
       "      <td>0</td>\n",
       "      <td>0</td>\n",
       "      <td>0</td>\n",
       "      <td>0</td>\n",
       "      <td>1</td>\n",
       "      <td>0</td>\n",
       "      <td>0</td>\n",
       "      <td>0</td>\n",
       "    </tr>\n",
       "  </tbody>\n",
       "</table>\n",
       "<p>5 rows × 34 columns</p>\n",
       "</div>"
      ],
      "text/plain": [
       "       amount_tsh  gps_height  population     basin    region  \\\n",
       "3607         50.0        2092         160  0.346722  0.315956   \n",
       "50870         0.0           0           0  0.346722  0.443875   \n",
       "20413         0.0           0           0  0.485901  0.398196   \n",
       "52806         0.0           0           0  0.311216  0.398196   \n",
       "50091       300.0        1023         120  0.432348  0.398697   \n",
       "\n",
       "       extraction_type_class  payment_type  source_type  waterpoint_type  \\\n",
       "3607                0.300187      0.277862     0.301175         0.298881   \n",
       "50870               0.309484      0.475440     0.447489         0.324167   \n",
       "20413               0.805243      0.475440     0.447489         0.821499   \n",
       "52806               0.300187      0.226650     0.343784         0.298881   \n",
       "50091               0.805243      0.308180     0.447489         0.821499   \n",
       "\n",
       "       installer_type  ...  quantity_group_unknown  \\\n",
       "3607         0.383794  ...                       0   \n",
       "50870        0.570368  ...                       0   \n",
       "20413        0.383794  ...                       0   \n",
       "52806        0.383794  ...                       0   \n",
       "50091        0.383794  ...                       0   \n",
       "\n",
       "       funder_type_individualother  funder_type_international aid  \\\n",
       "3607                             1                              0   \n",
       "50870                            1                              0   \n",
       "20413                            1                              0   \n",
       "52806                            0                              1   \n",
       "50091                            1                              0   \n",
       "\n",
       "       funder_type_ngo  funder_type_private companies  \\\n",
       "3607                 0                              0   \n",
       "50870                0                              0   \n",
       "20413                0                              0   \n",
       "52806                0                              0   \n",
       "50091                0                              0   \n",
       "\n",
       "       funder_type_religious organizations  \\\n",
       "3607                                     0   \n",
       "50870                                    0   \n",
       "20413                                    0   \n",
       "52806                                    0   \n",
       "50091                                    0   \n",
       "\n",
       "       scheme_management_grouped_government  scheme_management_grouped_other  \\\n",
       "3607                                      0                                0   \n",
       "50870                                     1                                0   \n",
       "20413                                     1                                0   \n",
       "52806                                     1                                0   \n",
       "50091                                     1                                0   \n",
       "\n",
       "       scheme_management_grouped_private sector  \\\n",
       "3607                                          0   \n",
       "50870                                         0   \n",
       "20413                                         0   \n",
       "52806                                         0   \n",
       "50091                                         0   \n",
       "\n",
       "       scheme_management_grouped_water board  \n",
       "3607                                       1  \n",
       "50870                                      0  \n",
       "20413                                      0  \n",
       "52806                                      0  \n",
       "50091                                      0  \n",
       "\n",
       "[5 rows x 34 columns]"
      ]
     },
     "execution_count": 49,
     "metadata": {},
     "output_type": "execute_result"
    }
   ],
   "source": [
    "# Check if 'y_train' and 'y_test' need to be converted to a numeric type\n",
    "if y_train.dtype == 'object':\n",
    "    y_train = y_train.astype('category').cat.codes\n",
    "if y_test.dtype == 'object':\n",
    "    y_test = y_test.astype('category').cat.codes\n",
    "\n",
    "# Capture categorical columns from X_train for encoding\n",
    "categorical_columns = X_train.select_dtypes(include=['object', 'category']).columns\n",
    "\n",
    "# Initialize encoders\n",
    "target_encoder = TargetEncoder()\n",
    "\n",
    "# Encoding the categorical columns in X_train and X_test\n",
    "for col in categorical_columns:\n",
    "    if X_train[col].nunique() <= 6:\n",
    "        # Apply OneHotEncoder for columns with 6 or fewer unique values\n",
    "        X_train = pd.get_dummies(X_train, columns=[col], drop_first=True)\n",
    "        X_test = pd.get_dummies(X_test, columns=[col], drop_first=True)\n",
    "    else:\n",
    "        # Apply TargetEncoder for columns with more than 6 unique values\n",
    "        X_train[col] = target_encoder.fit_transform(X_train[col], y_train)\n",
    "        X_test[col] = target_encoder.transform(X_test[col])\n",
    "        pickle.dump(target_encoder, open(f\"model_objects/{col}_target_encoder.pickle\", 'wb'))\n",
    "                \n",
    "# Display the DataFrame to check the results\n",
    "X_train.head()\n"
   ]
  },
  {
   "cell_type": "markdown",
   "metadata": {},
   "source": [
    "## 5.1.8 Dealing with numerical columns"
   ]
  },
  {
   "cell_type": "markdown",
   "metadata": {},
   "source": [
    "**X_train**"
   ]
  },
  {
   "cell_type": "code",
   "execution_count": 50,
   "metadata": {},
   "outputs": [
    {
     "data": {
      "text/html": [
       "<div>\n",
       "<style scoped>\n",
       "    .dataframe tbody tr th:only-of-type {\n",
       "        vertical-align: middle;\n",
       "    }\n",
       "\n",
       "    .dataframe tbody tr th {\n",
       "        vertical-align: top;\n",
       "    }\n",
       "\n",
       "    .dataframe thead th {\n",
       "        text-align: right;\n",
       "    }\n",
       "</style>\n",
       "<table border=\"1\" class=\"dataframe\">\n",
       "  <thead>\n",
       "    <tr style=\"text-align: right;\">\n",
       "      <th></th>\n",
       "      <th>amount_tsh</th>\n",
       "      <th>gps_height</th>\n",
       "      <th>population</th>\n",
       "      <th>basin</th>\n",
       "      <th>region</th>\n",
       "      <th>extraction_type_class</th>\n",
       "      <th>payment_type</th>\n",
       "      <th>source_type</th>\n",
       "      <th>waterpoint_type</th>\n",
       "      <th>installer_type</th>\n",
       "      <th>...</th>\n",
       "      <th>quantity_group_unknown</th>\n",
       "      <th>funder_type_individualother</th>\n",
       "      <th>funder_type_international aid</th>\n",
       "      <th>funder_type_ngo</th>\n",
       "      <th>funder_type_private companies</th>\n",
       "      <th>funder_type_religious organizations</th>\n",
       "      <th>scheme_management_grouped_government</th>\n",
       "      <th>scheme_management_grouped_other</th>\n",
       "      <th>scheme_management_grouped_private sector</th>\n",
       "      <th>scheme_management_grouped_water board</th>\n",
       "    </tr>\n",
       "  </thead>\n",
       "  <tbody>\n",
       "    <tr>\n",
       "      <th>3607</th>\n",
       "      <td>-0.084999</td>\n",
       "      <td>2.053863</td>\n",
       "      <td>-0.041306</td>\n",
       "      <td>-0.540016</td>\n",
       "      <td>-0.633090</td>\n",
       "      <td>-0.521411</td>\n",
       "      <td>-0.897587</td>\n",
       "      <td>-1.112570</td>\n",
       "      <td>-0.510890</td>\n",
       "      <td>-0.005208</td>\n",
       "      <td>...</td>\n",
       "      <td>0</td>\n",
       "      <td>1</td>\n",
       "      <td>0</td>\n",
       "      <td>0</td>\n",
       "      <td>0</td>\n",
       "      <td>0</td>\n",
       "      <td>0</td>\n",
       "      <td>0</td>\n",
       "      <td>0</td>\n",
       "      <td>1</td>\n",
       "    </tr>\n",
       "    <tr>\n",
       "      <th>50870</th>\n",
       "      <td>-0.100621</td>\n",
       "      <td>-0.965049</td>\n",
       "      <td>-0.379739</td>\n",
       "      <td>-0.540016</td>\n",
       "      <td>0.555492</td>\n",
       "      <td>-0.463637</td>\n",
       "      <td>0.771866</td>\n",
       "      <td>0.850673</td>\n",
       "      <td>-0.359301</td>\n",
       "      <td>3.266280</td>\n",
       "      <td>...</td>\n",
       "      <td>0</td>\n",
       "      <td>1</td>\n",
       "      <td>0</td>\n",
       "      <td>0</td>\n",
       "      <td>0</td>\n",
       "      <td>0</td>\n",
       "      <td>1</td>\n",
       "      <td>0</td>\n",
       "      <td>0</td>\n",
       "      <td>0</td>\n",
       "    </tr>\n",
       "    <tr>\n",
       "      <th>20413</th>\n",
       "      <td>-0.100621</td>\n",
       "      <td>-0.965049</td>\n",
       "      <td>-0.379739</td>\n",
       "      <td>1.471270</td>\n",
       "      <td>0.131062</td>\n",
       "      <td>2.617222</td>\n",
       "      <td>0.771866</td>\n",
       "      <td>0.850673</td>\n",
       "      <td>2.622191</td>\n",
       "      <td>-0.005208</td>\n",
       "      <td>...</td>\n",
       "      <td>0</td>\n",
       "      <td>1</td>\n",
       "      <td>0</td>\n",
       "      <td>0</td>\n",
       "      <td>0</td>\n",
       "      <td>0</td>\n",
       "      <td>1</td>\n",
       "      <td>0</td>\n",
       "      <td>0</td>\n",
       "      <td>0</td>\n",
       "    </tr>\n",
       "    <tr>\n",
       "      <th>52806</th>\n",
       "      <td>-0.100621</td>\n",
       "      <td>-0.965049</td>\n",
       "      <td>-0.379739</td>\n",
       "      <td>-1.053126</td>\n",
       "      <td>0.131062</td>\n",
       "      <td>-0.521411</td>\n",
       "      <td>-1.330306</td>\n",
       "      <td>-0.540840</td>\n",
       "      <td>-0.510890</td>\n",
       "      <td>-0.005208</td>\n",
       "      <td>...</td>\n",
       "      <td>0</td>\n",
       "      <td>0</td>\n",
       "      <td>1</td>\n",
       "      <td>0</td>\n",
       "      <td>0</td>\n",
       "      <td>0</td>\n",
       "      <td>1</td>\n",
       "      <td>0</td>\n",
       "      <td>0</td>\n",
       "      <td>0</td>\n",
       "    </tr>\n",
       "    <tr>\n",
       "      <th>50091</th>\n",
       "      <td>-0.006889</td>\n",
       "      <td>0.511216</td>\n",
       "      <td>-0.125914</td>\n",
       "      <td>0.697368</td>\n",
       "      <td>0.135714</td>\n",
       "      <td>2.617222</td>\n",
       "      <td>-0.641415</td>\n",
       "      <td>0.850673</td>\n",
       "      <td>2.622191</td>\n",
       "      <td>-0.005208</td>\n",
       "      <td>...</td>\n",
       "      <td>0</td>\n",
       "      <td>1</td>\n",
       "      <td>0</td>\n",
       "      <td>0</td>\n",
       "      <td>0</td>\n",
       "      <td>0</td>\n",
       "      <td>1</td>\n",
       "      <td>0</td>\n",
       "      <td>0</td>\n",
       "      <td>0</td>\n",
       "    </tr>\n",
       "  </tbody>\n",
       "</table>\n",
       "<p>5 rows × 34 columns</p>\n",
       "</div>"
      ],
      "text/plain": [
       "       amount_tsh  gps_height  population     basin    region  \\\n",
       "3607    -0.084999    2.053863   -0.041306 -0.540016 -0.633090   \n",
       "50870   -0.100621   -0.965049   -0.379739 -0.540016  0.555492   \n",
       "20413   -0.100621   -0.965049   -0.379739  1.471270  0.131062   \n",
       "52806   -0.100621   -0.965049   -0.379739 -1.053126  0.131062   \n",
       "50091   -0.006889    0.511216   -0.125914  0.697368  0.135714   \n",
       "\n",
       "       extraction_type_class  payment_type  source_type  waterpoint_type  \\\n",
       "3607               -0.521411     -0.897587    -1.112570        -0.510890   \n",
       "50870              -0.463637      0.771866     0.850673        -0.359301   \n",
       "20413               2.617222      0.771866     0.850673         2.622191   \n",
       "52806              -0.521411     -1.330306    -0.540840        -0.510890   \n",
       "50091               2.617222     -0.641415     0.850673         2.622191   \n",
       "\n",
       "       installer_type  ...  quantity_group_unknown  \\\n",
       "3607        -0.005208  ...                       0   \n",
       "50870        3.266280  ...                       0   \n",
       "20413       -0.005208  ...                       0   \n",
       "52806       -0.005208  ...                       0   \n",
       "50091       -0.005208  ...                       0   \n",
       "\n",
       "       funder_type_individualother  funder_type_international aid  \\\n",
       "3607                             1                              0   \n",
       "50870                            1                              0   \n",
       "20413                            1                              0   \n",
       "52806                            0                              1   \n",
       "50091                            1                              0   \n",
       "\n",
       "       funder_type_ngo  funder_type_private companies  \\\n",
       "3607                 0                              0   \n",
       "50870                0                              0   \n",
       "20413                0                              0   \n",
       "52806                0                              0   \n",
       "50091                0                              0   \n",
       "\n",
       "       funder_type_religious organizations  \\\n",
       "3607                                     0   \n",
       "50870                                    0   \n",
       "20413                                    0   \n",
       "52806                                    0   \n",
       "50091                                    0   \n",
       "\n",
       "       scheme_management_grouped_government  scheme_management_grouped_other  \\\n",
       "3607                                      0                                0   \n",
       "50870                                     1                                0   \n",
       "20413                                     1                                0   \n",
       "52806                                     1                                0   \n",
       "50091                                     1                                0   \n",
       "\n",
       "       scheme_management_grouped_private sector  \\\n",
       "3607                                          0   \n",
       "50870                                         0   \n",
       "20413                                         0   \n",
       "52806                                         0   \n",
       "50091                                         0   \n",
       "\n",
       "       scheme_management_grouped_water board  \n",
       "3607                                       1  \n",
       "50870                                      0  \n",
       "20413                                      0  \n",
       "52806                                      0  \n",
       "50091                                      0  \n",
       "\n",
       "[5 rows x 34 columns]"
      ]
     },
     "execution_count": 50,
     "metadata": {},
     "output_type": "execute_result"
    }
   ],
   "source": [
    "# Capture numerical columns\n",
    "numerical_columns = X_train.select_dtypes(include=['int64', 'float64']).columns\n",
    "\n",
    "# Initialize the StandardScaler\n",
    "scaler = StandardScaler()\n",
    "\n",
    "# Fit and transform the numerical columns\n",
    "scaler.fit(X_train[numerical_columns])\n",
    "\n",
    "X_train[numerical_columns] = scaler.transform(X_train[numerical_columns])\n",
    "\n",
    "# Save the fitted variables\n",
    "pickle.dump(scaler, open(f\"model_objects/numerical_columns_scaler.pickle\", 'wb'))\n",
    "\n",
    "# Display the DataFrame to check the results\n",
    "X_train.head()"
   ]
  },
  {
   "cell_type": "markdown",
   "metadata": {},
   "source": [
    "**X_test**"
   ]
  },
  {
   "cell_type": "code",
   "execution_count": 51,
   "metadata": {},
   "outputs": [
    {
     "data": {
      "text/html": [
       "<div>\n",
       "<style scoped>\n",
       "    .dataframe tbody tr th:only-of-type {\n",
       "        vertical-align: middle;\n",
       "    }\n",
       "\n",
       "    .dataframe tbody tr th {\n",
       "        vertical-align: top;\n",
       "    }\n",
       "\n",
       "    .dataframe thead th {\n",
       "        text-align: right;\n",
       "    }\n",
       "</style>\n",
       "<table border=\"1\" class=\"dataframe\">\n",
       "  <thead>\n",
       "    <tr style=\"text-align: right;\">\n",
       "      <th></th>\n",
       "      <th>amount_tsh</th>\n",
       "      <th>gps_height</th>\n",
       "      <th>population</th>\n",
       "      <th>basin</th>\n",
       "      <th>region</th>\n",
       "      <th>extraction_type_class</th>\n",
       "      <th>payment_type</th>\n",
       "      <th>source_type</th>\n",
       "      <th>waterpoint_type</th>\n",
       "      <th>installer_type</th>\n",
       "      <th>...</th>\n",
       "      <th>quantity_group_unknown</th>\n",
       "      <th>funder_type_individualother</th>\n",
       "      <th>funder_type_international aid</th>\n",
       "      <th>funder_type_ngo</th>\n",
       "      <th>funder_type_private companies</th>\n",
       "      <th>funder_type_religious organizations</th>\n",
       "      <th>scheme_management_grouped_government</th>\n",
       "      <th>scheme_management_grouped_other</th>\n",
       "      <th>scheme_management_grouped_private sector</th>\n",
       "      <th>scheme_management_grouped_water board</th>\n",
       "    </tr>\n",
       "  </thead>\n",
       "  <tbody>\n",
       "    <tr>\n",
       "      <th>2980</th>\n",
       "      <td>-0.100621</td>\n",
       "      <td>-0.965049</td>\n",
       "      <td>-0.379739</td>\n",
       "      <td>0.205860</td>\n",
       "      <td>-0.699807</td>\n",
       "      <td>2.617222</td>\n",
       "      <td>1.090170</td>\n",
       "      <td>0.850673</td>\n",
       "      <td>2.622191</td>\n",
       "      <td>-0.281827</td>\n",
       "      <td>...</td>\n",
       "      <td>0</td>\n",
       "      <td>1</td>\n",
       "      <td>0</td>\n",
       "      <td>0</td>\n",
       "      <td>0</td>\n",
       "      <td>0</td>\n",
       "      <td>0</td>\n",
       "      <td>0</td>\n",
       "      <td>0</td>\n",
       "      <td>0</td>\n",
       "    </tr>\n",
       "    <tr>\n",
       "      <th>5246</th>\n",
       "      <td>-0.100621</td>\n",
       "      <td>-0.965049</td>\n",
       "      <td>-0.379739</td>\n",
       "      <td>0.205860</td>\n",
       "      <td>1.453840</td>\n",
       "      <td>-0.463637</td>\n",
       "      <td>0.771866</td>\n",
       "      <td>0.850673</td>\n",
       "      <td>-0.359301</td>\n",
       "      <td>-0.005208</td>\n",
       "      <td>...</td>\n",
       "      <td>0</td>\n",
       "      <td>1</td>\n",
       "      <td>0</td>\n",
       "      <td>0</td>\n",
       "      <td>0</td>\n",
       "      <td>0</td>\n",
       "      <td>1</td>\n",
       "      <td>0</td>\n",
       "      <td>0</td>\n",
       "      <td>0</td>\n",
       "    </tr>\n",
       "    <tr>\n",
       "      <th>22659</th>\n",
       "      <td>-0.097497</td>\n",
       "      <td>1.452101</td>\n",
       "      <td>-0.066689</td>\n",
       "      <td>-0.540016</td>\n",
       "      <td>-0.633090</td>\n",
       "      <td>-0.521411</td>\n",
       "      <td>-0.897587</td>\n",
       "      <td>-1.112570</td>\n",
       "      <td>-0.510890</td>\n",
       "      <td>-0.281827</td>\n",
       "      <td>...</td>\n",
       "      <td>0</td>\n",
       "      <td>1</td>\n",
       "      <td>0</td>\n",
       "      <td>0</td>\n",
       "      <td>0</td>\n",
       "      <td>0</td>\n",
       "      <td>0</td>\n",
       "      <td>0</td>\n",
       "      <td>0</td>\n",
       "      <td>1</td>\n",
       "    </tr>\n",
       "    <tr>\n",
       "      <th>39888</th>\n",
       "      <td>-0.100621</td>\n",
       "      <td>-0.965049</td>\n",
       "      <td>-0.379739</td>\n",
       "      <td>1.471270</td>\n",
       "      <td>0.131062</td>\n",
       "      <td>-0.463637</td>\n",
       "      <td>0.771866</td>\n",
       "      <td>0.850673</td>\n",
       "      <td>-0.359301</td>\n",
       "      <td>-0.005208</td>\n",
       "      <td>...</td>\n",
       "      <td>0</td>\n",
       "      <td>1</td>\n",
       "      <td>0</td>\n",
       "      <td>0</td>\n",
       "      <td>0</td>\n",
       "      <td>0</td>\n",
       "      <td>1</td>\n",
       "      <td>0</td>\n",
       "      <td>0</td>\n",
       "      <td>0</td>\n",
       "    </tr>\n",
       "    <tr>\n",
       "      <th>13361</th>\n",
       "      <td>-0.084999</td>\n",
       "      <td>0.635320</td>\n",
       "      <td>0.117334</td>\n",
       "      <td>-0.540016</td>\n",
       "      <td>0.663779</td>\n",
       "      <td>1.165688</td>\n",
       "      <td>-0.897587</td>\n",
       "      <td>1.017142</td>\n",
       "      <td>0.869823</td>\n",
       "      <td>-0.005208</td>\n",
       "      <td>...</td>\n",
       "      <td>0</td>\n",
       "      <td>1</td>\n",
       "      <td>0</td>\n",
       "      <td>0</td>\n",
       "      <td>0</td>\n",
       "      <td>0</td>\n",
       "      <td>0</td>\n",
       "      <td>0</td>\n",
       "      <td>0</td>\n",
       "      <td>0</td>\n",
       "    </tr>\n",
       "  </tbody>\n",
       "</table>\n",
       "<p>5 rows × 34 columns</p>\n",
       "</div>"
      ],
      "text/plain": [
       "       amount_tsh  gps_height  population     basin    region  \\\n",
       "2980    -0.100621   -0.965049   -0.379739  0.205860 -0.699807   \n",
       "5246    -0.100621   -0.965049   -0.379739  0.205860  1.453840   \n",
       "22659   -0.097497    1.452101   -0.066689 -0.540016 -0.633090   \n",
       "39888   -0.100621   -0.965049   -0.379739  1.471270  0.131062   \n",
       "13361   -0.084999    0.635320    0.117334 -0.540016  0.663779   \n",
       "\n",
       "       extraction_type_class  payment_type  source_type  waterpoint_type  \\\n",
       "2980                2.617222      1.090170     0.850673         2.622191   \n",
       "5246               -0.463637      0.771866     0.850673        -0.359301   \n",
       "22659              -0.521411     -0.897587    -1.112570        -0.510890   \n",
       "39888              -0.463637      0.771866     0.850673        -0.359301   \n",
       "13361               1.165688     -0.897587     1.017142         0.869823   \n",
       "\n",
       "       installer_type  ...  quantity_group_unknown  \\\n",
       "2980        -0.281827  ...                       0   \n",
       "5246        -0.005208  ...                       0   \n",
       "22659       -0.281827  ...                       0   \n",
       "39888       -0.005208  ...                       0   \n",
       "13361       -0.005208  ...                       0   \n",
       "\n",
       "       funder_type_individualother  funder_type_international aid  \\\n",
       "2980                             1                              0   \n",
       "5246                             1                              0   \n",
       "22659                            1                              0   \n",
       "39888                            1                              0   \n",
       "13361                            1                              0   \n",
       "\n",
       "       funder_type_ngo  funder_type_private companies  \\\n",
       "2980                 0                              0   \n",
       "5246                 0                              0   \n",
       "22659                0                              0   \n",
       "39888                0                              0   \n",
       "13361                0                              0   \n",
       "\n",
       "       funder_type_religious organizations  \\\n",
       "2980                                     0   \n",
       "5246                                     0   \n",
       "22659                                    0   \n",
       "39888                                    0   \n",
       "13361                                    0   \n",
       "\n",
       "       scheme_management_grouped_government  scheme_management_grouped_other  \\\n",
       "2980                                      0                                0   \n",
       "5246                                      1                                0   \n",
       "22659                                     0                                0   \n",
       "39888                                     1                                0   \n",
       "13361                                     0                                0   \n",
       "\n",
       "       scheme_management_grouped_private sector  \\\n",
       "2980                                          0   \n",
       "5246                                          0   \n",
       "22659                                         0   \n",
       "39888                                         0   \n",
       "13361                                         0   \n",
       "\n",
       "       scheme_management_grouped_water board  \n",
       "2980                                       0  \n",
       "5246                                       0  \n",
       "22659                                      1  \n",
       "39888                                      0  \n",
       "13361                                      0  \n",
       "\n",
       "[5 rows x 34 columns]"
      ]
     },
     "execution_count": 51,
     "metadata": {},
     "output_type": "execute_result"
    }
   ],
   "source": [
    "X_test[numerical_columns] = scaler.transform(X_test[numerical_columns])\n",
    "\n",
    "# Display the DataFrame to check the results\n",
    "X_test.head()"
   ]
  },
  {
   "cell_type": "markdown",
   "metadata": {},
   "source": [
    "## 5.1.9 Concatenate train on one side and test on the other"
   ]
  },
  {
   "cell_type": "code",
   "execution_count": 52,
   "metadata": {},
   "outputs": [],
   "source": [
    "# Concatenate all train\n",
    "df_train = pd.concat([X_train, y_train], axis=1)\n",
    "\n",
    "# Concatenate all test\n",
    "df_test = pd.concat([X_test, y_test], axis=1)\n",
    "\n",
    "# Create a label column\n",
    "df_train['is_test'] = 0\n",
    "df_test['is_test'] = 1"
   ]
  },
  {
   "cell_type": "markdown",
   "metadata": {},
   "source": [
    "## 5.1.10 Concatenate everything in one dataframe"
   ]
  },
  {
   "cell_type": "code",
   "execution_count": 53,
   "metadata": {},
   "outputs": [
    {
     "data": {
      "text/html": [
       "<div>\n",
       "<style scoped>\n",
       "    .dataframe tbody tr th:only-of-type {\n",
       "        vertical-align: middle;\n",
       "    }\n",
       "\n",
       "    .dataframe tbody tr th {\n",
       "        vertical-align: top;\n",
       "    }\n",
       "\n",
       "    .dataframe thead th {\n",
       "        text-align: right;\n",
       "    }\n",
       "</style>\n",
       "<table border=\"1\" class=\"dataframe\">\n",
       "  <thead>\n",
       "    <tr style=\"text-align: right;\">\n",
       "      <th></th>\n",
       "      <th>amount_tsh</th>\n",
       "      <th>gps_height</th>\n",
       "      <th>population</th>\n",
       "      <th>basin</th>\n",
       "      <th>region</th>\n",
       "      <th>extraction_type_class</th>\n",
       "      <th>payment_type</th>\n",
       "      <th>source_type</th>\n",
       "      <th>waterpoint_type</th>\n",
       "      <th>installer_type</th>\n",
       "      <th>...</th>\n",
       "      <th>funder_type_international aid</th>\n",
       "      <th>funder_type_ngo</th>\n",
       "      <th>funder_type_private companies</th>\n",
       "      <th>funder_type_religious organizations</th>\n",
       "      <th>scheme_management_grouped_government</th>\n",
       "      <th>scheme_management_grouped_other</th>\n",
       "      <th>scheme_management_grouped_private sector</th>\n",
       "      <th>scheme_management_grouped_water board</th>\n",
       "      <th>status_group</th>\n",
       "      <th>is_test</th>\n",
       "    </tr>\n",
       "  </thead>\n",
       "  <tbody>\n",
       "    <tr>\n",
       "      <th>0</th>\n",
       "      <td>-0.084999</td>\n",
       "      <td>2.053863</td>\n",
       "      <td>-0.041306</td>\n",
       "      <td>-0.540016</td>\n",
       "      <td>-0.633090</td>\n",
       "      <td>-0.521411</td>\n",
       "      <td>-0.897587</td>\n",
       "      <td>-1.112570</td>\n",
       "      <td>-0.510890</td>\n",
       "      <td>-0.005208</td>\n",
       "      <td>...</td>\n",
       "      <td>0</td>\n",
       "      <td>0</td>\n",
       "      <td>0</td>\n",
       "      <td>0</td>\n",
       "      <td>0</td>\n",
       "      <td>0</td>\n",
       "      <td>0</td>\n",
       "      <td>1</td>\n",
       "      <td>0</td>\n",
       "      <td>0</td>\n",
       "    </tr>\n",
       "    <tr>\n",
       "      <th>1</th>\n",
       "      <td>-0.100621</td>\n",
       "      <td>-0.965049</td>\n",
       "      <td>-0.379739</td>\n",
       "      <td>-0.540016</td>\n",
       "      <td>0.555492</td>\n",
       "      <td>-0.463637</td>\n",
       "      <td>0.771866</td>\n",
       "      <td>0.850673</td>\n",
       "      <td>-0.359301</td>\n",
       "      <td>3.266280</td>\n",
       "      <td>...</td>\n",
       "      <td>0</td>\n",
       "      <td>0</td>\n",
       "      <td>0</td>\n",
       "      <td>0</td>\n",
       "      <td>1</td>\n",
       "      <td>0</td>\n",
       "      <td>0</td>\n",
       "      <td>0</td>\n",
       "      <td>0</td>\n",
       "      <td>0</td>\n",
       "    </tr>\n",
       "    <tr>\n",
       "      <th>2</th>\n",
       "      <td>-0.100621</td>\n",
       "      <td>-0.965049</td>\n",
       "      <td>-0.379739</td>\n",
       "      <td>1.471270</td>\n",
       "      <td>0.131062</td>\n",
       "      <td>2.617222</td>\n",
       "      <td>0.771866</td>\n",
       "      <td>0.850673</td>\n",
       "      <td>2.622191</td>\n",
       "      <td>-0.005208</td>\n",
       "      <td>...</td>\n",
       "      <td>0</td>\n",
       "      <td>0</td>\n",
       "      <td>0</td>\n",
       "      <td>0</td>\n",
       "      <td>1</td>\n",
       "      <td>0</td>\n",
       "      <td>0</td>\n",
       "      <td>0</td>\n",
       "      <td>1</td>\n",
       "      <td>0</td>\n",
       "    </tr>\n",
       "    <tr>\n",
       "      <th>3</th>\n",
       "      <td>-0.100621</td>\n",
       "      <td>-0.965049</td>\n",
       "      <td>-0.379739</td>\n",
       "      <td>-1.053126</td>\n",
       "      <td>0.131062</td>\n",
       "      <td>-0.521411</td>\n",
       "      <td>-1.330306</td>\n",
       "      <td>-0.540840</td>\n",
       "      <td>-0.510890</td>\n",
       "      <td>-0.005208</td>\n",
       "      <td>...</td>\n",
       "      <td>1</td>\n",
       "      <td>0</td>\n",
       "      <td>0</td>\n",
       "      <td>0</td>\n",
       "      <td>1</td>\n",
       "      <td>0</td>\n",
       "      <td>0</td>\n",
       "      <td>0</td>\n",
       "      <td>1</td>\n",
       "      <td>0</td>\n",
       "    </tr>\n",
       "    <tr>\n",
       "      <th>4</th>\n",
       "      <td>-0.006889</td>\n",
       "      <td>0.511216</td>\n",
       "      <td>-0.125914</td>\n",
       "      <td>0.697368</td>\n",
       "      <td>0.135714</td>\n",
       "      <td>2.617222</td>\n",
       "      <td>-0.641415</td>\n",
       "      <td>0.850673</td>\n",
       "      <td>2.622191</td>\n",
       "      <td>-0.005208</td>\n",
       "      <td>...</td>\n",
       "      <td>0</td>\n",
       "      <td>0</td>\n",
       "      <td>0</td>\n",
       "      <td>0</td>\n",
       "      <td>1</td>\n",
       "      <td>0</td>\n",
       "      <td>0</td>\n",
       "      <td>0</td>\n",
       "      <td>1</td>\n",
       "      <td>0</td>\n",
       "    </tr>\n",
       "    <tr>\n",
       "      <th>...</th>\n",
       "      <td>...</td>\n",
       "      <td>...</td>\n",
       "      <td>...</td>\n",
       "      <td>...</td>\n",
       "      <td>...</td>\n",
       "      <td>...</td>\n",
       "      <td>...</td>\n",
       "      <td>...</td>\n",
       "      <td>...</td>\n",
       "      <td>...</td>\n",
       "      <td>...</td>\n",
       "      <td>...</td>\n",
       "      <td>...</td>\n",
       "      <td>...</td>\n",
       "      <td>...</td>\n",
       "      <td>...</td>\n",
       "      <td>...</td>\n",
       "      <td>...</td>\n",
       "      <td>...</td>\n",
       "      <td>...</td>\n",
       "      <td>...</td>\n",
       "    </tr>\n",
       "    <tr>\n",
       "      <th>59395</th>\n",
       "      <td>-0.038133</td>\n",
       "      <td>1.596408</td>\n",
       "      <td>0.741319</td>\n",
       "      <td>-1.230325</td>\n",
       "      <td>-1.769052</td>\n",
       "      <td>-0.521411</td>\n",
       "      <td>-1.330306</td>\n",
       "      <td>-1.112570</td>\n",
       "      <td>-0.510890</td>\n",
       "      <td>-0.005208</td>\n",
       "      <td>...</td>\n",
       "      <td>0</td>\n",
       "      <td>0</td>\n",
       "      <td>0</td>\n",
       "      <td>1</td>\n",
       "      <td>1</td>\n",
       "      <td>0</td>\n",
       "      <td>0</td>\n",
       "      <td>0</td>\n",
       "      <td>0</td>\n",
       "      <td>1</td>\n",
       "    </tr>\n",
       "    <tr>\n",
       "      <th>59396</th>\n",
       "      <td>0.055600</td>\n",
       "      <td>1.704639</td>\n",
       "      <td>-0.062458</td>\n",
       "      <td>-0.569630</td>\n",
       "      <td>-1.180350</td>\n",
       "      <td>-0.521411</td>\n",
       "      <td>-0.641415</td>\n",
       "      <td>-1.112570</td>\n",
       "      <td>2.622191</td>\n",
       "      <td>-0.281827</td>\n",
       "      <td>...</td>\n",
       "      <td>0</td>\n",
       "      <td>0</td>\n",
       "      <td>0</td>\n",
       "      <td>0</td>\n",
       "      <td>1</td>\n",
       "      <td>0</td>\n",
       "      <td>0</td>\n",
       "      <td>0</td>\n",
       "      <td>0</td>\n",
       "      <td>1</td>\n",
       "    </tr>\n",
       "    <tr>\n",
       "      <th>59397</th>\n",
       "      <td>-0.100621</td>\n",
       "      <td>-0.965049</td>\n",
       "      <td>-0.379739</td>\n",
       "      <td>0.335579</td>\n",
       "      <td>0.103144</td>\n",
       "      <td>-0.521411</td>\n",
       "      <td>0.771866</td>\n",
       "      <td>-1.112570</td>\n",
       "      <td>-0.510890</td>\n",
       "      <td>-0.281827</td>\n",
       "      <td>...</td>\n",
       "      <td>0</td>\n",
       "      <td>0</td>\n",
       "      <td>0</td>\n",
       "      <td>0</td>\n",
       "      <td>1</td>\n",
       "      <td>0</td>\n",
       "      <td>0</td>\n",
       "      <td>0</td>\n",
       "      <td>1</td>\n",
       "      <td>1</td>\n",
       "    </tr>\n",
       "    <tr>\n",
       "      <th>59398</th>\n",
       "      <td>-0.100621</td>\n",
       "      <td>-0.038596</td>\n",
       "      <td>-0.377623</td>\n",
       "      <td>0.697368</td>\n",
       "      <td>0.135714</td>\n",
       "      <td>-0.521411</td>\n",
       "      <td>0.771866</td>\n",
       "      <td>-1.112570</td>\n",
       "      <td>-0.510890</td>\n",
       "      <td>-0.005208</td>\n",
       "      <td>...</td>\n",
       "      <td>0</td>\n",
       "      <td>0</td>\n",
       "      <td>0</td>\n",
       "      <td>0</td>\n",
       "      <td>1</td>\n",
       "      <td>0</td>\n",
       "      <td>0</td>\n",
       "      <td>0</td>\n",
       "      <td>0</td>\n",
       "      <td>1</td>\n",
       "    </tr>\n",
       "    <tr>\n",
       "      <th>59399</th>\n",
       "      <td>-0.100621</td>\n",
       "      <td>1.098547</td>\n",
       "      <td>-0.377623</td>\n",
       "      <td>-0.569630</td>\n",
       "      <td>0.234762</td>\n",
       "      <td>-0.521411</td>\n",
       "      <td>0.771866</td>\n",
       "      <td>-1.112570</td>\n",
       "      <td>-0.510890</td>\n",
       "      <td>-0.281827</td>\n",
       "      <td>...</td>\n",
       "      <td>0</td>\n",
       "      <td>0</td>\n",
       "      <td>0</td>\n",
       "      <td>0</td>\n",
       "      <td>1</td>\n",
       "      <td>0</td>\n",
       "      <td>0</td>\n",
       "      <td>0</td>\n",
       "      <td>0</td>\n",
       "      <td>1</td>\n",
       "    </tr>\n",
       "  </tbody>\n",
       "</table>\n",
       "<p>59400 rows × 36 columns</p>\n",
       "</div>"
      ],
      "text/plain": [
       "       amount_tsh  gps_height  population     basin    region  \\\n",
       "0       -0.084999    2.053863   -0.041306 -0.540016 -0.633090   \n",
       "1       -0.100621   -0.965049   -0.379739 -0.540016  0.555492   \n",
       "2       -0.100621   -0.965049   -0.379739  1.471270  0.131062   \n",
       "3       -0.100621   -0.965049   -0.379739 -1.053126  0.131062   \n",
       "4       -0.006889    0.511216   -0.125914  0.697368  0.135714   \n",
       "...           ...         ...         ...       ...       ...   \n",
       "59395   -0.038133    1.596408    0.741319 -1.230325 -1.769052   \n",
       "59396    0.055600    1.704639   -0.062458 -0.569630 -1.180350   \n",
       "59397   -0.100621   -0.965049   -0.379739  0.335579  0.103144   \n",
       "59398   -0.100621   -0.038596   -0.377623  0.697368  0.135714   \n",
       "59399   -0.100621    1.098547   -0.377623 -0.569630  0.234762   \n",
       "\n",
       "       extraction_type_class  payment_type  source_type  waterpoint_type  \\\n",
       "0                  -0.521411     -0.897587    -1.112570        -0.510890   \n",
       "1                  -0.463637      0.771866     0.850673        -0.359301   \n",
       "2                   2.617222      0.771866     0.850673         2.622191   \n",
       "3                  -0.521411     -1.330306    -0.540840        -0.510890   \n",
       "4                   2.617222     -0.641415     0.850673         2.622191   \n",
       "...                      ...           ...          ...              ...   \n",
       "59395              -0.521411     -1.330306    -1.112570        -0.510890   \n",
       "59396              -0.521411     -0.641415    -1.112570         2.622191   \n",
       "59397              -0.521411      0.771866    -1.112570        -0.510890   \n",
       "59398              -0.521411      0.771866    -1.112570        -0.510890   \n",
       "59399              -0.521411      0.771866    -1.112570        -0.510890   \n",
       "\n",
       "       installer_type  ...  funder_type_international aid  funder_type_ngo  \\\n",
       "0           -0.005208  ...                              0                0   \n",
       "1            3.266280  ...                              0                0   \n",
       "2           -0.005208  ...                              0                0   \n",
       "3           -0.005208  ...                              1                0   \n",
       "4           -0.005208  ...                              0                0   \n",
       "...               ...  ...                            ...              ...   \n",
       "59395       -0.005208  ...                              0                0   \n",
       "59396       -0.281827  ...                              0                0   \n",
       "59397       -0.281827  ...                              0                0   \n",
       "59398       -0.005208  ...                              0                0   \n",
       "59399       -0.281827  ...                              0                0   \n",
       "\n",
       "       funder_type_private companies  funder_type_religious organizations  \\\n",
       "0                                  0                                    0   \n",
       "1                                  0                                    0   \n",
       "2                                  0                                    0   \n",
       "3                                  0                                    0   \n",
       "4                                  0                                    0   \n",
       "...                              ...                                  ...   \n",
       "59395                              0                                    1   \n",
       "59396                              0                                    0   \n",
       "59397                              0                                    0   \n",
       "59398                              0                                    0   \n",
       "59399                              0                                    0   \n",
       "\n",
       "       scheme_management_grouped_government  scheme_management_grouped_other  \\\n",
       "0                                         0                                0   \n",
       "1                                         1                                0   \n",
       "2                                         1                                0   \n",
       "3                                         1                                0   \n",
       "4                                         1                                0   \n",
       "...                                     ...                              ...   \n",
       "59395                                     1                                0   \n",
       "59396                                     1                                0   \n",
       "59397                                     1                                0   \n",
       "59398                                     1                                0   \n",
       "59399                                     1                                0   \n",
       "\n",
       "       scheme_management_grouped_private sector  \\\n",
       "0                                             0   \n",
       "1                                             0   \n",
       "2                                             0   \n",
       "3                                             0   \n",
       "4                                             0   \n",
       "...                                         ...   \n",
       "59395                                         0   \n",
       "59396                                         0   \n",
       "59397                                         0   \n",
       "59398                                         0   \n",
       "59399                                         0   \n",
       "\n",
       "       scheme_management_grouped_water board  status_group  is_test  \n",
       "0                                          1             0        0  \n",
       "1                                          0             0        0  \n",
       "2                                          0             1        0  \n",
       "3                                          0             1        0  \n",
       "4                                          0             1        0  \n",
       "...                                      ...           ...      ...  \n",
       "59395                                      0             0        1  \n",
       "59396                                      0             0        1  \n",
       "59397                                      0             1        1  \n",
       "59398                                      0             0        1  \n",
       "59399                                      0             0        1  \n",
       "\n",
       "[59400 rows x 36 columns]"
      ]
     },
     "execution_count": 53,
     "metadata": {},
     "output_type": "execute_result"
    }
   ],
   "source": [
    "data_processed = pd.concat([df_train,df_test], axis=0)\n",
    "\n",
    "# Reset index\n",
    "data_processed = data_processed.reset_index(drop=True)\n",
    "\n",
    "# Rename column 0 to status_group\n",
    "data_processed = data_processed.rename(columns={0: 'status_group'})\n",
    "\n",
    "data_processed"
   ]
  },
  {
   "cell_type": "markdown",
   "metadata": {},
   "source": [
    "# 6. MODEL CREATION\n",
    "# Overview"
   ]
  },
  {
   "cell_type": "markdown",
   "metadata": {},
   "source": [
    "Based on the descriptive and exploratory analysis conducted in the previous sections, and the model selection process detailed in the notebook [Go to Notebook 02_model_creation.ipynb](02_model_creation.ipynb), this section focuses on implementing a decision tree classifier model. The insights gained from the data understanding and initial modeling stages have guided the choice of this classifier."
   ]
  },
  {
   "cell_type": "markdown",
   "metadata": {},
   "source": [
    "# 6.1 Data Understanding"
   ]
  },
  {
   "cell_type": "markdown",
   "metadata": {},
   "source": [
    "## 6.1.1 Data Description"
   ]
  },
  {
   "cell_type": "markdown",
   "metadata": {},
   "source": [
    "This section will use the dataset: data_processed created in the previous section: DATA PREPROCESSING"
   ]
  },
  {
   "cell_type": "markdown",
   "metadata": {},
   "source": [
    "## 6.2 Import the database"
   ]
  },
  {
   "cell_type": "code",
   "execution_count": 54,
   "metadata": {},
   "outputs": [
    {
     "data": {
      "text/html": [
       "<div>\n",
       "<style scoped>\n",
       "    .dataframe tbody tr th:only-of-type {\n",
       "        vertical-align: middle;\n",
       "    }\n",
       "\n",
       "    .dataframe tbody tr th {\n",
       "        vertical-align: top;\n",
       "    }\n",
       "\n",
       "    .dataframe thead th {\n",
       "        text-align: right;\n",
       "    }\n",
       "</style>\n",
       "<table border=\"1\" class=\"dataframe\">\n",
       "  <thead>\n",
       "    <tr style=\"text-align: right;\">\n",
       "      <th></th>\n",
       "      <th>amount_tsh</th>\n",
       "      <th>gps_height</th>\n",
       "      <th>population</th>\n",
       "      <th>basin</th>\n",
       "      <th>region</th>\n",
       "      <th>extraction_type_class</th>\n",
       "      <th>payment_type</th>\n",
       "      <th>source_type</th>\n",
       "      <th>waterpoint_type</th>\n",
       "      <th>installer_type</th>\n",
       "      <th>...</th>\n",
       "      <th>funder_type_international aid</th>\n",
       "      <th>funder_type_ngo</th>\n",
       "      <th>funder_type_private companies</th>\n",
       "      <th>funder_type_religious organizations</th>\n",
       "      <th>scheme_management_grouped_government</th>\n",
       "      <th>scheme_management_grouped_other</th>\n",
       "      <th>scheme_management_grouped_private sector</th>\n",
       "      <th>scheme_management_grouped_water board</th>\n",
       "      <th>status_group</th>\n",
       "      <th>is_test</th>\n",
       "    </tr>\n",
       "  </thead>\n",
       "  <tbody>\n",
       "    <tr>\n",
       "      <th>0</th>\n",
       "      <td>-0.084999</td>\n",
       "      <td>2.053863</td>\n",
       "      <td>-0.041306</td>\n",
       "      <td>-0.540016</td>\n",
       "      <td>-0.633090</td>\n",
       "      <td>-0.521411</td>\n",
       "      <td>-0.897587</td>\n",
       "      <td>-1.112570</td>\n",
       "      <td>-0.510890</td>\n",
       "      <td>-0.005208</td>\n",
       "      <td>...</td>\n",
       "      <td>0</td>\n",
       "      <td>0</td>\n",
       "      <td>0</td>\n",
       "      <td>0</td>\n",
       "      <td>0</td>\n",
       "      <td>0</td>\n",
       "      <td>0</td>\n",
       "      <td>1</td>\n",
       "      <td>0</td>\n",
       "      <td>0</td>\n",
       "    </tr>\n",
       "    <tr>\n",
       "      <th>1</th>\n",
       "      <td>-0.100621</td>\n",
       "      <td>-0.965049</td>\n",
       "      <td>-0.379739</td>\n",
       "      <td>-0.540016</td>\n",
       "      <td>0.555492</td>\n",
       "      <td>-0.463637</td>\n",
       "      <td>0.771866</td>\n",
       "      <td>0.850673</td>\n",
       "      <td>-0.359301</td>\n",
       "      <td>3.266280</td>\n",
       "      <td>...</td>\n",
       "      <td>0</td>\n",
       "      <td>0</td>\n",
       "      <td>0</td>\n",
       "      <td>0</td>\n",
       "      <td>1</td>\n",
       "      <td>0</td>\n",
       "      <td>0</td>\n",
       "      <td>0</td>\n",
       "      <td>0</td>\n",
       "      <td>0</td>\n",
       "    </tr>\n",
       "    <tr>\n",
       "      <th>2</th>\n",
       "      <td>-0.100621</td>\n",
       "      <td>-0.965049</td>\n",
       "      <td>-0.379739</td>\n",
       "      <td>1.471270</td>\n",
       "      <td>0.131062</td>\n",
       "      <td>2.617222</td>\n",
       "      <td>0.771866</td>\n",
       "      <td>0.850673</td>\n",
       "      <td>2.622191</td>\n",
       "      <td>-0.005208</td>\n",
       "      <td>...</td>\n",
       "      <td>0</td>\n",
       "      <td>0</td>\n",
       "      <td>0</td>\n",
       "      <td>0</td>\n",
       "      <td>1</td>\n",
       "      <td>0</td>\n",
       "      <td>0</td>\n",
       "      <td>0</td>\n",
       "      <td>1</td>\n",
       "      <td>0</td>\n",
       "    </tr>\n",
       "    <tr>\n",
       "      <th>3</th>\n",
       "      <td>-0.100621</td>\n",
       "      <td>-0.965049</td>\n",
       "      <td>-0.379739</td>\n",
       "      <td>-1.053126</td>\n",
       "      <td>0.131062</td>\n",
       "      <td>-0.521411</td>\n",
       "      <td>-1.330306</td>\n",
       "      <td>-0.540840</td>\n",
       "      <td>-0.510890</td>\n",
       "      <td>-0.005208</td>\n",
       "      <td>...</td>\n",
       "      <td>1</td>\n",
       "      <td>0</td>\n",
       "      <td>0</td>\n",
       "      <td>0</td>\n",
       "      <td>1</td>\n",
       "      <td>0</td>\n",
       "      <td>0</td>\n",
       "      <td>0</td>\n",
       "      <td>1</td>\n",
       "      <td>0</td>\n",
       "    </tr>\n",
       "    <tr>\n",
       "      <th>4</th>\n",
       "      <td>-0.006889</td>\n",
       "      <td>0.511216</td>\n",
       "      <td>-0.125914</td>\n",
       "      <td>0.697368</td>\n",
       "      <td>0.135714</td>\n",
       "      <td>2.617222</td>\n",
       "      <td>-0.641415</td>\n",
       "      <td>0.850673</td>\n",
       "      <td>2.622191</td>\n",
       "      <td>-0.005208</td>\n",
       "      <td>...</td>\n",
       "      <td>0</td>\n",
       "      <td>0</td>\n",
       "      <td>0</td>\n",
       "      <td>0</td>\n",
       "      <td>1</td>\n",
       "      <td>0</td>\n",
       "      <td>0</td>\n",
       "      <td>0</td>\n",
       "      <td>1</td>\n",
       "      <td>0</td>\n",
       "    </tr>\n",
       "  </tbody>\n",
       "</table>\n",
       "<p>5 rows × 36 columns</p>\n",
       "</div>"
      ],
      "text/plain": [
       "   amount_tsh  gps_height  population     basin    region  \\\n",
       "0   -0.084999    2.053863   -0.041306 -0.540016 -0.633090   \n",
       "1   -0.100621   -0.965049   -0.379739 -0.540016  0.555492   \n",
       "2   -0.100621   -0.965049   -0.379739  1.471270  0.131062   \n",
       "3   -0.100621   -0.965049   -0.379739 -1.053126  0.131062   \n",
       "4   -0.006889    0.511216   -0.125914  0.697368  0.135714   \n",
       "\n",
       "   extraction_type_class  payment_type  source_type  waterpoint_type  \\\n",
       "0              -0.521411     -0.897587    -1.112570        -0.510890   \n",
       "1              -0.463637      0.771866     0.850673        -0.359301   \n",
       "2               2.617222      0.771866     0.850673         2.622191   \n",
       "3              -0.521411     -1.330306    -0.540840        -0.510890   \n",
       "4               2.617222     -0.641415     0.850673         2.622191   \n",
       "\n",
       "   installer_type  ...  funder_type_international aid  funder_type_ngo  \\\n",
       "0       -0.005208  ...                              0                0   \n",
       "1        3.266280  ...                              0                0   \n",
       "2       -0.005208  ...                              0                0   \n",
       "3       -0.005208  ...                              1                0   \n",
       "4       -0.005208  ...                              0                0   \n",
       "\n",
       "   funder_type_private companies  funder_type_religious organizations  \\\n",
       "0                              0                                    0   \n",
       "1                              0                                    0   \n",
       "2                              0                                    0   \n",
       "3                              0                                    0   \n",
       "4                              0                                    0   \n",
       "\n",
       "   scheme_management_grouped_government  scheme_management_grouped_other  \\\n",
       "0                                     0                                0   \n",
       "1                                     1                                0   \n",
       "2                                     1                                0   \n",
       "3                                     1                                0   \n",
       "4                                     1                                0   \n",
       "\n",
       "   scheme_management_grouped_private sector  \\\n",
       "0                                         0   \n",
       "1                                         0   \n",
       "2                                         0   \n",
       "3                                         0   \n",
       "4                                         0   \n",
       "\n",
       "   scheme_management_grouped_water board  status_group  is_test  \n",
       "0                                      1             0        0  \n",
       "1                                      0             0        0  \n",
       "2                                      0             1        0  \n",
       "3                                      0             1        0  \n",
       "4                                      0             1        0  \n",
       "\n",
       "[5 rows x 36 columns]"
      ]
     },
     "execution_count": 54,
     "metadata": {},
     "output_type": "execute_result"
    }
   ],
   "source": [
    "df = data_processed\n",
    "df.head()"
   ]
  },
  {
   "cell_type": "code",
   "execution_count": 55,
   "metadata": {},
   "outputs": [
    {
     "data": {
      "text/plain": [
       "(59400, 36)"
      ]
     },
     "execution_count": 55,
     "metadata": {},
     "output_type": "execute_result"
    }
   ],
   "source": [
    "df.shape"
   ]
  },
  {
   "cell_type": "code",
   "execution_count": 56,
   "metadata": {},
   "outputs": [],
   "source": [
    "df_train = df[df['is_test']==0]\n",
    "df_test = df[df['is_test']==1]"
   ]
  },
  {
   "cell_type": "code",
   "execution_count": 57,
   "metadata": {},
   "outputs": [],
   "source": [
    "y_train = df_train['status_group']\n",
    "X_train = df_train.drop(['status_group','is_test'], axis=1)\n",
    "\n",
    "y_test = df_test['status_group']\n",
    "X_test = df_test.drop(['status_group','is_test'], axis=1)"
   ]
  },
  {
   "cell_type": "markdown",
   "metadata": {},
   "source": [
    "## 6.3 Baseline Decision Tree Classifier Model Creation"
   ]
  },
  {
   "cell_type": "code",
   "execution_count": 58,
   "metadata": {
    "scrolled": false
   },
   "outputs": [
    {
     "data": {
      "image/png": "[encoded data removed]",
      "text/plain": [
       "<Figure size 864x432 with 1 Axes>"
      ]
     },
     "metadata": {
      "needs_background": "light"
     },
     "output_type": "display_data"
    }
   ],
   "source": [
    "# Initialize the Decision Tree model\n",
    "decision_tree = DecisionTreeClassifier()\n",
    "\n",
    "# Fit the model to the training data\n",
    "decision_tree.fit(X_train, y_train)\n",
    "\n",
    "# Predict probabilities on the training and test set\n",
    "y_pred_prob_tree_train = decision_tree.predict_proba(X_train)[:, 1]  # Training probabilities\n",
    "y_pred_prob_tree_test = decision_tree.predict_proba(X_test)[:, 1]  # Test probabilities\n",
    "\n",
    "# Compute ROC curve and AUC for training data\n",
    "fpr_tree_train, tpr_tree_train, _ = roc_curve(y_train, y_pred_prob_tree_train)\n",
    "auc_tree_train = auc(fpr_tree_train, tpr_tree_train)\n",
    "\n",
    "# Compute ROC curve and AUC for test data\n",
    "fpr_tree_test, tpr_tree_test, _ = roc_curve(y_test, y_pred_prob_tree_test)\n",
    "auc_tree_test = auc(fpr_tree_test, tpr_tree_test)\n",
    "\n",
    "# Plotting ROC Curves\n",
    "plt.figure(figsize=(12, 6))\n",
    "plt.plot(fpr_tree_train, tpr_tree_train, label='Decision Tree Train (area = {:.2f})'.format(auc_tree_train))\n",
    "plt.plot(fpr_tree_test, tpr_tree_test, color='red', linestyle='--', label='Decision Tree Test (area = {:.2f})'.format(auc_tree_test))\n",
    "plt.plot([0, 1], [0, 1], 'k--')\n",
    "plt.xlabel('False Positive Rate')\n",
    "plt.ylabel('True Positive Rate')\n",
    "plt.title('ROC Curve - Decision Tree')\n",
    "plt.legend(loc=\"lower right\")\n",
    "plt.show()"
   ]
  },
  {
   "cell_type": "markdown",
   "metadata": {},
   "source": [
    "## 6.4 Hyper tuning"
   ]
  },
  {
   "cell_type": "markdown",
   "metadata": {},
   "source": [
    "We performed hyperparameter tuning with the Decision Tree classifier and Logistic Regression in the notebook: 02_model_creation.ipynb. We identified the parameters that yielded the best results. For a detailed step-by-step guide, please refer to [Go to Notebook 02_model_creation.ipynb](02_model_creation.ipynb)"
   ]
  },
  {
   "cell_type": "markdown",
   "metadata": {},
   "source": [
    "The code below uses the best parameters to compute the Decision Tree Classifier."
   ]
  },
  {
   "cell_type": "code",
   "execution_count": 59,
   "metadata": {},
   "outputs": [
    {
     "data": {
      "text/html": [
       "<style>#sk-container-id-1 {color: black;}#sk-container-id-1 pre{padding: 0;}#sk-container-id-1 div.sk-toggleable {background-color: white;}#sk-container-id-1 label.sk-toggleable__label {cursor: pointer;display: block;width: 100%;margin-bottom: 0;padding: 0.3em;box-sizing: border-box;text-align: center;}#sk-container-id-1 label.sk-toggleable__label-arrow:before {content: \"▸\";float: left;margin-right: 0.25em;color: #696969;}#sk-container-id-1 label.sk-toggleable__label-arrow:hover:before {color: black;}#sk-container-id-1 div.sk-estimator:hover label.sk-toggleable__label-arrow:before {color: black;}#sk-container-id-1 div.sk-toggleable__content {max-height: 0;max-width: 0;overflow: hidden;text-align: left;background-color: #f0f8ff;}#sk-container-id-1 div.sk-toggleable__content pre {margin: 0.2em;color: black;border-radius: 0.25em;background-color: #f0f8ff;}#sk-container-id-1 input.sk-toggleable__control:checked~div.sk-toggleable__content {max-height: 200px;max-width: 100%;overflow: auto;}#sk-container-id-1 input.sk-toggleable__control:checked~label.sk-toggleable__label-arrow:before {content: \"▾\";}#sk-container-id-1 div.sk-estimator input.sk-toggleable__control:checked~label.sk-toggleable__label {background-color: #d4ebff;}#sk-container-id-1 div.sk-label input.sk-toggleable__control:checked~label.sk-toggleable__label {background-color: #d4ebff;}#sk-container-id-1 input.sk-hidden--visually {border: 0;clip: rect(1px 1px 1px 1px);clip: rect(1px, 1px, 1px, 1px);height: 1px;margin: -1px;overflow: hidden;padding: 0;position: absolute;width: 1px;}#sk-container-id-1 div.sk-estimator {font-family: monospace;background-color: #f0f8ff;border: 1px dotted black;border-radius: 0.25em;box-sizing: border-box;margin-bottom: 0.5em;}#sk-container-id-1 div.sk-estimator:hover {background-color: #d4ebff;}#sk-container-id-1 div.sk-parallel-item::after {content: \"\";width: 100%;border-bottom: 1px solid gray;flex-grow: 1;}#sk-container-id-1 div.sk-label:hover label.sk-toggleable__label {background-color: #d4ebff;}#sk-container-id-1 div.sk-serial::before {content: \"\";position: absolute;border-left: 1px solid gray;box-sizing: border-box;top: 0;bottom: 0;left: 50%;z-index: 0;}#sk-container-id-1 div.sk-serial {display: flex;flex-direction: column;align-items: center;background-color: white;padding-right: 0.2em;padding-left: 0.2em;position: relative;}#sk-container-id-1 div.sk-item {position: relative;z-index: 1;}#sk-container-id-1 div.sk-parallel {display: flex;align-items: stretch;justify-content: center;background-color: white;position: relative;}#sk-container-id-1 div.sk-item::before, #sk-container-id-1 div.sk-parallel-item::before {content: \"\";position: absolute;border-left: 1px solid gray;box-sizing: border-box;top: 0;bottom: 0;left: 50%;z-index: -1;}#sk-container-id-1 div.sk-parallel-item {display: flex;flex-direction: column;z-index: 1;position: relative;background-color: white;}#sk-container-id-1 div.sk-parallel-item:first-child::after {align-self: flex-end;width: 50%;}#sk-container-id-1 div.sk-parallel-item:last-child::after {align-self: flex-start;width: 50%;}#sk-container-id-1 div.sk-parallel-item:only-child::after {width: 0;}#sk-container-id-1 div.sk-dashed-wrapped {border: 1px dashed gray;margin: 0 0.4em 0.5em 0.4em;box-sizing: border-box;padding-bottom: 0.4em;background-color: white;}#sk-container-id-1 div.sk-label label {font-family: monospace;font-weight: bold;display: inline-block;line-height: 1.2em;}#sk-container-id-1 div.sk-label-container {text-align: center;}#sk-container-id-1 div.sk-container {/* jupyter's `normalize.less` sets `[hidden] { display: none; }` but bootstrap.min.css set `[hidden] { display: none !important; }` so we also need the `!important` here to be able to override the default hidden behavior on the sphinx rendered scikit-learn.org. See: https://github.com/scikit-learn/scikit-learn/issues/21755 */display: inline-block !important;position: relative;}#sk-container-id-1 div.sk-text-repr-fallback {display: none;}</style><div id=\"sk-container-id-1\" class=\"sk-top-container\"><div class=\"sk-text-repr-fallback\"><pre>DecisionTreeClassifier(class_weight=&#x27;balanced&#x27;, max_depth=12,\n",
       "                       min_samples_leaf=4, min_samples_split=5)</pre><b>In a Jupyter environment, please rerun this cell to show the HTML representation or trust the notebook. <br />On GitHub, the HTML representation is unable to render, please try loading this page with nbviewer.org.</b></div><div class=\"sk-container\" hidden><div class=\"sk-item\"><div class=\"sk-estimator sk-toggleable\"><input class=\"sk-toggleable__control sk-hidden--visually\" id=\"sk-estimator-id-1\" type=\"checkbox\" checked><label for=\"sk-estimator-id-1\" class=\"sk-toggleable__label sk-toggleable__label-arrow\">DecisionTreeClassifier</label><div class=\"sk-toggleable__content\"><pre>DecisionTreeClassifier(class_weight=&#x27;balanced&#x27;, max_depth=12,\n",
       "                       min_samples_leaf=4, min_samples_split=5)</pre></div></div></div></div></div>"
      ],
      "text/plain": [
       "DecisionTreeClassifier(class_weight='balanced', max_depth=12,\n",
       "                       min_samples_leaf=4, min_samples_split=5)"
      ]
     },
     "execution_count": 59,
     "metadata": {},
     "output_type": "execute_result"
    }
   ],
   "source": [
    "# Define the best parameters obtained from grid search\n",
    "best_params = {'max_depth': 12, 'max_features': None, 'min_samples_leaf': 4, 'min_samples_split': 5}\n",
    "\n",
    "# Initialize the Decision Tree model\n",
    "best_tree = DecisionTreeClassifier(class_weight=\"balanced\", **best_params)\n",
    "\n",
    "# Fit the model on the training data\n",
    "best_tree.fit(X_train, y_train)"
   ]
  },
  {
   "cell_type": "markdown",
   "metadata": {},
   "source": [
    "Let's do the curve ROC and see the values AUC with the values for this Decision TreeClassifier "
   ]
  },
  {
   "cell_type": "code",
   "execution_count": 60,
   "metadata": {},
   "outputs": [
    {
     "data": {
      "image/png": "[encoded data removed]",
      "text/plain": [
       "<Figure size 864x432 with 1 Axes>"
      ]
     },
     "metadata": {
      "needs_background": "light"
     },
     "output_type": "display_data"
    }
   ],
   "source": [
    "# Predict probabilities on the training and test set\n",
    "y_pred_prob_tree_train = best_tree.predict_proba(X_train)[:, 1]  # Training probabilities\n",
    "y_pred_prob_tree_test = best_tree.predict_proba(X_test)[:, 1]  # Test probabilities\n",
    "\n",
    "# Let's apply a threshold to the probabilities of y_pred_prob_tree_test to determine y_pred_dt\n",
    "y_pred_dt = np.where(y_pred_prob_tree_test >= 0.40, 1, 0)\n",
    "\n",
    "# Compute ROC curve and AUC for training data\n",
    "fpr_tree_train, tpr_tree_train, _ = roc_curve(y_train, y_pred_prob_tree_train)\n",
    "auc_tree_train = auc(fpr_tree_train, tpr_tree_train)\n",
    "\n",
    "# Compute ROC curve and AUC for test data\n",
    "fpr_tree_test, tpr_tree_test, _ = roc_curve(y_test, y_pred_prob_tree_test)\n",
    "auc_tree_test = auc(fpr_tree_test, tpr_tree_test)\n",
    "\n",
    "# Plotting ROC Curves\n",
    "plt.figure(figsize=(12, 6))\n",
    "plt.plot(fpr_tree_train, tpr_tree_train, label='Decision Tree Train (area = {:.2f})'.format(auc_tree_train))\n",
    "plt.plot(fpr_tree_test, tpr_tree_test, color='red', linestyle='--', label='Decision Tree Test (area = {:.2f})'.format(auc_tree_test))\n",
    "plt.plot([0, 1], [0, 1], 'k--')\n",
    "plt.xlabel('False Positive Rate')\n",
    "plt.ylabel('True Positive Rate')\n",
    "plt.title('ROC Curve - Decision Tree')\n",
    "plt.legend(loc=\"lower right\")\n",
    "plt.show()"
   ]
  },
  {
   "cell_type": "markdown",
   "metadata": {},
   "source": [
    "## 6.5 Confusion matrix"
   ]
  },
  {
   "cell_type": "code",
   "execution_count": 63,
   "metadata": {},
   "outputs": [],
   "source": [
    "# Confusion Matrix for Decision Tree\n",
    "cm_tree = confusion_matrix(y_test, y_pred_dt)"
   ]
  },
  {
   "cell_type": "code",
   "execution_count": 64,
   "metadata": {},
   "outputs": [
    {
     "data": {
      "image/png": "[encoded data removed]",
      "text/plain": [
       "<Figure size 864x432 with 1 Axes>"
      ]
     },
     "metadata": {
      "needs_background": "light"
     },
     "output_type": "display_data"
    }
   ],
   "source": [
    "# Normalize the confusion matrix by row (actual class)\n",
    "cm_tree_normalized = cm_tree.astype('float') / cm_tree.sum(axis=1)[:, np.newaxis]\n",
    "\n",
    "# Create labels for each cell\n",
    "labels = np.array([[\"{0}\\n{1:.2%}\".format(value, percentage) for value, percentage in zip(row, row_normalized)]\n",
    "                   for row, row_normalized in zip(cm_tree, cm_tree_normalized)])\n",
    "\n",
    "# Plotting the Confusion Matrix for Decision Tree\n",
    "plt.figure(figsize=(12, 6))\n",
    "sns.heatmap(cm_tree_normalized, annot=labels, fmt='', cmap='Blues', xticklabels=['Functional', 'Non-Functional'], yticklabels=['Functional', 'Non-Functional'], cbar=False)\n",
    "plt.xlabel('Predicted')\n",
    "plt.ylabel('Actual')\n",
    "plt.title('Confusion Matrix - Decision Tree')\n",
    "plt.show()"
   ]
  },
  {
   "cell_type": "markdown",
   "metadata": {},
   "source": [
    "False Negatives (FN): 32.70%\n",
    "\n",
    "- Impact: A rate of false negatives means that a significant proportion of the positive class (e.g., non-functional pumps) is being misclassified as negative (e.g., functional pumps). \n",
    "- Business Problem Impact: This could result in increased downtime for the pumps, higher maintenance costs over time, and a negative impact on customer satisfaction.\n",
    "\n",
    "False Positives (FP): 14.50%\n",
    "\n",
    "- Impact: A relatively low rate of false positives indicates that only a small proportion of the negative class (e.g., functional pumps) is being misclassified as positive (e.g., non-functional pumps). While this is less severe compared to false negatives, it still leads to unnecessary maintenance actions being taken on functional pumps.\n",
    "- Business Problem Impact: This could lead to inefficient allocation of resources, where time and effort are spent on checking or repairing pumps that are actually functional. This can increase operational costs and divert attention from genuinely non-functional pumps that need repairs."
   ]
  },
  {
   "cell_type": "markdown",
   "metadata": {},
   "source": [
    "# 6.6 Feature importance"
   ]
  },
  {
   "cell_type": "markdown",
   "metadata": {},
   "source": [
    "We are now going to execute a feature importance code to be able to see the level of importance of all variables when doing the predictions"
   ]
  },
  {
   "cell_type": "code",
   "execution_count": 65,
   "metadata": {
    "scrolled": false
   },
   "outputs": [
    {
     "data": {
      "image/png": "[encoded data removed]",
      "text/plain": [
       "<Figure size 864x432 with 1 Axes>"
      ]
     },
     "metadata": {
      "needs_background": "light"
     },
     "output_type": "display_data"
    }
   ],
   "source": [
    "# Obtain the most important features affecting the status of a pump\n",
    "importances = best_tree.feature_importances_\n",
    "\n",
    "# Obtener los nombres de las características\n",
    "feature_names = X_train.columns\n",
    "\n",
    "# Create a bar graph for the importance of the characteristics\n",
    "# Order importances in descending order\n",
    "indexes = np.argsort(importances)[::-1]\n",
    "\n",
    "# Get the top 5 important features\n",
    "top_indexes = indexes[:5]\n",
    "\n",
    "plt.figure(figsize=(12, 6))\n",
    "plt.title(\"Top 5 Feature Importances\")\n",
    "plt.barh(range(5), importances[top_indexes], align=\"center\")\n",
    "plt.yticks(range(5), feature_names[top_indexes])\n",
    "plt.xlabel(\"Importance\")\n",
    "plt.ylabel(\"Feature\")\n",
    "plt.tight_layout()\n",
    "plt.gca().invert_yaxis()  # Invert the y-axis to have the most important feature at the top\n",
    "plt.show()"
   ]
  },
  {
   "cell_type": "markdown",
   "metadata": {},
   "source": [
    "# 7. PREDICTIONS"
   ]
  },
  {
   "cell_type": "markdown",
   "metadata": {},
   "source": [
    "In this section, we will apply all the data transformations that were performed in the previous sections to the test dataset. Additionally, we will generate predictions for the test dataset using the best decision tree classifier model trained in the preceding section. To see the steps followed in detail, please click on this link [Go to Notebook 03_predict.ipynb](03_predict.ipynb).\n",
    "\n",
    "With these steps, we aim to obtain predicted values and determine whether a pump will be functional or non-functional."
   ]
  },
  {
   "cell_type": "markdown",
   "metadata": {},
   "source": [
    "## 7.1 Define global variables"
   ]
  },
  {
   "cell_type": "code",
   "execution_count": 66,
   "metadata": {},
   "outputs": [],
   "source": [
    "INPUT_PATH_Test_set_values = \"../Data/Test_set_values.csv\""
   ]
  },
  {
   "cell_type": "markdown",
   "metadata": {},
   "source": [
    "## 7.2 Import the dataset"
   ]
  },
  {
   "cell_type": "code",
   "execution_count": 67,
   "metadata": {},
   "outputs": [
    {
     "data": {
      "text/html": [
       "<div>\n",
       "<style scoped>\n",
       "    .dataframe tbody tr th:only-of-type {\n",
       "        vertical-align: middle;\n",
       "    }\n",
       "\n",
       "    .dataframe tbody tr th {\n",
       "        vertical-align: top;\n",
       "    }\n",
       "\n",
       "    .dataframe thead th {\n",
       "        text-align: right;\n",
       "    }\n",
       "</style>\n",
       "<table border=\"1\" class=\"dataframe\">\n",
       "  <thead>\n",
       "    <tr style=\"text-align: right;\">\n",
       "      <th></th>\n",
       "      <th>id</th>\n",
       "      <th>amount_tsh</th>\n",
       "      <th>date_recorded</th>\n",
       "      <th>funder</th>\n",
       "      <th>gps_height</th>\n",
       "      <th>installer</th>\n",
       "      <th>longitude</th>\n",
       "      <th>latitude</th>\n",
       "      <th>wpt_name</th>\n",
       "      <th>num_private</th>\n",
       "      <th>...</th>\n",
       "      <th>payment_type</th>\n",
       "      <th>water_quality</th>\n",
       "      <th>quality_group</th>\n",
       "      <th>quantity</th>\n",
       "      <th>quantity_group</th>\n",
       "      <th>source</th>\n",
       "      <th>source_type</th>\n",
       "      <th>source_class</th>\n",
       "      <th>waterpoint_type</th>\n",
       "      <th>waterpoint_type_group</th>\n",
       "    </tr>\n",
       "  </thead>\n",
       "  <tbody>\n",
       "    <tr>\n",
       "      <th>0</th>\n",
       "      <td>50785</td>\n",
       "      <td>0.0</td>\n",
       "      <td>2013-02-04</td>\n",
       "      <td>Dmdd</td>\n",
       "      <td>1996</td>\n",
       "      <td>DMDD</td>\n",
       "      <td>35.290799</td>\n",
       "      <td>-4.059696</td>\n",
       "      <td>Dinamu Secondary School</td>\n",
       "      <td>0</td>\n",
       "      <td>...</td>\n",
       "      <td>never pay</td>\n",
       "      <td>soft</td>\n",
       "      <td>good</td>\n",
       "      <td>seasonal</td>\n",
       "      <td>seasonal</td>\n",
       "      <td>rainwater harvesting</td>\n",
       "      <td>rainwater harvesting</td>\n",
       "      <td>surface</td>\n",
       "      <td>other</td>\n",
       "      <td>other</td>\n",
       "    </tr>\n",
       "    <tr>\n",
       "      <th>1</th>\n",
       "      <td>51630</td>\n",
       "      <td>0.0</td>\n",
       "      <td>2013-02-04</td>\n",
       "      <td>Government Of Tanzania</td>\n",
       "      <td>1569</td>\n",
       "      <td>DWE</td>\n",
       "      <td>36.656709</td>\n",
       "      <td>-3.309214</td>\n",
       "      <td>Kimnyak</td>\n",
       "      <td>0</td>\n",
       "      <td>...</td>\n",
       "      <td>never pay</td>\n",
       "      <td>soft</td>\n",
       "      <td>good</td>\n",
       "      <td>insufficient</td>\n",
       "      <td>insufficient</td>\n",
       "      <td>spring</td>\n",
       "      <td>spring</td>\n",
       "      <td>groundwater</td>\n",
       "      <td>communal standpipe</td>\n",
       "      <td>communal standpipe</td>\n",
       "    </tr>\n",
       "    <tr>\n",
       "      <th>2</th>\n",
       "      <td>17168</td>\n",
       "      <td>0.0</td>\n",
       "      <td>2013-02-01</td>\n",
       "      <td>NaN</td>\n",
       "      <td>1567</td>\n",
       "      <td>NaN</td>\n",
       "      <td>34.767863</td>\n",
       "      <td>-5.004344</td>\n",
       "      <td>Puma Secondary</td>\n",
       "      <td>0</td>\n",
       "      <td>...</td>\n",
       "      <td>never pay</td>\n",
       "      <td>soft</td>\n",
       "      <td>good</td>\n",
       "      <td>insufficient</td>\n",
       "      <td>insufficient</td>\n",
       "      <td>rainwater harvesting</td>\n",
       "      <td>rainwater harvesting</td>\n",
       "      <td>surface</td>\n",
       "      <td>other</td>\n",
       "      <td>other</td>\n",
       "    </tr>\n",
       "    <tr>\n",
       "      <th>3</th>\n",
       "      <td>45559</td>\n",
       "      <td>0.0</td>\n",
       "      <td>2013-01-22</td>\n",
       "      <td>Finn Water</td>\n",
       "      <td>267</td>\n",
       "      <td>FINN WATER</td>\n",
       "      <td>38.058046</td>\n",
       "      <td>-9.418672</td>\n",
       "      <td>Kwa Mzee Pange</td>\n",
       "      <td>0</td>\n",
       "      <td>...</td>\n",
       "      <td>unknown</td>\n",
       "      <td>soft</td>\n",
       "      <td>good</td>\n",
       "      <td>dry</td>\n",
       "      <td>dry</td>\n",
       "      <td>shallow well</td>\n",
       "      <td>shallow well</td>\n",
       "      <td>groundwater</td>\n",
       "      <td>other</td>\n",
       "      <td>other</td>\n",
       "    </tr>\n",
       "    <tr>\n",
       "      <th>4</th>\n",
       "      <td>49871</td>\n",
       "      <td>500.0</td>\n",
       "      <td>2013-03-27</td>\n",
       "      <td>Bruder</td>\n",
       "      <td>1260</td>\n",
       "      <td>BRUDER</td>\n",
       "      <td>35.006123</td>\n",
       "      <td>-10.950412</td>\n",
       "      <td>Kwa Mzee Turuka</td>\n",
       "      <td>0</td>\n",
       "      <td>...</td>\n",
       "      <td>monthly</td>\n",
       "      <td>soft</td>\n",
       "      <td>good</td>\n",
       "      <td>enough</td>\n",
       "      <td>enough</td>\n",
       "      <td>spring</td>\n",
       "      <td>spring</td>\n",
       "      <td>groundwater</td>\n",
       "      <td>communal standpipe</td>\n",
       "      <td>communal standpipe</td>\n",
       "    </tr>\n",
       "  </tbody>\n",
       "</table>\n",
       "<p>5 rows × 40 columns</p>\n",
       "</div>"
      ],
      "text/plain": [
       "      id  amount_tsh date_recorded                  funder  gps_height  \\\n",
       "0  50785         0.0    2013-02-04                    Dmdd        1996   \n",
       "1  51630         0.0    2013-02-04  Government Of Tanzania        1569   \n",
       "2  17168         0.0    2013-02-01                     NaN        1567   \n",
       "3  45559         0.0    2013-01-22              Finn Water         267   \n",
       "4  49871       500.0    2013-03-27                  Bruder        1260   \n",
       "\n",
       "    installer  longitude   latitude                 wpt_name  num_private  \\\n",
       "0        DMDD  35.290799  -4.059696  Dinamu Secondary School            0   \n",
       "1         DWE  36.656709  -3.309214                  Kimnyak            0   \n",
       "2         NaN  34.767863  -5.004344           Puma Secondary            0   \n",
       "3  FINN WATER  38.058046  -9.418672           Kwa Mzee Pange            0   \n",
       "4      BRUDER  35.006123 -10.950412          Kwa Mzee Turuka            0   \n",
       "\n",
       "   ... payment_type water_quality quality_group      quantity  quantity_group  \\\n",
       "0  ...    never pay          soft          good      seasonal        seasonal   \n",
       "1  ...    never pay          soft          good  insufficient    insufficient   \n",
       "2  ...    never pay          soft          good  insufficient    insufficient   \n",
       "3  ...      unknown          soft          good           dry             dry   \n",
       "4  ...      monthly          soft          good        enough          enough   \n",
       "\n",
       "                 source           source_type  source_class  \\\n",
       "0  rainwater harvesting  rainwater harvesting       surface   \n",
       "1                spring                spring   groundwater   \n",
       "2  rainwater harvesting  rainwater harvesting       surface   \n",
       "3          shallow well          shallow well   groundwater   \n",
       "4                spring                spring   groundwater   \n",
       "\n",
       "      waterpoint_type waterpoint_type_group  \n",
       "0               other                 other  \n",
       "1  communal standpipe    communal standpipe  \n",
       "2               other                 other  \n",
       "3               other                 other  \n",
       "4  communal standpipe    communal standpipe  \n",
       "\n",
       "[5 rows x 40 columns]"
      ]
     },
     "execution_count": 67,
     "metadata": {},
     "output_type": "execute_result"
    }
   ],
   "source": [
    "df_predict = pd.read_csv(INPUT_PATH_Test_set_values)\n",
    "df_predict.head()"
   ]
  },
  {
   "cell_type": "code",
   "execution_count": 68,
   "metadata": {},
   "outputs": [],
   "source": [
    "# Modifying columns to keep the structure of the data that the models where trained with\n",
    "\n",
    "df_predict['permit'] = df_predict['permit'].replace({True:1})\n",
    "\n",
    "df_predict['public_meeting'] = df_predict['public_meeting'].replace({True:1})"
   ]
  },
  {
   "cell_type": "markdown",
   "metadata": {},
   "source": [
    "## 7.3 Apply the same data transformations on df_predict as the ones done in the data understanding section"
   ]
  },
  {
   "cell_type": "markdown",
   "metadata": {},
   "source": [
    "## 7.3.1 Applying transformation functions"
   ]
  },
  {
   "cell_type": "markdown",
   "metadata": {},
   "source": [
    "**Column 'funder'**"
   ]
  },
  {
   "cell_type": "code",
   "execution_count": 69,
   "metadata": {},
   "outputs": [
    {
     "name": "stdout",
     "output_type": "stream",
     "text": [
      "Individual/Other           9955\n",
      "Government                 2438\n",
      "International Aid          2093\n",
      "Religious Organizations     329\n",
      "NGO                          29\n",
      "Private Companies             6\n",
      "Name: funder_type, dtype: int64\n"
     ]
    }
   ],
   "source": [
    "# Handling NaN values with a filler string like 'Unknown'\n",
    "df_predict['funder'] = df_predict['funder'].fillna('Unknown').astype(str)\n",
    "\n",
    "# Apply the mapping function to the 'funder' column\n",
    "df_predict['funder_type'] = df_predict['funder'].apply(categorize_funder)\n",
    "\n",
    "# Check the categorized data\n",
    "print(df_predict['funder_type'].value_counts())"
   ]
  },
  {
   "cell_type": "markdown",
   "metadata": {},
   "source": [
    "**Column 'installer'**"
   ]
  },
  {
   "cell_type": "code",
   "execution_count": 70,
   "metadata": {},
   "outputs": [
    {
     "name": "stdout",
     "output_type": "stream",
     "text": [
      "Other              8480\n",
      "DWE                4537\n",
      "Government          926\n",
      "Community           599\n",
      "Institutional       185\n",
      "NGO                  93\n",
      "Private Company      30\n",
      "Name: installer_type, dtype: int64\n"
     ]
    }
   ],
   "source": [
    "# Handling NaN values with a filler string like 'Unknown'\n",
    "df_predict['installer'] = df_predict['installer'].fillna('Unknown').astype(str)\n",
    "\n",
    "# Apply the mapping function to the 'installer' column\n",
    "df_predict['installer_type'] = df_predict['installer'].apply(categorize_installer)\n",
    "\n",
    "# Now you can check your categorized data\n",
    "print(df_predict['installer_type'].value_counts())"
   ]
  },
  {
   "cell_type": "markdown",
   "metadata": {},
   "source": [
    "**Column 'scheme_management_grouped'**"
   ]
  },
  {
   "cell_type": "code",
   "execution_count": 71,
   "metadata": {},
   "outputs": [
    {
     "name": "stdout",
     "output_type": "stream",
     "text": [
      "Government        0.699663\n",
      "Community         0.131852\n",
      "Other             0.083838\n",
      "Water Board       0.048081\n",
      "Private Sector    0.036566\n",
      "Name: scheme_management_grouped, dtype: float64\n"
     ]
    }
   ],
   "source": [
    "# Apply the grouping function to the 'scheme_management' column\n",
    "df_predict['scheme_management_grouped'] = df_predict['scheme_management'].apply(group_scheme_management)\n",
    "\n",
    "# Check the new value counts to see the grouped data\n",
    "print(df_predict['scheme_management_grouped'].value_counts(normalize=True))"
   ]
  },
  {
   "cell_type": "markdown",
   "metadata": {},
   "source": [
    "## 7.3.2 Converting data types"
   ]
  },
  {
   "cell_type": "code",
   "execution_count": 72,
   "metadata": {},
   "outputs": [],
   "source": [
    "# Converting 'construction_year' to object\n",
    "df_predict['construction_year'] = df_predict['construction_year'].astype('object')"
   ]
  },
  {
   "cell_type": "code",
   "execution_count": 73,
   "metadata": {},
   "outputs": [
    {
     "data": {
      "text/plain": [
       "Index(['id', 'amount_tsh', 'date_recorded', 'funder', 'gps_height',\n",
       "       'installer', 'longitude', 'latitude', 'wpt_name', 'num_private',\n",
       "       'basin', 'subvillage', 'region', 'region_code', 'district_code', 'lga',\n",
       "       'ward', 'population', 'public_meeting', 'recorded_by',\n",
       "       'scheme_management', 'scheme_name', 'permit', 'construction_year',\n",
       "       'extraction_type', 'extraction_type_group', 'extraction_type_class',\n",
       "       'management', 'management_group', 'payment', 'payment_type',\n",
       "       'water_quality', 'quality_group', 'quantity', 'quantity_group',\n",
       "       'source', 'source_type', 'source_class', 'waterpoint_type',\n",
       "       'waterpoint_type_group', 'funder_type', 'installer_type',\n",
       "       'scheme_management_grouped'],\n",
       "      dtype='object')"
      ]
     },
     "execution_count": 73,
     "metadata": {},
     "output_type": "execute_result"
    }
   ],
   "source": [
    "df_predict.columns"
   ]
  },
  {
   "cell_type": "markdown",
   "metadata": {},
   "source": [
    "## 7.3.3 Drop unnecesary columns"
   ]
  },
  {
   "cell_type": "code",
   "execution_count": 74,
   "metadata": {},
   "outputs": [],
   "source": [
    "drop_column_list = ['scheme_name', 'num_private', 'wpt_name', 'subvillage', 'lga', 'ward', 'recorded_by','extraction_type_group',\n",
    "                    'extraction_type', 'management', 'payment', 'water_quality', 'quantity', 'source', 'source_class',\n",
    "                    'waterpoint_type_group', 'date_recorded','funder','installer','scheme_management',\n",
    "                    'longitude','latitude','region_code','district_code','construction_year']"
   ]
  },
  {
   "cell_type": "code",
   "execution_count": 75,
   "metadata": {},
   "outputs": [],
   "source": [
    "df_predict = df_predict.drop(drop_column_list, axis=1)"
   ]
  },
  {
   "cell_type": "markdown",
   "metadata": {},
   "source": [
    "## 7.3.4 Cleaning the data set"
   ]
  },
  {
   "cell_type": "code",
   "execution_count": 76,
   "metadata": {},
   "outputs": [],
   "source": [
    "# Apply the cleaning function to each object-type column in the DataFrame\n",
    "for col in df_predict.select_dtypes(include='object').columns:\n",
    "    df_predict[col] = df_predict[col].apply(clean_text)"
   ]
  },
  {
   "cell_type": "markdown",
   "metadata": {},
   "source": [
    "## 7.3.5 Fillna with the modes calculated in the data preprocessing section"
   ]
  },
  {
   "cell_type": "code",
   "execution_count": 77,
   "metadata": {},
   "outputs": [
    {
     "data": {
      "text/plain": [
       "id                           0.000000\n",
       "amount_tsh                   0.000000\n",
       "gps_height                   0.000000\n",
       "basin                        0.000000\n",
       "region                       0.000000\n",
       "population                   0.000000\n",
       "public_meeting               5.528620\n",
       "permit                       4.962963\n",
       "extraction_type_class        0.000000\n",
       "management_group             0.000000\n",
       "payment_type                 0.000000\n",
       "quality_group                0.000000\n",
       "quantity_group               0.000000\n",
       "source_type                  0.000000\n",
       "waterpoint_type              0.000000\n",
       "funder_type                  0.000000\n",
       "installer_type               0.000000\n",
       "scheme_management_grouped    0.000000\n",
       "dtype: float64"
      ]
     },
     "execution_count": 77,
     "metadata": {},
     "output_type": "execute_result"
    }
   ],
   "source": [
    "(df_predict.isna().sum()/len(df_predict))*100"
   ]
  },
  {
   "cell_type": "markdown",
   "metadata": {},
   "source": [
    "From the python script 01_data_preprocessing we know that public_meeting_mode is 1.0 and the permit_mode is 1.0. So we are going to directly fill the NaNs of public_meeting and of permit with the value 1.0"
   ]
  },
  {
   "cell_type": "markdown",
   "metadata": {},
   "source": [
    "**Fillna in column 'public_meeting'**"
   ]
  },
  {
   "cell_type": "code",
   "execution_count": 78,
   "metadata": {},
   "outputs": [],
   "source": [
    "df_predict['public_meeting'].fillna(1.0, inplace=True)"
   ]
  },
  {
   "cell_type": "markdown",
   "metadata": {},
   "source": [
    "**Fillna in column 'permit'**"
   ]
  },
  {
   "cell_type": "code",
   "execution_count": 79,
   "metadata": {},
   "outputs": [],
   "source": [
    "df_predict['permit'].fillna(1.0, inplace=True)"
   ]
  },
  {
   "cell_type": "markdown",
   "metadata": {},
   "source": [
    "Let's check that there are no more null-values left"
   ]
  },
  {
   "cell_type": "code",
   "execution_count": 80,
   "metadata": {},
   "outputs": [
    {
     "data": {
      "text/plain": [
       "id                           0.0\n",
       "amount_tsh                   0.0\n",
       "gps_height                   0.0\n",
       "basin                        0.0\n",
       "region                       0.0\n",
       "population                   0.0\n",
       "public_meeting               0.0\n",
       "permit                       0.0\n",
       "extraction_type_class        0.0\n",
       "management_group             0.0\n",
       "payment_type                 0.0\n",
       "quality_group                0.0\n",
       "quantity_group               0.0\n",
       "source_type                  0.0\n",
       "waterpoint_type              0.0\n",
       "funder_type                  0.0\n",
       "installer_type               0.0\n",
       "scheme_management_grouped    0.0\n",
       "dtype: float64"
      ]
     },
     "execution_count": 80,
     "metadata": {},
     "output_type": "execute_result"
    }
   ],
   "source": [
    "(df_predict.isna().sum()/len(df_predict))*100"
   ]
  },
  {
   "cell_type": "markdown",
   "metadata": {},
   "source": [
    "## 7.3.6 Doing target enconder on the categorical columns"
   ]
  },
  {
   "cell_type": "markdown",
   "metadata": {},
   "source": [
    "Let's apply a one hot encoder for the categorical columns that have 6 or less categories"
   ]
  },
  {
   "cell_type": "code",
   "execution_count": 81,
   "metadata": {},
   "outputs": [],
   "source": [
    "# Capture categorical columns from X_train for encoding\n",
    "categorical_columns = df_predict.select_dtypes(include=['object', 'category']).columns\n",
    "\n",
    "\n",
    "# Encoding the categorical columns in df_predict\n",
    "for col in categorical_columns:\n",
    "    if df_predict[col].nunique() <= 6:\n",
    "        # Apply OneHotEncoder for columns with 6 or fewer unique values\n",
    "        df_predict = pd.get_dummies(df_predict, columns=[col], drop_first=True)"
   ]
  },
  {
   "cell_type": "markdown",
   "metadata": {},
   "source": [
    "Let's call in the saved fits (for the categorical columns that have more than 6 categories) applied to the categorical columns in the 01_data_preprocessing script"
   ]
  },
  {
   "cell_type": "code",
   "execution_count": 82,
   "metadata": {},
   "outputs": [
    {
     "data": {
      "text/plain": [
       "Index(['id', 'amount_tsh', 'gps_height', 'basin', 'region', 'population',\n",
       "       'extraction_type_class', 'payment_type', 'source_type',\n",
       "       'waterpoint_type', 'installer_type', 'public_meeting_1', 'permit_1',\n",
       "       'management_group_other', 'management_group_parastatal',\n",
       "       'management_group_unknown', 'management_group_usergroup',\n",
       "       'quality_group_fluoride', 'quality_group_good', 'quality_group_milky',\n",
       "       'quality_group_salty', 'quality_group_unknown', 'quantity_group_enough',\n",
       "       'quantity_group_insufficient', 'quantity_group_seasonal',\n",
       "       'quantity_group_unknown', 'funder_type_individualother',\n",
       "       'funder_type_international aid', 'funder_type_ngo',\n",
       "       'funder_type_private companies', 'funder_type_religious organizations',\n",
       "       'scheme_management_grouped_government',\n",
       "       'scheme_management_grouped_other',\n",
       "       'scheme_management_grouped_private sector',\n",
       "       'scheme_management_grouped_water board'],\n",
       "      dtype='object')"
      ]
     },
     "execution_count": 82,
     "metadata": {},
     "output_type": "execute_result"
    }
   ],
   "source": [
    "df_predict.columns"
   ]
  },
  {
   "cell_type": "code",
   "execution_count": 83,
   "metadata": {},
   "outputs": [],
   "source": [
    "# Column 'basin'\n",
    "basin_pickle = pickle.load(open('model_objects/basin_target_encoder.pickle', 'rb'))\n",
    "df_predict['basin'] = basin_pickle.transform(df_predict['basin'])\n",
    "\n",
    "# Column 'extraction_type_class'\n",
    "extraction_type_class_pickle = pickle.load(open('model_objects/extraction_type_class_target_encoder.pickle', 'rb'))\n",
    "df_predict['extraction_type_class'] = extraction_type_class_pickle.transform(df_predict['extraction_type_class'])\n",
    "\n",
    "# Column 'installer_type'\n",
    "installer_type_pickle = pickle.load(open('model_objects/installer_type_target_encoder.pickle', 'rb'))\n",
    "df_predict['installer_type'] = installer_type_pickle.transform(df_predict['installer_type'])\n",
    "\n",
    "# Column 'payment_type'\n",
    "payment_type_pickle = pickle.load(open('model_objects/payment_type_target_encoder.pickle', 'rb'))\n",
    "df_predict['payment_type'] = payment_type_pickle.transform(df_predict['payment_type'])\n",
    "\n",
    "# Column 'region_target'\n",
    "region_target_pickle = pickle.load(open('model_objects/region_target_encoder.pickle', 'rb'))\n",
    "df_predict['region'] = region_target_pickle.transform(df_predict['region'])\n",
    "\n",
    "# Column 'source_type'\n",
    "source_type_pickle = pickle.load(open('model_objects/source_type_target_encoder.pickle', 'rb'))\n",
    "df_predict['source_type'] = source_type_pickle.transform(df_predict['source_type'])\n",
    "\n",
    "# Column 'waterpoint_type'\n",
    "waterpoint_type_pickle = pickle.load(open('model_objects/waterpoint_type_target_encoder.pickle', 'rb'))\n",
    "df_predict['waterpoint_type'] = waterpoint_type_pickle.transform(df_predict['waterpoint_type'])"
   ]
  },
  {
   "cell_type": "markdown",
   "metadata": {},
   "source": [
    "## 7.3.7 Dealing with numerical columns"
   ]
  },
  {
   "cell_type": "markdown",
   "metadata": {},
   "source": [
    "Let's call in the saved fits applied to the numerical columns in the 01_data_preprocessing script"
   ]
  },
  {
   "cell_type": "code",
   "execution_count": 84,
   "metadata": {},
   "outputs": [],
   "source": [
    "# Capture numerical columns\n",
    "numerical_columns = df_predict.select_dtypes(include=['int64', 'float64']).columns\n",
    "\n",
    "# Let's also drop column 'id' from the numerical_columns as they don't serve for the modeling\n",
    "numerical_columns = numerical_columns.drop('id')\n",
    "\n",
    "# The desired order of columns according to when it was fitted in notebook 01\n",
    "desired_order = [\n",
    "    'amount_tsh', 'gps_height', 'population', 'basin', 'region',\n",
    "    'extraction_type_class', 'payment_type', 'source_type',\n",
    "    'waterpoint_type', 'installer_type'\n",
    "]\n",
    "\n",
    "# Numerical Columns\n",
    "numerical_columns_pickle = pickle.load(open('model_objects/numerical_columns_scaler.pkl', 'rb'))\n",
    "df_predict[desired_order] = numerical_columns_pickle.transform(df_predict[desired_order])"
   ]
  },
  {
   "cell_type": "markdown",
   "metadata": {},
   "source": [
    "## 7.3.8 Apply the Decision Tree Classifier created in the model creation section"
   ]
  },
  {
   "cell_type": "code",
   "execution_count": 85,
   "metadata": {},
   "outputs": [],
   "source": [
    "# Loading the pickle for the best Decision Tree Classifier\n",
    "best_tree_pickle = pickle.load(open('model_objects/best_tree.pkl', 'rb'))\n",
    "\n",
    "# Let's drop the 'id' column\n",
    "df_predict_copy = df_predict.drop('id', axis=1)\n",
    "\n",
    "df_predict_copy.rename(columns={'public_meeting_1':'public_meeting_1.0', 'permit_1':'permit_1.0'}, inplace=True)\n",
    "\n",
    "# Let's reorder the columns\n",
    "df_predict_copy = df_predict_copy[list(best_tree_pickle.feature_names_in_)]"
   ]
  },
  {
   "cell_type": "code",
   "execution_count": 86,
   "metadata": {},
   "outputs": [],
   "source": [
    "# Decision Tree Classifier\n",
    "df_predict['status_group'] = best_tree_pickle.predict_proba(df_predict_copy)[:, 1]"
   ]
  },
  {
   "cell_type": "code",
   "execution_count": 87,
   "metadata": {},
   "outputs": [],
   "source": [
    "# Apply a threshold to the probabilities of status_group to determine to which status group each id belongs to\n",
    "df_predict['status_group_class'] = df_predict['status_group'].map(lambda x: 'Non-functional' if x>=0.4 else 'Functional')"
   ]
  },
  {
   "cell_type": "code",
   "execution_count": 88,
   "metadata": {},
   "outputs": [
    {
     "data": {
      "text/html": [
       "<div>\n",
       "<style scoped>\n",
       "    .dataframe tbody tr th:only-of-type {\n",
       "        vertical-align: middle;\n",
       "    }\n",
       "\n",
       "    .dataframe tbody tr th {\n",
       "        vertical-align: top;\n",
       "    }\n",
       "\n",
       "    .dataframe thead th {\n",
       "        text-align: right;\n",
       "    }\n",
       "</style>\n",
       "<table border=\"1\" class=\"dataframe\">\n",
       "  <thead>\n",
       "    <tr style=\"text-align: right;\">\n",
       "      <th></th>\n",
       "      <th>id</th>\n",
       "      <th>status_group</th>\n",
       "      <th>status_group_class</th>\n",
       "    </tr>\n",
       "  </thead>\n",
       "  <tbody>\n",
       "    <tr>\n",
       "      <th>0</th>\n",
       "      <td>50785</td>\n",
       "      <td>0.348329</td>\n",
       "      <td>Functional</td>\n",
       "    </tr>\n",
       "    <tr>\n",
       "      <th>1</th>\n",
       "      <td>51630</td>\n",
       "      <td>0.000000</td>\n",
       "      <td>Functional</td>\n",
       "    </tr>\n",
       "    <tr>\n",
       "      <th>2</th>\n",
       "      <td>17168</td>\n",
       "      <td>0.000000</td>\n",
       "      <td>Functional</td>\n",
       "    </tr>\n",
       "    <tr>\n",
       "      <th>3</th>\n",
       "      <td>45559</td>\n",
       "      <td>0.989969</td>\n",
       "      <td>Non-functional</td>\n",
       "    </tr>\n",
       "    <tr>\n",
       "      <th>4</th>\n",
       "      <td>49871</td>\n",
       "      <td>0.179576</td>\n",
       "      <td>Functional</td>\n",
       "    </tr>\n",
       "    <tr>\n",
       "      <th>...</th>\n",
       "      <td>...</td>\n",
       "      <td>...</td>\n",
       "      <td>...</td>\n",
       "    </tr>\n",
       "    <tr>\n",
       "      <th>14845</th>\n",
       "      <td>39307</td>\n",
       "      <td>0.866786</td>\n",
       "      <td>Non-functional</td>\n",
       "    </tr>\n",
       "    <tr>\n",
       "      <th>14846</th>\n",
       "      <td>18990</td>\n",
       "      <td>0.255741</td>\n",
       "      <td>Functional</td>\n",
       "    </tr>\n",
       "    <tr>\n",
       "      <th>14847</th>\n",
       "      <td>28749</td>\n",
       "      <td>0.038544</td>\n",
       "      <td>Functional</td>\n",
       "    </tr>\n",
       "    <tr>\n",
       "      <th>14848</th>\n",
       "      <td>33492</td>\n",
       "      <td>0.698860</td>\n",
       "      <td>Non-functional</td>\n",
       "    </tr>\n",
       "    <tr>\n",
       "      <th>14849</th>\n",
       "      <td>68707</td>\n",
       "      <td>0.994873</td>\n",
       "      <td>Non-functional</td>\n",
       "    </tr>\n",
       "  </tbody>\n",
       "</table>\n",
       "<p>14850 rows × 3 columns</p>\n",
       "</div>"
      ],
      "text/plain": [
       "          id  status_group status_group_class\n",
       "0      50785      0.348329         Functional\n",
       "1      51630      0.000000         Functional\n",
       "2      17168      0.000000         Functional\n",
       "3      45559      0.989969     Non-functional\n",
       "4      49871      0.179576         Functional\n",
       "...      ...           ...                ...\n",
       "14845  39307      0.866786     Non-functional\n",
       "14846  18990      0.255741         Functional\n",
       "14847  28749      0.038544         Functional\n",
       "14848  33492      0.698860     Non-functional\n",
       "14849  68707      0.994873     Non-functional\n",
       "\n",
       "[14850 rows x 3 columns]"
      ]
     },
     "execution_count": 88,
     "metadata": {},
     "output_type": "execute_result"
    }
   ],
   "source": [
    "df_predict[['id','status_group', 'status_group_class']]"
   ]
  },
  {
   "cell_type": "markdown",
   "metadata": {},
   "source": [
    "# 8. Conclusion"
   ]
  },
  {
   "attachments": {
    "imagen-3.png": {
     "image/png": "[encoded data removed]"
    }
   },
   "cell_type": "markdown",
   "metadata": {},
   "source": [
    "Considering the distribution of the dependent variable\n",
    "\n",
    "![imagen-3.png](attachment:imagen-3.png)\n",
    "\n",
    "As we can see there is not an imbalance problem even though the majority of pumps are functional. "
   ]
  },
  {
   "attachments": {
    "imagen-2.png": {
     "image/png": "[encoded data removed]"
    }
   },
   "cell_type": "markdown",
   "metadata": {},
   "source": [
    "Diving into the model results, let's begin by looking into the confusion matrix\n",
    "\n",
    "![imagen-2.png](attachment:imagen-2.png)\n",
    "\n",
    "The confusion matrix indicates that the model has a relatively low rate of false negatives (21.19%). The false positive rate (21.67%) is relatively low, meaning fewer resources will be wasted on unnecessary maintenance. However, the primary concern should be reducing the false negative rate to ensure that non-functional pumps are correctly identified and repaired promptly. The result is now 21.19%, which is somewhat low and satisfactory, but further progress should be made to reduce this even further."
   ]
  },
  {
   "cell_type": "markdown",
   "metadata": {},
   "source": [
    "Based on the metrics, the best Recall score is obtained with a Decision Tree Classifier. Moreover, the AUC for this model is of 0.87 for the test. In the case of the Logistic Regression model, the recall score was worse even and it had an AUC score (of 0.82)."
   ]
  },
  {
   "attachments": {
    "imagen-7.png": {
     "image/png": "[encoded data removed]"
    },
    "imagen-8.png": {
     "image/png": "[encoded data removed]"
    },
    "imagen-9.png": {
     "image/png": "[encoded data removed]"
    }
   },
   "cell_type": "markdown",
   "metadata": {},
   "source": [
    "The variables that are most important and that permit us to best descriminate are:\n",
    "1. waterpoint_type\n",
    "2. quantity_group\n",
    "3. payment_type\n",
    "\n",
    "We are interested in these 3 variables because they are the ones that have the most influence when determining whether a pump is functional or non-functional. \n",
    "\n",
    "Here we will show the contingency tables for each variable divided into functional, functional with repairs, and non functional pumps:\n",
    "\n",
    "1. ![imagen-7.png](attachment:imagen-7.png)\n",
    "    \n",
    "----------------------------\n",
    "\n",
    "\n",
    "2. ![imagen-8.png](attachment:imagen-8.png)\n",
    "\n",
    "----------------------------\n",
    "\n",
    "3. ![imagen-9.png](attachment:imagen-9.png)"
   ]
  },
  {
   "cell_type": "markdown",
   "metadata": {},
   "source": [
    "# 9. Recommendations"
   ]
  },
  {
   "cell_type": "markdown",
   "metadata": {},
   "source": [
    "1. Considering that most of the functional pumps have monthly payment plans or a per bucket, the Tanzanian government can consider modifying the existing payment plans of those pumps where the payments are different from those payment types, so that the chance of the pump being functional can be increased."
   ]
  },
  {
   "cell_type": "markdown",
   "metadata": {},
   "source": [
    "2. Considering that almost none of the functional pumps are dry, it is possible to verify which pumps are dry as a proxy variable to know if they are functional or not and thus focus efforts on repairing them."
   ]
  },
  {
   "cell_type": "markdown",
   "metadata": {},
   "source": [
    "3. Considering that non-functional pumps have in most cases a waterpoint_type different from cattle trough, communal standpipe, communal standpipe multiple, dam, hand pump and improved spring, it is possible to verify which pumps do not have these waterpoint_types as a proxy variable to know if they are functional or not and thus focus efforts on repairing them."
   ]
  }
 ],
 "metadata": {
  "kernelspec": {
   "display_name": "Python 3",
   "language": "python",
   "name": "python3"
  },
  "language_info": {
   "codemirror_mode": {
    "name": "ipython",
    "version": 3
   },
   "file_extension": ".py",
   "mimetype": "text/x-python",
   "name": "python",
   "nbconvert_exporter": "python",
   "pygments_lexer": "ipython3",
   "version": "3.8.5"
  }
 },
 "nbformat": 4,
 "nbformat_minor": 5
}
